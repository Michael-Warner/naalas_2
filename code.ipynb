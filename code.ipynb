{
 "cells": [
  {
   "cell_type": "code",
   "execution_count": 4,
   "metadata": {},
   "outputs": [],
   "source": [
    "import ee  # Import the Google Earth Engine library\n",
    "from osgeo import gdal  # Import GDAL\n",
    "import geopandas as gpd  # To handle shapefiles\n",
    "import fiona \n",
    "from sklearn.ensemble import RandomForestClassifier  # Machine Learning library\n",
    "import matplotlib.pyplot as plt  # Plotting library\n",
    "\n",
    "# Initialize the Earth Engine API\n",
    "ee.Initialize()"
   ]
  },
  {
   "cell_type": "code",
   "execution_count": 5,
   "metadata": {},
   "outputs": [],
   "source": [
    "fiona.drvsupport.supported_drivers['libkml'] = 'rw' \n",
    "fiona.drvsupport.supported_drivers['LIBKML'] = 'rw'"
   ]
  },
  {
   "cell_type": "code",
   "execution_count": 7,
   "metadata": {},
   "outputs": [
    {
     "ename": "EEException",
     "evalue": "Invalid geometry.",
     "output_type": "error",
     "traceback": [
      "\u001b[1;31m---------------------------------------------------------------------------\u001b[0m",
      "\u001b[1;31mEEException\u001b[0m                               Traceback (most recent call last)",
      "\u001b[1;32mc:\\Users\\warne\\Desktop\\Projects\\naalas_2\\code.ipynb Cell 3\u001b[0m line \u001b[0;36m2\n\u001b[0;32m     <a href='vscode-notebook-cell:/c%3A/Users/warne/Desktop/Projects/naalas_2/code.ipynb#W1sZmlsZQ%3D%3D?line=16'>17</a>\u001b[0m     coordinates_list\u001b[39m.\u001b[39mappend(coords)\n\u001b[0;32m     <a href='vscode-notebook-cell:/c%3A/Users/warne/Desktop/Projects/naalas_2/code.ipynb#W1sZmlsZQ%3D%3D?line=18'>19</a>\u001b[0m \u001b[39m# Now let's create a MultiLineString object in Earth Engine\u001b[39;00m\n\u001b[1;32m---> <a href='vscode-notebook-cell:/c%3A/Users/warne/Desktop/Projects/naalas_2/code.ipynb#W1sZmlsZQ%3D%3D?line=19'>20</a>\u001b[0m ee_lineStrings \u001b[39m=\u001b[39m ee\u001b[39m.\u001b[39;49mGeometry\u001b[39m.\u001b[39;49mMultiLineString(coordinates_list)\n",
      "File \u001b[1;32mc:\\Users\\warne\\anaconda3\\envs\\gee\\lib\\site-packages\\ee\\geometry.py:480\u001b[0m, in \u001b[0;36mGeometry.MultiLineString\u001b[1;34m(coords, proj, geodesic, maxError, *args)\u001b[0m\n\u001b[0;32m    450\u001b[0m \u001b[39m\u001b[39m\u001b[39m\"\"\"Constructs an ee.Geometry describing a MultiLineString.\u001b[39;00m\n\u001b[0;32m    451\u001b[0m \n\u001b[0;32m    452\u001b[0m \u001b[39mCreate a GeoJSON MultiLineString from either a list of points, or an array\u001b[39;00m\n\u001b[1;32m   (...)\u001b[0m\n\u001b[0;32m    476\u001b[0m \u001b[39m  An ee.Geometry describing a MultiLineString.\u001b[39;00m\n\u001b[0;32m    477\u001b[0m \u001b[39m\"\"\"\u001b[39;00m\n\u001b[0;32m    478\u001b[0m all_args \u001b[39m=\u001b[39m Geometry\u001b[39m.\u001b[39m_GetSpecifiedArgs((coords, proj, geodesic, maxError) \u001b[39m+\u001b[39m\n\u001b[0;32m    479\u001b[0m                                       args)\n\u001b[1;32m--> 480\u001b[0m \u001b[39mreturn\u001b[39;00m Geometry(Geometry\u001b[39m.\u001b[39;49m_parseArgs(\u001b[39m'\u001b[39;49m\u001b[39mMultiLineString\u001b[39;49m\u001b[39m'\u001b[39;49m, \u001b[39m3\u001b[39;49m, all_args))\n",
      "File \u001b[1;32mc:\\Users\\warne\\anaconda3\\envs\\gee\\lib\\site-packages\\ee\\geometry.py:763\u001b[0m, in \u001b[0;36mGeometry._parseArgs\u001b[1;34m(ctor_name, depth, args)\u001b[0m\n\u001b[0;32m    760\u001b[0m \u001b[39melse\u001b[39;00m:\n\u001b[0;32m    761\u001b[0m   \u001b[39m# Everything can be handled here, so check the depth and init this object.\u001b[39;00m\n\u001b[0;32m    762\u001b[0m   result[\u001b[39m'\u001b[39m\u001b[39mtype\u001b[39m\u001b[39m'\u001b[39m] \u001b[39m=\u001b[39m ctor_name\n\u001b[1;32m--> 763\u001b[0m   result[\u001b[39m'\u001b[39m\u001b[39mcoordinates\u001b[39m\u001b[39m'\u001b[39m] \u001b[39m=\u001b[39m Geometry\u001b[39m.\u001b[39;49m_fixDepth(depth, result[\u001b[39m'\u001b[39;49m\u001b[39mcoordinates\u001b[39;49m\u001b[39m'\u001b[39;49m])\n\u001b[0;32m    764\u001b[0m   \u001b[39m# Enable evenOdd by default for any kind of polygon.\u001b[39;00m\n\u001b[0;32m    765\u001b[0m   \u001b[39mif\u001b[39;00m (\u001b[39m'\u001b[39m\u001b[39mevenOdd\u001b[39m\u001b[39m'\u001b[39m \u001b[39mnot\u001b[39;00m \u001b[39min\u001b[39;00m result \u001b[39mand\u001b[39;00m\n\u001b[0;32m    766\u001b[0m       ctor_name \u001b[39min\u001b[39;00m [\u001b[39m'\u001b[39m\u001b[39mPolygon\u001b[39m\u001b[39m'\u001b[39m, \u001b[39m'\u001b[39m\u001b[39mRectangle\u001b[39m\u001b[39m'\u001b[39m, \u001b[39m'\u001b[39m\u001b[39mMultiPolygon\u001b[39m\u001b[39m'\u001b[39m]):\n",
      "File \u001b[1;32mc:\\Users\\warne\\anaconda3\\envs\\gee\\lib\\site-packages\\ee\\geometry.py:824\u001b[0m, in \u001b[0;36mGeometry._fixDepth\u001b[1;34m(depth, coords)\u001b[0m\n\u001b[0;32m    821\u001b[0m   count \u001b[39m+\u001b[39m\u001b[39m=\u001b[39m \u001b[39m1\u001b[39m\n\u001b[0;32m    823\u001b[0m \u001b[39mif\u001b[39;00m Geometry\u001b[39m.\u001b[39m_isValidCoordinates(coords) \u001b[39m!=\u001b[39m depth:\n\u001b[1;32m--> 824\u001b[0m   \u001b[39mraise\u001b[39;00m ee_exception\u001b[39m.\u001b[39mEEException(\u001b[39m'\u001b[39m\u001b[39mInvalid geometry.\u001b[39m\u001b[39m'\u001b[39m)\n\u001b[0;32m    826\u001b[0m \u001b[39m# Empty arrays should not be wrapped.\u001b[39;00m\n\u001b[0;32m    827\u001b[0m item \u001b[39m=\u001b[39m coords\n",
      "\u001b[1;31mEEException\u001b[0m: Invalid geometry."
     ]
    }
   ],
   "source": [
    "# Load a shapefile using Geopandas\n",
    "shapefile_path = 'Data\\\\Naalas&Ganga_Buff\\\\ganga_buff_shp.zip'\n",
    "region = gpd.read_file(shapefile_path)\n",
    "\n",
    "# Convert the shapefile to an Earth Engine object\n",
    "ee_shape = ee.Geometry.Polygon([list(pair) for pair in region['geometry'][0].exterior.coords])\n",
    "\n",
    "# Load the KML file\n",
    "kml_path = 'Data\\\\Naalas&Ganga_Buff\\\\Naala_1.kml'\n",
    "lineStrings = gpd.read_file(kml_path)\n",
    "\n",
    "# Assuming you want to use all LineStrings in the KML to create a MultiLineString\n",
    "coordinates_list = []\n",
    "for line in lineStrings.geometry:\n",
    "    # Extract the coordinates for the LineString\n",
    "    coords = list(line.coords)\n",
    "    coordinates_list.append(coords)\n",
    "\n",
    "# Now let's create a MultiLineString object in Earth Engine\n",
    "ee_lineStrings = ee.Geometry.MultiLineString(coordinates_list)\n"
   ]
  },
  {
   "cell_type": "code",
   "execution_count": null,
   "metadata": {},
   "outputs": [],
   "source": []
  }
 ],
 "metadata": {
  "kernelspec": {
   "display_name": "gee",
   "language": "python",
   "name": "python3"
  },
  "language_info": {
   "codemirror_mode": {
    "name": "ipython",
    "version": 3
   },
   "file_extension": ".py",
   "mimetype": "text/x-python",
   "name": "python",
   "nbconvert_exporter": "python",
   "pygments_lexer": "ipython3",
   "version": "3.10.12"
  }
 },
 "nbformat": 4,
 "nbformat_minor": 2
}
