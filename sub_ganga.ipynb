{
 "cells": [
  {
   "cell_type": "markdown",
   "id": "6eb66e46",
   "metadata": {},
   "source": [
    "# Creating Coastal Wetlands Forests Habitat Suitability Dataset \n"
   ]
  },
  {
   "cell_type": "markdown",
   "id": "16c6205f",
   "metadata": {},
   "source": [
    "# Imports"
   ]
  },
  {
   "cell_type": "code",
   "execution_count": 2,
   "id": "21677d74",
   "metadata": {},
   "outputs": [],
   "source": [
    "from dataset_builder_original import EEDatasetBuilderOriginal\n",
    "import geemap\n",
    "import ee\n",
    "import os\n",
    "import numpy as np\n",
    "import rasterio\n",
    "import dask.array as da"
   ]
  },
  {
   "cell_type": "code",
   "execution_count": 3,
   "metadata": {},
   "outputs": [
    {
     "data": {
      "text/html": [
       "<p>To authorize access needed by Earth Engine, open the following\n",
       "        URL in a web browser and follow the instructions:</p>\n",
       "        <p><a href=https://code.earthengine.google.com/client-auth?scopes=https%3A//www.googleapis.com/auth/earthengine%20https%3A//www.googleapis.com/auth/devstorage.full_control&request_id=aKnijC5Q9e6KMRq92_F28cwMJHwfbzHff_PY37xwlyY&tc=elrKVJgt-7yZAyXwpe9z6DbzbuLmJ_MbJfAKuOKn0Hw&cc=Gn0YHvflWlUPx72LES06Talc4ejPxk5HQXLOwa-Az0Y>https://code.earthengine.google.com/client-auth?scopes=https%3A//www.googleapis.com/auth/earthengine%20https%3A//www.googleapis.com/auth/devstorage.full_control&request_id=aKnijC5Q9e6KMRq92_F28cwMJHwfbzHff_PY37xwlyY&tc=elrKVJgt-7yZAyXwpe9z6DbzbuLmJ_MbJfAKuOKn0Hw&cc=Gn0YHvflWlUPx72LES06Talc4ejPxk5HQXLOwa-Az0Y</a></p>\n",
       "        <p>The authorization workflow will generate a code, which you should paste in the box below.</p>\n",
       "        "
      ],
      "text/plain": [
       "<IPython.core.display.HTML object>"
      ]
     },
     "metadata": {},
     "output_type": "display_data"
    },
    {
     "name": "stdout",
     "output_type": "stream",
     "text": [
      "\n",
      "Successfully saved authorization token.\n"
     ]
    }
   ],
   "source": [
    "# Trigger the authentication flow.\n",
    "ee.Authenticate()"
   ]
  },
  {
   "cell_type": "markdown",
   "id": "14eaea5c",
   "metadata": {
    "tags": []
   },
   "source": [
    "# Map"
   ]
  },
  {
   "cell_type": "code",
   "execution_count": 4,
   "id": "0c34885f",
   "metadata": {},
   "outputs": [
    {
     "data": {
      "application/vnd.jupyter.widget-view+json": {
       "model_id": "6390de5cc72a40328b6c106098f50c91",
       "version_major": 2,
       "version_minor": 0
      },
      "text/plain": [
       "Map(center=[29.7666636, 78.1999992], controls=(WidgetControl(options=['position', 'transparent_bg'], widget=HB…"
      ]
     },
     "metadata": {},
     "output_type": "display_data"
    }
   ],
   "source": [
    "Map = geemap.Map(center=[29.7666636 , 78.1999992], zoom=7)\n",
    "Map"
   ]
  },
  {
   "cell_type": "markdown",
   "id": "6f2358e1",
   "metadata": {
    "tags": []
   },
   "source": [
    "# Dataset builder"
   ]
  },
  {
   "cell_type": "code",
   "execution_count": 5,
   "id": "1a09c00b",
   "metadata": {},
   "outputs": [],
   "source": [
    "# Build ee dataset builder\n",
    "ee_dataset_builder = EEDatasetBuilderOriginal()"
   ]
  },
  {
   "cell_type": "code",
   "execution_count": 7,
   "metadata": {},
   "outputs": [],
   "source": [
    "# buffer zone for ganga river\n",
    "ganga_buff = ee.FeatureCollection('projects/nikhilrajdeep/assets/Buffer_Ganga_river')"
   ]
  },
  {
   "cell_type": "code",
   "execution_count": 8,
   "id": "5a5cc7bf",
   "metadata": {},
   "outputs": [],
   "source": [
    "subsection_clip = ee.FeatureCollection(\"projects/ee-warnermichael09/assets/gridded_30m_subsection\")"
   ]
  },
  {
   "cell_type": "code",
   "execution_count": 9,
   "metadata": {},
   "outputs": [],
   "source": [
    "subset_naalas = ee.Image('projects/ee-warnermichael09/assets/naalas_masked_30m').clip(subsection_clip)\n",
    "Map.addLayer(subset_naalas,{} , 'naalas masked')"
   ]
  },
  {
   "cell_type": "code",
   "execution_count": 10,
   "id": "79e8ff29",
   "metadata": {},
   "outputs": [],
   "source": [
    "# Need to upload the masked naala area\n",
    "ee_dataset_builder.filtered_response_layer_from_raster(\n",
    "    response_raster=\"custom\", \n",
    "    ee_image=subset_naalas,\n",
    "    custom_response_raster_name='response'\n",
    ")"
   ]
  },
  {
   "cell_type": "markdown",
   "id": "150ce836",
   "metadata": {},
   "source": [
    "### Predictors"
   ]
  },
  {
   "cell_type": "code",
   "execution_count": 11,
   "id": "2df0adf5",
   "metadata": {},
   "outputs": [],
   "source": [
    "merit_water = ee.Image('MERIT/Hydro/v1_0_1').clip(subsection_clip);\n",
    "ele = ee.Image(\"NASA/NASADEM_HGT/001\");\n",
    "twi = ee.Image(\"projects/nikhilrajdeep/assets/TWI_Ganga\");\n",
    "dd = ee.Image(\"projects/nikhilrajdeep/assets/drainage_density\");\n",
    "chirps = ee.ImageCollection(\"UCSB-CHG/CHIRPS/PENTAD\");\n",
    "l8 = ee.ImageCollection(\"LANDSAT/LC08/C02/T1_L2\");\n",
    "lc = ee.ImageCollection(\"ESA/WorldCover/v200\");\n",
    "soil = ee.Image(\"OpenLandMap/SOL/SOL_TEXTURE-CLASS_USDA-TT_M/v02\");\n",
    "pop = ee.ImageCollection(\"CIESIN/GPWv411/GPW_UNWPP-Adjusted_Population_Density\");\n",
    "\n",
    "gpop = pop.toBands().select('gpw_v4_population_density_adjusted_to_2015_unwpp_country_totals_rev11_2020_30_sec_unwpp-adjusted_population_density').clip(subsection_clip).rename('popDensity');\n",
    "gpop_cond = gpop.expression(\n",
    "    \"(b('popDensity') > 0 && b('popDensity') < 865) ? 1\" +\n",
    "    \":(b('popDensity') >= 865 && b('popDensity') < 1600) ? 2\" +\n",
    "    \":(b('popDensity') >= 1600 && b('popDensity') < 2680) ? 3\" +\n",
    "    \":(b('popDensity') >= 2680 && b('popDensity') < 4036) ? 4\" +\n",
    "    \":(b('popDensity') >= 4036) ? 5\" +\n",
    "    \": 0\"  # Default value in case none of the conditions above are met\n",
    ").clip(subsection_clip)\n",
    "conditionParams = {\n",
    "    'min': 1,\n",
    "    'max': 5,\n",
    "    'palette': ['1a9641', 'a6d96a', 'ffffbf', 'fdae61', 'd7191c']\n",
    "}\n",
    "Map.addLayer(gpop_cond, conditionParams, 'Population density')\n",
    "predictors = gpop_cond.rename('PD')\n",
    "\n",
    "lulc = lc.first().clip(subsection_clip).rename('LULC')\n",
    "\n",
    "lulcCond = (lulc.eq(80).multiply(5)\n",
    "            .where(lulc.eq(90), 1)\n",
    "            .where(lulc.eq(10), 1)\n",
    "            .where(lulc.eq(20), 1)\n",
    "            .where(lulc.eq(30), 1)\n",
    "            .where(lulc.eq(40), 4)\n",
    "            .where(lulc.eq(60), 2)\n",
    "            .where(lulc.eq(50), 3))\n",
    "\n",
    "Map.addLayer(lulcCond, conditionParams, 'LULC');\n",
    "\n",
    "predictors = predictors.addBands(lulcCond)\n"
   ]
  },
  {
   "cell_type": "code",
   "execution_count": 12,
   "metadata": {},
   "outputs": [],
   "source": [
    "rain = chirps.filterDate('2022-01-01','2023-01-01').sum().clip(subsection_clip)\n",
    "rainCond = (rain\n",
    "  .where(rain.lt(868), 1)\n",
    "  .where(rain.gte(868)and(rain.lt(1019)), 2)\n",
    "  .where(rain.gte(1019)and(rain.lt(1189)), 3)\n",
    "  .where(rain.gte(1189)and(rain.lt(1410)), 4)\n",
    "  .where(rain.gte(1410), 5))\n",
    "Map.addLayer(rainCond, conditionParams, 'Rainfall Categorized');\n",
    "predictors = predictors.addBands(rainCond)\n"
   ]
  },
  {
   "cell_type": "code",
   "execution_count": 13,
   "metadata": {},
   "outputs": [],
   "source": [
    "ddCond = (dd\n",
    "  .where(dd.lt(0.6), 1)\n",
    "  .where(dd.gte(0.6)and(dd.lt(1.5)), 2)\n",
    "  .where(dd.gte(1.5)and(dd.lt(2.6)), 3)\n",
    "  .where(dd.gte(2.6)and(dd.lt(4)), 4)\n",
    "  .where(dd.gte(4), 5)).rename('drainage_density').clip(subsection_clip)\n",
    "Map.addLayer(ddCond, conditionParams, 'drainage density');\n",
    "predictors = predictors.addBands(ddCond)"
   ]
  },
  {
   "cell_type": "code",
   "execution_count": 14,
   "metadata": {},
   "outputs": [],
   "source": [
    "dem = ele.select('elevation')\n",
    "slope = ee.Terrain.slope(dem).clip(subsection_clip)\n",
    "slopeCond = (slope\n",
    "  .where(slope.lt(4), 5)\n",
    "  .where(slope.gte(4)and(slope.lt(12)), 4)\n",
    "  .where(slope.gte(12)and(slope.lt(24)), 3)\n",
    "  .where(slope.gte(24)and(slope.lt(35)), 2)\n",
    "  .where(slope.gte(35), 1))\n",
    "Map.addLayer(slopeCond, conditionParams, 'slope');\n",
    "predictors = predictors.addBands(slopeCond)\n"
   ]
  },
  {
   "cell_type": "code",
   "execution_count": 15,
   "metadata": {},
   "outputs": [],
   "source": [
    "def maskL8sr(image):\n",
    "    qaMask = image.select('QA_PIXEL').bitwiseAnd(int('11111', 2)).eq(0)\n",
    "    saturationMask = image.select('QA_RADSAT').eq(0)\n",
    "\n",
    "    opticalBands = image.select('SR_B.').multiply(0.0000275).add(-0.2)\n",
    "    thermalBands = image.select('ST_B.*').multiply(0.00341802).add(149.0)\n",
    "\n",
    "    return image.addBands(opticalBands, None, True)\\\n",
    "                .addBands(thermalBands, None, True)\\\n",
    "                .updateMask(qaMask)\\\n",
    "                .updateMask(saturationMask)\n",
    "def addindices(image):\n",
    "    ndvi = image.normalizedDifference(['SR_B5', 'SR_B4']).rename('NDVI')\n",
    "    return image.addBands(ndvi)\n",
    "ndvi = (l8.filterDate('2022-01-01', '2023-01-01')\n",
    "        .filterBounds(ganga_buff)\n",
    "        .filterMetadata('CLOUD_COVER', 'less_than', 10)\n",
    "        .map(maskL8sr)\n",
    "        .map(addindices)\n",
    "        .select('NDVI')\n",
    "        .mean()\n",
    "        .clip(ganga_buff))\n",
    "\n",
    "ndviCond = (ndvi.where(ndvi.lt(0.14), 5)\n",
    "           .where(ndvi.gte(0.14)and(ndvi.lt(0.33)), 4)\n",
    "           .where(ndvi.gte(0.33)and(ndvi.lt(0.44)), 3)\n",
    "           .where(ndvi.gte(0.44)and(ndvi.lt(0.58)), 2)\n",
    "           .where(ndvi.gte(0.58), 1))\n",
    "\n"
   ]
  },
  {
   "cell_type": "code",
   "execution_count": 16,
   "metadata": {},
   "outputs": [],
   "source": [
    "temp = (l8.filterDate('2021-01-01', '2022-01-01')\n",
    "        .filterBounds(subsection_clip)\n",
    "        .filterMetadata('CLOUD_COVER', 'less_than', 10)\n",
    "        .map(maskL8sr)\n",
    "        .select('ST_B10')\n",
    "        .map(lambda image: image.subtract(273.15))\n",
    "        .mean()\n",
    "        .clip(subsection_clip)).rename('LST')\n",
    "tempCond = (temp\n",
    "  .where(temp.lt(25), 1)\n",
    "  .where(temp.gte(25)and(temp.lt(30)), 2)\n",
    "  .where(temp.gte(30)and(temp.lt(34)), 3)\n",
    "  .where(temp.gte(34)and(temp.lt(37)), 4)\n",
    "  .where(temp.gte(37), 5))\n",
    "Map.addLayer(tempCond, conditionParams, 'LST 2022');\n",
    "predictors = predictors.addBands(tempCond)"
   ]
  },
  {
   "cell_type": "code",
   "execution_count": 17,
   "metadata": {},
   "outputs": [
    {
     "data": {
      "text/plain": [
       "['PD', 'LULC', 'precipitation', 'drainage_density', 'slope', 'LST']"
      ]
     },
     "execution_count": 17,
     "metadata": {},
     "output_type": "execute_result"
    }
   ],
   "source": [
    "predictors.bandNames().getInfo()"
   ]
  },
  {
   "cell_type": "code",
   "execution_count": 18,
   "metadata": {},
   "outputs": [],
   "source": [
    "name_custom_ee_images_list = predictors.bandNames().getInfo()\n",
    "ee_images_list = [predictors.select(band_name) for band_name in name_custom_ee_images_list]\n",
    "predictors_list = ['custom_ee_image' for x in name_custom_ee_images_list]"
   ]
  },
  {
   "cell_type": "code",
   "execution_count": 19,
   "metadata": {},
   "outputs": [],
   "source": [
    "ee_dataset_builder.spatial_covariates(covariates=predictors_list, \n",
    "                                      ee_image=ee_images_list,\n",
    "                                      name_custom_ee_image=name_custom_ee_images_list ) "
   ]
  },
  {
   "cell_type": "code",
   "execution_count": 20,
   "metadata": {},
   "outputs": [
    {
     "data": {
      "text/plain": [
       "['response', 'PD', 'LULC', 'precipitation', 'drainage_density', 'slope', 'LST']"
      ]
     },
     "execution_count": 20,
     "metadata": {},
     "output_type": "execute_result"
    }
   ],
   "source": [
    "ee_dataset_builder.image.bandNames().getInfo()"
   ]
  },
  {
   "cell_type": "code",
   "execution_count": null,
   "metadata": {},
   "outputs": [],
   "source": []
  },
  {
   "cell_type": "markdown",
   "id": "d681dd9d",
   "metadata": {},
   "source": [
    "Add predictors bands"
   ]
  },
  {
   "cell_type": "markdown",
   "id": "a394d2ee",
   "metadata": {},
   "source": [
    "# Export samples CSV to GCP"
   ]
  },
  {
   "cell_type": "code",
   "execution_count": 23,
   "id": "824a8a38",
   "metadata": {},
   "outputs": [],
   "source": [
    "# Gridded shapefile asset in GEE\n",
    "# CCAP west coast \n",
    "shp_asset_path = 'projects/ee-warnermichael09/assets/gridded_30m_subsection'\n",
    "\n",
    "# CCAP south east coast\n",
    "# shp_asset_path = 'projects/wetlands-lab/assets/ccap_mapping_bndry_gridded_50km_50km_south_east_coast' \n",
    "\n",
    " # CCAP north east coast\n",
    "# shp_asset_path = 'projects/wetlands-lab/assets/ccap_mapping_bndry_gridded_50km_50km_north_east_coast' \n",
    "\n",
    "scale = 30\n",
    "maxPixels = 1e13\n",
    "gcp_bucket = 'wetlands-lab'\n",
    "gcp_folder_name = 'habitat_suitability'\n",
    "numPoints = 1000 # we override the number of points below with classPoints\n",
    "classBand = \"response\"\n",
    "classPoints = [1, 1]\n",
    "classValues = [0,1]\n",
    "\n"
   ]
  },
  {
   "cell_type": "code",
   "execution_count": 24,
   "id": "778ddbc9",
   "metadata": {
    "scrolled": true
   },
   "outputs": [
    {
     "name": "stdout",
     "output_type": "stream",
     "text": [
      "Geometry number of features: 6007\n",
      "Stratified sampling: \n",
      "numPoints: 1000, \n",
      "classBand: response, \n",
      "scale: 30, \n",
      "geometries: True, \n",
      "dropNulls: True, \n",
      "tileScale: 1, \n",
      "classPoints: [1, 1], \n",
      "seed: 0, \n",
      "projection:None\n"
     ]
    },
    {
     "name": "stderr",
     "output_type": "stream",
     "text": [
      "  5%|▌         | 318/6007 [58:39<17:26:38, 11.04s/it]"
     ]
    }
   ],
   "source": [
    "samples_folder_name = f'west_coast_ccap_mapping_bndry_gridded_50km_50km_classPoints_4000_1000_classes_13_CCAP_new_climate_data'\n",
    "# samples_folder_name = f'south_east_coast_ccap_mapping_bndry_gridded_50km_50km_classPoints_4000_1000_classes_13_CCAP_new_climate_data'\n",
    "# samples_folder_name = f'north_east_coast_ccap_mapping_bndry_gridded_50km_50km_classPoints_4000_1000_classes_13_CCAP_new_climate_data'\n",
    "\n",
    "# Stratified Sampling\n",
    "# This will take quite some time\n",
    "ee_dataset_builder.samples_csv_export(shp_asset_path=shp_asset_path, \n",
    "                                      name_gcp_bucket=gcp_bucket, \n",
    "                                      folder_in_gcp_bucket=gcp_folder_name + '/' + samples_folder_name, \n",
    "                                      scale=scale, \n",
    "                                      geometries=True,\n",
    "                                      isStratifiedSampling=True, \n",
    "                                      numPoints=numPoints, \n",
    "                                      classValues=classValues,\n",
    "                                      classBand=classBand, \n",
    "                                      classPoints=classPoints)"
   ]
  },
  {
   "cell_type": "markdown",
   "id": "b508d3df",
   "metadata": {},
   "source": [
    "# Export tiles to GCP"
   ]
  },
  {
   "cell_type": "code",
   "execution_count": 37,
   "id": "953fa97f",
   "metadata": {},
   "outputs": [
    {
     "name": "stdout",
     "output_type": "stream",
     "text": [
      "\n",
      "Export inference tiles using the shapefile: projects/wetlands-lab/assets/ccap_mapping_bndry_gridded_50km_50km_west_coast...\n",
      "Geometry number of features: 402\n",
      "\n",
      "Starting collecting tiles...\n"
     ]
    },
    {
     "name": "stderr",
     "output_type": "stream",
     "text": [
      "100%|██████████| 402/402 [07:01<00:00,  1.05s/it]"
     ]
    },
    {
     "name": "stdout",
     "output_type": "stream",
     "text": [
      "Inference tiles export done.\n",
      "\n"
     ]
    },
    {
     "name": "stderr",
     "output_type": "stream",
     "text": [
      "\n"
     ]
    }
   ],
   "source": [
    "################## Export inference tiles to GCP bucket ##################\n",
    "tiles_folder_name = f'tiles_west_coast_ccap_mapping_bndry_gridded_50km_50km_classes_13_CCAP_scale{scale}_new_climate_data'\n",
    "# tiles_folder_name = f'tiles_south_east_coast_ccap_mapping_bndry_gridded_50km_50km_classes_13_CCAP_scale{scale}_new_climate_data'\n",
    "# tiles_folder_name = f'tiles_north_east_coast_ccap_mapping_bndry_gridded_50km_50km_classes_13_CCAP_scale{scale}_new_climate_data'\n",
    "\n",
    "print(f'\\nExport inference tiles using the shapefile: {shp_asset_path}...')\n",
    "# This will take quite some time\n",
    "ee_dataset_builder.tiles_export(shp_asset_path,\n",
    "                                name_gcp_bucket=gcp_bucket,\n",
    "                                folder_in_gcp_bucket=gcp_folder_name + '/' + tiles_folder_name,\n",
    "                                maxPixels=maxPixels, scale=scale)\n",
    "print('Inference tiles export done.\\n')"
   ]
  },
  {
   "cell_type": "code",
   "execution_count": null,
   "id": "26812919",
   "metadata": {},
   "outputs": [],
   "source": []
  }
 ],
 "metadata": {
  "kernelspec": {
   "display_name": "Python 3 (ipykernel)",
   "language": "python",
   "name": "python3"
  },
  "language_info": {
   "codemirror_mode": {
    "name": "ipython",
    "version": 3
   },
   "file_extension": ".py",
   "mimetype": "text/x-python",
   "name": "python",
   "nbconvert_exporter": "python",
   "pygments_lexer": "ipython3",
   "version": "3.10.12"
  }
 },
 "nbformat": 4,
 "nbformat_minor": 5
}
