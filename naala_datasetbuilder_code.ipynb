{
 "cells": [
  {
   "cell_type": "code",
   "execution_count": 1,
   "metadata": {},
   "outputs": [],
   "source": [
    "from dataset_builder import EEDatasetBuilder\n",
    "import geemap\n",
    "import ee\n",
    "import os\n",
    "import numpy as np\n",
    "import ee"
   ]
  },
  {
   "cell_type": "code",
   "execution_count": 2,
   "metadata": {},
   "outputs": [
    {
     "data": {
      "text/html": [
       "<p>To authorize access needed by Earth Engine, open the following\n",
       "        URL in a web browser and follow the instructions:</p>\n",
       "        <p><a href=https://code.earthengine.google.com/client-auth?scopes=https%3A//www.googleapis.com/auth/earthengine%20https%3A//www.googleapis.com/auth/devstorage.full_control&request_id=PI3r7k75POLEaWXmYC87iy5Jz4qGgQfk_3MLwJNYOzY&tc=tyXbMSwNndOiuK2Df18u5E-zRh0Chtr3_V69MV-Spdw&cc=zUiCJkhK3wm3i4xfxss2HR_PC9NZfJBJ5KsZJRKXYFM>https://code.earthengine.google.com/client-auth?scopes=https%3A//www.googleapis.com/auth/earthengine%20https%3A//www.googleapis.com/auth/devstorage.full_control&request_id=PI3r7k75POLEaWXmYC87iy5Jz4qGgQfk_3MLwJNYOzY&tc=tyXbMSwNndOiuK2Df18u5E-zRh0Chtr3_V69MV-Spdw&cc=zUiCJkhK3wm3i4xfxss2HR_PC9NZfJBJ5KsZJRKXYFM</a></p>\n",
       "        <p>The authorization workflow will generate a code, which you should paste in the box below.</p>\n",
       "        "
      ],
      "text/plain": [
       "<IPython.core.display.HTML object>"
      ]
     },
     "metadata": {},
     "output_type": "display_data"
    },
    {
     "name": "stdout",
     "output_type": "stream",
     "text": [
      "\n",
      "Successfully saved authorization token.\n"
     ]
    }
   ],
   "source": [
    "# Trigger the authentication flow.\n",
    "ee.Authenticate()"
   ]
  },
  {
   "cell_type": "code",
   "execution_count": 3,
   "metadata": {},
   "outputs": [],
   "source": [
    "# Initialize the library.\n",
    "ee.Initialize()"
   ]
  },
  {
   "cell_type": "code",
   "execution_count": 4,
   "metadata": {},
   "outputs": [
    {
     "data": {
      "application/vnd.jupyter.widget-view+json": {
       "model_id": "2058d2a7a3f0498382b10617fddca165",
       "version_major": 2,
       "version_minor": 0
      },
      "text/plain": [
       "Map(center=[29.7666636, 78.1999992], controls=(WidgetControl(options=['position', 'transparent_bg'], widget=HB…"
      ]
     },
     "metadata": {},
     "output_type": "display_data"
    }
   ],
   "source": [
    "Map = geemap.Map(center=[29.7666636 , 78.1999992], zoom=9)\n",
    "Map"
   ]
  },
  {
   "cell_type": "markdown",
   "metadata": {},
   "source": [
    "# This first part is to create the image file needed to identify the Naalas, not clip the area for the ganga river!!"
   ]
  },
  {
   "cell_type": "code",
   "execution_count": 5,
   "metadata": {},
   "outputs": [],
   "source": [
    "# Build ee dataset builder\n",
    "ee_dataset_builder = EEDatasetBuilder()"
   ]
  },
  {
   "cell_type": "code",
   "execution_count": 6,
   "metadata": {},
   "outputs": [],
   "source": [
    "# buffer zone for ganga river\n",
    "ganga_buff = ee.FeatureCollection('projects/nikhilrajdeep/assets/Buffer_Ganga_river')"
   ]
  },
  {
   "cell_type": "code",
   "execution_count": 7,
   "metadata": {},
   "outputs": [],
   "source": [
    "subset_naalas = ee.Image('projects/ee-warnermichael09/assets/naalas_masked_30m').clip(ganga_buff)"
   ]
  },
  {
   "cell_type": "code",
   "execution_count": 8,
   "metadata": {},
   "outputs": [],
   "source": [
    "Map.addLayer(subset_naalas,{} , 'naalas masked')"
   ]
  },
  {
   "cell_type": "code",
   "execution_count": 9,
   "metadata": {},
   "outputs": [],
   "source": [
    "# Need to upload the masked naala area\n",
    "ee_dataset_builder.filtered_response_layer_from_raster(\n",
    "    response_raster=\"custom\", \n",
    "    ee_image=subset_naalas,\n",
    "    custom_response_raster_name='response'\n",
    ")"
   ]
  },
  {
   "cell_type": "markdown",
   "metadata": {},
   "source": [
    "PD\n",
    "LULC\n",
    "Prec\n",
    "DD\n",
    "Slope\n",
    "LST #land surface temp"
   ]
  },
  {
   "cell_type": "markdown",
   "metadata": {},
   "source": [
    "### Local way of setting up the geoTIFF files"
   ]
  },
  {
   "cell_type": "code",
   "execution_count": 10,
   "metadata": {},
   "outputs": [],
   "source": [
    "#out_dir = os.path.expanduser(r'\\Data\\geotiffs')\n",
    "\n",
    "#if not os.path.exists(out_dir):\n",
    "#    os.makedirs(out_dir)\n",
    "\n",
    "#PD = os.path.join(r\"Data\\geotiffs\\pop_bucket.tif\")\n",
    "#LULC = os.path.join(r\"C:\\Users\\warne\\Desktop\\Projects\\naalas_2\\Data\\geotiffs\\lulcCond.tif\")\n",
    "#Prec = os.path.join(r'C:\\Users\\warne\\Desktop\\Projects\\naalas_2\\Data\\geotiffs\\rainCond.tif')\n",
    "#DD = os.path.join(r\"Data\\geotiffs\\ddCond.tif\")\n",
    "#Slope = os.path.join(r'Data\\geotiffs\\slopeCond.tif')\n",
    "#LST = os.path.join(r'Data\\geotiffs\\tempCond.tif')\n",
    "\n"
   ]
  },
  {
   "cell_type": "code",
   "execution_count": 11,
   "metadata": {},
   "outputs": [],
   "source": [
    "#Population Density\n",
    "#Map.add_raster(PD, layer_name = \"Population Density\")\n",
    "#Map.add_raster(LULC, layer_name = \"Land use, Land cover\")\n",
    "#Map.add_raster(Prec, layer_name = \"Rainfall\")\n",
    "#Map.add_raster(DD, layer_name = \"Drainage Density\")\n",
    "#Map.add_raster(Slope, layer_name = \"Slope\")\n",
    "#Map.add_raster(LST, layer_name = \"Land Surface Temp\")"
   ]
  },
  {
   "cell_type": "markdown",
   "metadata": {},
   "source": [
    "#### Online way of setting up datasets through GEE"
   ]
  },
  {
   "cell_type": "markdown",
   "metadata": {},
   "source": [
    "##### Chirps is the rain fall dataset"
   ]
  },
  {
   "cell_type": "code",
   "execution_count": 12,
   "metadata": {},
   "outputs": [],
   "source": [
    "# Loading of the data sets\n",
    "merit_water = ee.Image('MERIT/Hydro/v1_0_1').rename(\"hydro\");\n",
    "ele = ee.Image(\"NASA/NASADEM_HGT/001\").rename(\"ele\");\n",
    "twi = ee.Image(\"projects/nikhilrajdeep/assets/TWI_Ganga\");\n",
    "dd = ee.Image(\"projects/nikhilrajdeep/assets/drainage_density\").rename(\"dd\");\n",
    "chirps = ee.ImageCollection(\"UCSB-CHG/CHIRPS/PENTAD\");\n",
    "l8 = ee.ImageCollection(\"LANDSAT/LC08/C02/T1_L2\");\n",
    "lc = ee.ImageCollection(\"ESA/WorldCover/v200\");\n",
    "soil = ee.Image(\"OpenLandMap/SOL/SOL_TEXTURE-CLASS_USDA-TT_M/v02\");\n",
    "pop = ee.ImageCollection(\"CIESIN/GPWv411/GPW_UNWPP-Adjusted_Population_Density\");"
   ]
  },
  {
   "cell_type": "code",
   "execution_count": 13,
   "metadata": {},
   "outputs": [],
   "source": [
    "base = []"
   ]
  },
  {
   "cell_type": "code",
   "execution_count": 14,
   "metadata": {},
   "outputs": [],
   "source": [
    "base = merit_water.rename(\"hydro\").clip(ganga_buff)"
   ]
  },
  {
   "cell_type": "code",
   "execution_count": 15,
   "metadata": {},
   "outputs": [],
   "source": [
    "base = base.addBands(dd).rename(\"dd\").clip(ganga_buff)\n",
    "base = base.addBands(ele).rename(\"ele\").clip(ganga_buff)"
   ]
  },
  {
   "cell_type": "code",
   "execution_count": 16,
   "metadata": {},
   "outputs": [],
   "source": [
    "\n",
    "base = base.addBands(twi).rename(\"twi\").clip(ganga_buff)\n",
    "base = base.addBands(chirps).rename(\"chirps\").clip(ganga_buff)\n",
    "base = base.addBands(l8).rename(\"l8\").clip(ganga_buff)\n",
    "base = base.addBands(lc).rename(\"1c\").clip(ganga_buff)\n",
    "base = base.addBands(soil).rename(\"soil\").clip(ganga_buff)\n",
    "base = base.addBands(pop).rename(\"pop\").clip(ganga_buff)"
   ]
  },
  {
   "cell_type": "code",
   "execution_count": 17,
   "metadata": {},
   "outputs": [
    {
     "data": {
      "text/html": [
       "<pre>&lt;ee.image.Image object at 0x0000026CA766CAF0&gt;</pre>"
      ],
      "text/plain": [
       "<ee.image.Image at 0x26ca766caf0>"
      ]
     },
     "execution_count": 17,
     "metadata": {},
     "output_type": "execute_result"
    }
   ],
   "source": [
    "base"
   ]
  },
  {
   "cell_type": "code",
   "execution_count": 18,
   "metadata": {},
   "outputs": [],
   "source": [
    "merit_water = ee.Image('MERIT/Hydro/v1_0_1').clip(ganga_buff);\n",
    "ele = ee.Image(\"NASA/NASADEM_HGT/001\");\n",
    "twi = ee.Image(\"projects/nikhilrajdeep/assets/TWI_Ganga\");\n",
    "dd = ee.Image(\"projects/nikhilrajdeep/assets/drainage_density\");\n",
    "chirps = ee.ImageCollection(\"UCSB-CHG/CHIRPS/PENTAD\");\n",
    "l8 = ee.ImageCollection(\"LANDSAT/LC08/C02/T1_L2\");\n",
    "lc = ee.ImageCollection(\"ESA/WorldCover/v200\");\n",
    "soil = ee.Image(\"OpenLandMap/SOL/SOL_TEXTURE-CLASS_USDA-TT_M/v02\");\n",
    "pop = ee.ImageCollection(\"CIESIN/GPWv411/GPW_UNWPP-Adjusted_Population_Density\");"
   ]
  },
  {
   "cell_type": "code",
   "execution_count": null,
   "metadata": {},
   "outputs": [],
   "source": []
  },
  {
   "cell_type": "code",
   "execution_count": null,
   "metadata": {},
   "outputs": [],
   "source": []
  },
  {
   "cell_type": "markdown",
   "metadata": {},
   "source": [
    "# Population Density"
   ]
  },
  {
   "cell_type": "code",
   "execution_count": 19,
   "metadata": {},
   "outputs": [],
   "source": [
    "gpop = pop.toBands().select('gpw_v4_population_density_adjusted_to_2015_unwpp_country_totals_rev11_2020_30_sec_unwpp-adjusted_population_density').clip(ganga_buff).rename('popDensity');"
   ]
  },
  {
   "cell_type": "code",
   "execution_count": 54,
   "metadata": {},
   "outputs": [],
   "source": [
    "gpop_cond = gpop.expression(\n",
    "    \"(b('popDensity') > 0 && b('popDensity') < 865) ? 1\" +\n",
    "    \":(b('popDensity') >= 865 && b('popDensity') < 1600) ? 2\" +\n",
    "    \":(b('popDensity') >= 1600 && b('popDensity') < 2680) ? 3\" +\n",
    "    \":(b('popDensity') >= 2680 && b('popDensity') < 4036) ? 4\" +\n",
    "    \":(b('popDensity') >= 4036) ? 5\" +\n",
    "    \": 0\"  # Default value in case none of the conditions above are met\n",
    ").clip(ganga_buff)"
   ]
  },
  {
   "cell_type": "code",
   "execution_count": 21,
   "metadata": {},
   "outputs": [],
   "source": [
    "conditionParams = {\n",
    "    'min': 1,\n",
    "    'max': 5,\n",
    "    'palette': ['1a9641', 'a6d96a', 'ffffbf', 'fdae61', 'd7191c']\n",
    "}"
   ]
  },
  {
   "cell_type": "code",
   "execution_count": 55,
   "metadata": {},
   "outputs": [],
   "source": [
    "Map.addLayer(gpop_cond, conditionParams, 'Population density')"
   ]
  },
  {
   "cell_type": "code",
   "execution_count": 23,
   "metadata": {},
   "outputs": [],
   "source": [
    "predictors = gpop_cond.rename('PD')"
   ]
  },
  {
   "cell_type": "markdown",
   "metadata": {},
   "source": [
    "# Land Use Land Cover, LULC"
   ]
  },
  {
   "cell_type": "code",
   "execution_count": 24,
   "metadata": {},
   "outputs": [],
   "source": [
    "lulc = lc.first().clip(ganga_buff).rename('LULC')"
   ]
  },
  {
   "cell_type": "code",
   "execution_count": 25,
   "metadata": {},
   "outputs": [],
   "source": [
    "lulcCond = (lulc.eq(80).multiply(5)\n",
    "            .where(lulc.eq(90), 1)\n",
    "            .where(lulc.eq(10), 1)\n",
    "            .where(lulc.eq(20), 1)\n",
    "            .where(lulc.eq(30), 1)\n",
    "            .where(lulc.eq(40), 4)\n",
    "            .where(lulc.eq(60), 2)\n",
    "            .where(lulc.eq(50), 3))"
   ]
  },
  {
   "cell_type": "code",
   "execution_count": 26,
   "metadata": {},
   "outputs": [],
   "source": [
    "Map.addLayer(lulcCond, conditionParams, 'LULC');"
   ]
  },
  {
   "cell_type": "code",
   "execution_count": 27,
   "metadata": {},
   "outputs": [],
   "source": [
    "predictors = predictors.addBands(lulcCond)"
   ]
  },
  {
   "cell_type": "markdown",
   "metadata": {},
   "source": [
    "# Precipitation, chirps dataset\n",
    "\n",
    "\n"
   ]
  },
  {
   "cell_type": "code",
   "execution_count": 28,
   "metadata": {},
   "outputs": [],
   "source": [
    "rain = chirps.filterDate('2022-01-01','2023-01-01').sum().clip(ganga_buff)"
   ]
  },
  {
   "cell_type": "code",
   "execution_count": 29,
   "metadata": {},
   "outputs": [],
   "source": [
    "rainCond = (rain\n",
    "  .where(rain.lt(868), 1)\n",
    "  .where(rain.gte(868)and(rain.lt(1019)), 2)\n",
    "  .where(rain.gte(1019)and(rain.lt(1189)), 3)\n",
    "  .where(rain.gte(1189)and(rain.lt(1410)), 4)\n",
    "  .where(rain.gte(1410), 5))\n"
   ]
  },
  {
   "cell_type": "code",
   "execution_count": 30,
   "metadata": {},
   "outputs": [],
   "source": [
    "Map.addLayer(rainCond, conditionParams, 'Rainfall Categorized');"
   ]
  },
  {
   "cell_type": "code",
   "execution_count": 31,
   "metadata": {},
   "outputs": [],
   "source": [
    "predictors = predictors.addBands(rainCond)"
   ]
  },
  {
   "cell_type": "markdown",
   "metadata": {},
   "source": [
    "# Drainage Density DD"
   ]
  },
  {
   "cell_type": "markdown",
   "metadata": {},
   "source": [
    "Drainage density\n",
    "\n",
    "| DD         | Condition     | \n",
    "\n",
    "| <0.53      | Extreme low   |\n",
    " \n",
    " | 0.53-1.43  | low           |\n",
    " \n",
    " | 1.43-2.57  | Moderate      |\n",
    " \n",
    " | 2.57-4     | high          |\n",
    " \n",
    " | >4         | Extreme high  |"
   ]
  },
  {
   "cell_type": "code",
   "execution_count": 32,
   "metadata": {},
   "outputs": [],
   "source": [
    "ddCond = (dd\n",
    "  .where(dd.lt(0.6), 1)\n",
    "  .where(dd.gte(0.6)and(dd.lt(1.5)), 2)\n",
    "  .where(dd.gte(1.5)and(dd.lt(2.6)), 3)\n",
    "  .where(dd.gte(2.6)and(dd.lt(4)), 4)\n",
    "  .where(dd.gte(4), 5)).rename('drainage_density')"
   ]
  },
  {
   "cell_type": "code",
   "execution_count": 33,
   "metadata": {},
   "outputs": [],
   "source": [
    "Map.addLayer(ddCond, conditionParams, 'drainage density');"
   ]
  },
  {
   "cell_type": "code",
   "execution_count": 34,
   "metadata": {},
   "outputs": [],
   "source": [
    "predictors = predictors.addBands(ddCond)"
   ]
  },
  {
   "cell_type": "markdown",
   "metadata": {},
   "source": [
    "# Slope"
   ]
  },
  {
   "cell_type": "code",
   "execution_count": 35,
   "metadata": {},
   "outputs": [],
   "source": [
    "dem = ele.select('elevation')\n",
    "slope = ee.Terrain.slope(dem).clip(ganga_buff)"
   ]
  },
  {
   "cell_type": "code",
   "execution_count": 36,
   "metadata": {},
   "outputs": [],
   "source": [
    "slopeCond = (slope\n",
    "  .where(slope.lt(4), 5)\n",
    "  .where(slope.gte(4)and(slope.lt(12)), 4)\n",
    "  .where(slope.gte(12)and(slope.lt(24)), 3)\n",
    "  .where(slope.gte(24)and(slope.lt(35)), 2)\n",
    "  .where(slope.gte(35), 1))"
   ]
  },
  {
   "cell_type": "code",
   "execution_count": 37,
   "metadata": {},
   "outputs": [],
   "source": [
    "Map.addLayer(slopeCond, conditionParams, 'slope');"
   ]
  },
  {
   "cell_type": "code",
   "execution_count": 38,
   "metadata": {},
   "outputs": [],
   "source": [
    "predictors = predictors.addBands(slopeCond)"
   ]
  },
  {
   "cell_type": "code",
   "execution_count": 39,
   "metadata": {},
   "outputs": [
    {
     "data": {
      "text/html": [
       "<div><style>:root {\n",
       "  --font-color-primary: var(--jp-content-font-color0, rgba(0, 0, 0, 1));\n",
       "  --font-color-secondary: var(--jp-content-font-color2, rgba(0, 0, 0, 0.6));\n",
       "  --font-color-accent: rgba(123, 31, 162, 1);\n",
       "  --border-color: var(--jp-border-color2, #e0e0e0);\n",
       "  --background-color: var(--jp-layout-color0, white);\n",
       "  --background-color-row-even: var(--jp-layout-color1, white);\n",
       "  --background-color-row-odd: var(--jp-layout-color2, #eeeeee);\n",
       "}\n",
       "\n",
       "html[theme=\"dark\"],\n",
       "body[data-theme=\"dark\"],\n",
       "body.vscode-dark {\n",
       "  --font-color-primary: rgba(255, 255, 255, 1);\n",
       "  --font-color-secondary: rgba(255, 255, 255, 0.6);\n",
       "  --font-color-accent: rgb(173, 132, 190);\n",
       "  --border-color: #2e2e2e;\n",
       "  --background-color: #111111;\n",
       "  --background-color-row-even: #111111;\n",
       "  --background-color-row-odd: #313131;\n",
       "}\n",
       "\n",
       ".ee {\n",
       "  padding: 1em;\n",
       "  line-height: 1.5em;\n",
       "  min-width: 300px;\n",
       "  max-width: 1200px;\n",
       "  overflow-y: scroll;\n",
       "  max-height: 600px;\n",
       "  border: 1px solid var(--border-color);\n",
       "  font-family: monospace;\n",
       "}\n",
       "\n",
       ".ee li {\n",
       "  list-style-type: none;\n",
       "}\n",
       "\n",
       ".ee ul {\n",
       "  padding-left: 1.5em !important;\n",
       "  margin: 0;\n",
       "}\n",
       "\n",
       ".ee > ul {\n",
       "  padding-left: 0 !important;\n",
       "}\n",
       "\n",
       ".ee-open,\n",
       ".ee-shut {\n",
       "  color: var(--font-color-secondary);\n",
       "  cursor: pointer;\n",
       "  margin: 0;\n",
       "}\n",
       "\n",
       ".ee-open:hover,\n",
       ".ee-shut:hover {\n",
       "  color: var(--font-color-primary);\n",
       "}\n",
       "\n",
       ".ee-k {\n",
       "  color: var(--font-color-accent);\n",
       "  margin-right: 6px;\n",
       "}\n",
       "\n",
       ".ee-v {\n",
       "  color: var(--font-color-primary);\n",
       "}\n",
       "\n",
       ".ee-toggle {\n",
       "  display: none;\n",
       "}\n",
       "\n",
       ".ee-shut + ul {\n",
       "  display: none;\n",
       "}\n",
       "\n",
       ".ee-open + ul {\n",
       "  display: block;\n",
       "}\n",
       "\n",
       ".ee-shut::before {\n",
       "  display: inline-block;\n",
       "  content: \"▼\";\n",
       "  margin-right: 6px;\n",
       "  transform: rotate(-90deg);\n",
       "  transition: transform 0.2s;\n",
       "}\n",
       "\n",
       ".ee-open::before {\n",
       "  transform: rotate(0deg);\n",
       "  display: inline-block;\n",
       "  content: \"▼\";\n",
       "  margin-right: 6px;\n",
       "  transition: transform 0.2s;\n",
       "}\n",
       "</style><div class='ee'><ul><li><label class='ee-shut'>Image (5 bands)<input type='checkbox' class='ee-toggle'></label><ul><li><span class='ee-k'>type:</span><span class='ee-v'>Image</span></li><li><label class='ee-shut'>bands: List (5 elements)<input type='checkbox' class='ee-toggle'></label><ul><li><label class='ee-shut'>0: \"PD\", int ∈ [0, 5], EPSG:4326<input type='checkbox' class='ee-toggle'></label><ul><li><span class='ee-k'>id:</span><span class='ee-v'>PD</span></li><li><span class='ee-k'>crs:</span><span class='ee-v'>EPSG:4326</span></li><li><label class='ee-shut'>crs_transform: [1, 0, 0, 0, 1, 0]<input type='checkbox' class='ee-toggle'></label><ul><li><span class='ee-k'>0:</span><span class='ee-v'>1</span></li><li><span class='ee-k'>1:</span><span class='ee-v'>0</span></li><li><span class='ee-k'>2:</span><span class='ee-v'>0</span></li><li><span class='ee-k'>3:</span><span class='ee-v'>0</span></li><li><span class='ee-k'>4:</span><span class='ee-v'>1</span></li><li><span class='ee-k'>5:</span><span class='ee-v'>0</span></li></ul></li><li><label class='ee-shut'>data_type: int ∈ [0, 5]<input type='checkbox' class='ee-toggle'></label><ul><li><span class='ee-k'>type:</span><span class='ee-v'>PixelType</span></li><li><span class='ee-k'>max:</span><span class='ee-v'>5</span></li><li><span class='ee-k'>min:</span><span class='ee-v'>0</span></li><li><span class='ee-k'>precision:</span><span class='ee-v'>int</span></li></ul></li></ul></li><li><label class='ee-shut'>1: \"LULC\", int ∈ [0, 5], EPSG:4326<input type='checkbox' class='ee-toggle'></label><ul><li><span class='ee-k'>id:</span><span class='ee-v'>LULC</span></li><li><span class='ee-k'>crs:</span><span class='ee-v'>EPSG:4326</span></li><li><label class='ee-shut'>crs_transform: List (6 elements)<input type='checkbox' class='ee-toggle'></label><ul><li><span class='ee-k'>0:</span><span class='ee-v'>8.333333333333333e-05</span></li><li><span class='ee-k'>1:</span><span class='ee-v'>0</span></li><li><span class='ee-k'>2:</span><span class='ee-v'>-180</span></li><li><span class='ee-k'>3:</span><span class='ee-v'>0</span></li><li><span class='ee-k'>4:</span><span class='ee-v'>-8.333333333333333e-05</span></li><li><span class='ee-k'>5:</span><span class='ee-v'>84</span></li></ul></li><li><label class='ee-shut'>data_type: int ∈ [0, 5]<input type='checkbox' class='ee-toggle'></label><ul><li><span class='ee-k'>type:</span><span class='ee-v'>PixelType</span></li><li><span class='ee-k'>max:</span><span class='ee-v'>5</span></li><li><span class='ee-k'>min:</span><span class='ee-v'>0</span></li><li><span class='ee-k'>precision:</span><span class='ee-v'>int</span></li></ul></li></ul></li><li><label class='ee-shut'>2: \"precipitation\", double, EPSG:4326<input type='checkbox' class='ee-toggle'></label><ul><li><span class='ee-k'>id:</span><span class='ee-v'>precipitation</span></li><li><span class='ee-k'>crs:</span><span class='ee-v'>EPSG:4326</span></li><li><label class='ee-shut'>crs_transform: [1, 0, 0, 0, 1, 0]<input type='checkbox' class='ee-toggle'></label><ul><li><span class='ee-k'>0:</span><span class='ee-v'>1</span></li><li><span class='ee-k'>1:</span><span class='ee-v'>0</span></li><li><span class='ee-k'>2:</span><span class='ee-v'>0</span></li><li><span class='ee-k'>3:</span><span class='ee-v'>0</span></li><li><span class='ee-k'>4:</span><span class='ee-v'>1</span></li><li><span class='ee-k'>5:</span><span class='ee-v'>0</span></li></ul></li><li><label class='ee-shut'>data_type: double<input type='checkbox' class='ee-toggle'></label><ul><li><span class='ee-k'>type:</span><span class='ee-v'>PixelType</span></li><li><span class='ee-k'>precision:</span><span class='ee-v'>double</span></li></ul></li></ul></li><li><label class='ee-shut'>3: \"drainage_density\", float, EPSG:32644, 22643x19886 px<input type='checkbox' class='ee-toggle'></label><ul><li><span class='ee-k'>id:</span><span class='ee-v'>drainage_density</span></li><li><span class='ee-k'>crs:</span><span class='ee-v'>EPSG:32644</span></li><li><label class='ee-shut'>crs_transform: List (6 elements)<input type='checkbox' class='ee-toggle'></label><ul><li><span class='ee-k'>0:</span><span class='ee-v'>30</span></li><li><span class='ee-k'>1:</span><span class='ee-v'>0</span></li><li><span class='ee-k'>2:</span><span class='ee-v'>199085.12520000263</span></li><li><span class='ee-k'>3:</span><span class='ee-v'>0</span></li><li><span class='ee-k'>4:</span><span class='ee-v'>-30</span></li><li><span class='ee-k'>5:</span><span class='ee-v'>3364894.9999999967</span></li></ul></li><li><label class='ee-shut'>data_type: float<input type='checkbox' class='ee-toggle'></label><ul><li><span class='ee-k'>type:</span><span class='ee-v'>PixelType</span></li><li><span class='ee-k'>precision:</span><span class='ee-v'>float</span></li></ul></li><li><label class='ee-shut'>dimensions: [22643, 19886]<input type='checkbox' class='ee-toggle'></label><ul><li><span class='ee-k'>0:</span><span class='ee-v'>22643</span></li><li><span class='ee-k'>1:</span><span class='ee-v'>19886</span></li></ul></li></ul></li><li><label class='ee-shut'>4: \"slope\", float, EPSG:4326<input type='checkbox' class='ee-toggle'></label><ul><li><span class='ee-k'>id:</span><span class='ee-v'>slope</span></li><li><span class='ee-k'>crs:</span><span class='ee-v'>EPSG:4326</span></li><li><label class='ee-shut'>crs_transform: List (6 elements)<input type='checkbox' class='ee-toggle'></label><ul><li><span class='ee-k'>0:</span><span class='ee-v'>0.0002777777777777778</span></li><li><span class='ee-k'>1:</span><span class='ee-v'>0</span></li><li><span class='ee-k'>2:</span><span class='ee-v'>-179.0001388888889</span></li><li><span class='ee-k'>3:</span><span class='ee-v'>0</span></li><li><span class='ee-k'>4:</span><span class='ee-v'>-0.0002777777777777778</span></li><li><span class='ee-k'>5:</span><span class='ee-v'>61.00013888888889</span></li></ul></li><li><label class='ee-shut'>data_type: float<input type='checkbox' class='ee-toggle'></label><ul><li><span class='ee-k'>type:</span><span class='ee-v'>PixelType</span></li><li><span class='ee-k'>max:</span><span class='ee-v'>90</span></li><li><span class='ee-k'>min:</span><span class='ee-v'>0</span></li><li><span class='ee-k'>precision:</span><span class='ee-v'>float</span></li></ul></li></ul></li></ul></li></ul></li></ul></div><script>function toggleHeader() {\n",
       "    const parent = this.parentElement;\n",
       "    parent.className = parent.className === \"ee-open\" ? \"ee-shut\" : \"ee-open\";\n",
       "}\n",
       "\n",
       "for (let c of document.getElementsByClassName(\"ee-toggle\")) {\n",
       "    c.onclick = toggleHeader;\n",
       "}</script></div>"
      ],
      "text/plain": [
       "<ee.image.Image at 0x26ca76a7640>"
      ]
     },
     "execution_count": 39,
     "metadata": {},
     "output_type": "execute_result"
    }
   ],
   "source": [
    "predictors"
   ]
  },
  {
   "cell_type": "markdown",
   "metadata": {},
   "source": [
    "# NDVI, needed for LST"
   ]
  },
  {
   "cell_type": "code",
   "execution_count": 40,
   "metadata": {},
   "outputs": [],
   "source": [
    "def maskL8sr(image):\n",
    "    qaMask = image.select('QA_PIXEL').bitwiseAnd(int('11111', 2)).eq(0)\n",
    "    saturationMask = image.select('QA_RADSAT').eq(0)\n",
    "\n",
    "    opticalBands = image.select('SR_B.').multiply(0.0000275).add(-0.2)\n",
    "    thermalBands = image.select('ST_B.*').multiply(0.00341802).add(149.0)\n",
    "\n",
    "    return image.addBands(opticalBands, None, True)\\\n",
    "                .addBands(thermalBands, None, True)\\\n",
    "                .updateMask(qaMask)\\\n",
    "                .updateMask(saturationMask)"
   ]
  },
  {
   "cell_type": "code",
   "execution_count": 41,
   "metadata": {},
   "outputs": [],
   "source": [
    "def addindices(image):\n",
    "    ndvi = image.normalizedDifference(['SR_B5', 'SR_B4']).rename('NDVI')\n",
    "    return image.addBands(ndvi)\n"
   ]
  },
  {
   "cell_type": "code",
   "execution_count": 42,
   "metadata": {},
   "outputs": [],
   "source": [
    "ndvi = (l8.filterDate('2022-01-01', '2023-01-01')\n",
    "        .filterBounds(ganga_buff)\n",
    "        .filterMetadata('CLOUD_COVER', 'less_than', 10)\n",
    "        .map(maskL8sr)\n",
    "        .map(addindices)\n",
    "        .select('NDVI')\n",
    "        .mean()\n",
    "        .clip(ganga_buff))\n",
    "\n",
    "ndviCond = (ndvi.where(ndvi.lt(0.14), 5)\n",
    "           .where(ndvi.gte(0.14)and(ndvi.lt(0.33)), 4)\n",
    "           .where(ndvi.gte(0.33)and(ndvi.lt(0.44)), 3)\n",
    "           .where(ndvi.gte(0.44)and(ndvi.lt(0.58)), 2)\n",
    "           .where(ndvi.gte(0.58), 1))\n"
   ]
  },
  {
   "cell_type": "markdown",
   "metadata": {},
   "source": [
    "# Land Surface Temperature LST"
   ]
  },
  {
   "cell_type": "code",
   "execution_count": 43,
   "metadata": {},
   "outputs": [],
   "source": [
    "temp = (l8.filterDate('2021-01-01', '2022-01-01')\n",
    "        .filterBounds(ganga_buff)\n",
    "        .filterMetadata('CLOUD_COVER', 'less_than', 10)\n",
    "        .map(maskL8sr)\n",
    "        .select('ST_B10')\n",
    "        .map(lambda image: image.subtract(273.15))\n",
    "        .mean()\n",
    "        .clip(ganga_buff)).rename('LST')"
   ]
  },
  {
   "cell_type": "code",
   "execution_count": 44,
   "metadata": {},
   "outputs": [],
   "source": [
    "tempCond = (temp\n",
    "  .where(temp.lt(25), 1)\n",
    "  .where(temp.gte(25)and(temp.lt(30)), 2)\n",
    "  .where(temp.gte(30)and(temp.lt(34)), 3)\n",
    "  .where(temp.gte(34)and(temp.lt(37)), 4)\n",
    "  .where(temp.gte(37), 5))"
   ]
  },
  {
   "cell_type": "code",
   "execution_count": 45,
   "metadata": {},
   "outputs": [],
   "source": [
    "Map.addLayer(tempCond, conditionParams, 'LST 2022');"
   ]
  },
  {
   "cell_type": "code",
   "execution_count": 46,
   "metadata": {},
   "outputs": [],
   "source": [
    "predictors = predictors.addBands(tempCond)"
   ]
  },
  {
   "cell_type": "markdown",
   "metadata": {},
   "source": [
    "# Merit - Hydro NOT IMPLEMENTED"
   ]
  },
  {
   "cell_type": "code",
   "execution_count": 47,
   "metadata": {},
   "outputs": [
    {
     "data": {
      "text/plain": [
       "['PD', 'LULC', 'precipitation', 'drainage_density', 'slope', 'LST']"
      ]
     },
     "execution_count": 47,
     "metadata": {},
     "output_type": "execute_result"
    }
   ],
   "source": [
    "predictors.bandNames().getInfo()"
   ]
  },
  {
   "cell_type": "code",
   "execution_count": 48,
   "metadata": {},
   "outputs": [],
   "source": [
    "name_custom_ee_images_list = predictors.bandNames().getInfo()\n",
    "ee_images_list = [predictors.select(band_name) for band_name in name_custom_ee_images_list]\n",
    "predictors_list = ['custom_ee_image' for x in name_custom_ee_images_list]"
   ]
  },
  {
   "cell_type": "code",
   "execution_count": 49,
   "metadata": {},
   "outputs": [],
   "source": [
    "ee_dataset_builder.spatial_covariates(covariates=predictors_list, \n",
    "                                      ee_image=ee_images_list,\n",
    "                                      name_custom_ee_image=name_custom_ee_images_list ) "
   ]
  },
  {
   "cell_type": "code",
   "execution_count": 50,
   "metadata": {},
   "outputs": [
    {
     "data": {
      "text/plain": [
       "['response', 'PD', 'LULC', 'precipitation', 'drainage_density', 'slope', 'LST']"
      ]
     },
     "execution_count": 50,
     "metadata": {},
     "output_type": "execute_result"
    }
   ],
   "source": [
    "ee_dataset_builder.image.bandNames().getInfo()"
   ]
  },
  {
   "cell_type": "code",
   "execution_count": 51,
   "metadata": {},
   "outputs": [
    {
     "data": {
      "application/vnd.jupyter.widget-view+json": {
       "model_id": "2058d2a7a3f0498382b10617fddca165",
       "version_major": 2,
       "version_minor": 0
      },
      "text/plain": [
       "Map(center=[29.7666636, 78.1999992], controls=(WidgetControl(options=['position', 'transparent_bg'], widget=HB…"
      ]
     },
     "metadata": {},
     "output_type": "display_data"
    }
   ],
   "source": [
    "Map"
   ]
  },
  {
   "cell_type": "markdown",
   "metadata": {},
   "source": [
    "# Export samples CSV to GCP"
   ]
  },
  {
   "cell_type": "code",
   "execution_count": 52,
   "metadata": {},
   "outputs": [],
   "source": [
    "# Gridded shapefile asset in GEE\n",
    "# Ganga 150m^2 grid file\n",
    "shp_asset_path = 'projects/ee-warnermichael09/assets/ganga_clipped_150m'\n",
    "\n",
    "scale = 30\n",
    "maxPixels = 1e13\n",
    "gcp_bucket = 'ganga-lab'\n",
    "gcp_folder_name = 'naala_identification'\n",
    "numPoints = 1000 # we override the number of points below with classPoints\n",
    "classBand = \"response\"\n",
    "classPoints = [4000, 1000]\n",
    "classValues = [0,1]"
   ]
  },
  {
   "cell_type": "code",
   "execution_count": 53,
   "metadata": {},
   "outputs": [
    {
     "name": "stdout",
     "output_type": "stream",
     "text": [
      "Error when loading FeatureCollection: projects/ee-warnermichael09/assets/ganga_clipped_150m.\n"
     ]
    },
    {
     "ename": "NameError",
     "evalue": "name 'exit' is not defined",
     "output_type": "error",
     "traceback": [
      "\u001b[1;31m---------------------------------------------------------------------------\u001b[0m",
      "\u001b[1;31mHttpError\u001b[0m                                 Traceback (most recent call last)",
      "File \u001b[1;32mc:\\Users\\warne\\anaconda3\\envs\\gee\\lib\\site-packages\\ee\\data.py:345\u001b[0m, in \u001b[0;36m_execute_cloud_call\u001b[1;34m(call, num_retries)\u001b[0m\n\u001b[0;32m    344\u001b[0m \u001b[39mtry\u001b[39;00m:\n\u001b[1;32m--> 345\u001b[0m   \u001b[39mreturn\u001b[39;00m call\u001b[39m.\u001b[39;49mexecute(num_retries\u001b[39m=\u001b[39;49mnum_retries)\n\u001b[0;32m    346\u001b[0m \u001b[39mexcept\u001b[39;00m googleapiclient\u001b[39m.\u001b[39merrors\u001b[39m.\u001b[39mHttpError \u001b[39mas\u001b[39;00m e:\n",
      "File \u001b[1;32mc:\\Users\\warne\\anaconda3\\envs\\gee\\lib\\site-packages\\googleapiclient\\_helpers.py:130\u001b[0m, in \u001b[0;36mpositional.<locals>.positional_decorator.<locals>.positional_wrapper\u001b[1;34m(*args, **kwargs)\u001b[0m\n\u001b[0;32m    129\u001b[0m         logger\u001b[39m.\u001b[39mwarning(message)\n\u001b[1;32m--> 130\u001b[0m \u001b[39mreturn\u001b[39;00m wrapped(\u001b[39m*\u001b[39margs, \u001b[39m*\u001b[39m\u001b[39m*\u001b[39mkwargs)\n",
      "File \u001b[1;32mc:\\Users\\warne\\anaconda3\\envs\\gee\\lib\\site-packages\\googleapiclient\\http.py:938\u001b[0m, in \u001b[0;36mHttpRequest.execute\u001b[1;34m(self, http, num_retries)\u001b[0m\n\u001b[0;32m    937\u001b[0m \u001b[39mif\u001b[39;00m resp\u001b[39m.\u001b[39mstatus \u001b[39m>\u001b[39m\u001b[39m=\u001b[39m \u001b[39m300\u001b[39m:\n\u001b[1;32m--> 938\u001b[0m     \u001b[39mraise\u001b[39;00m HttpError(resp, content, uri\u001b[39m=\u001b[39m\u001b[39mself\u001b[39m\u001b[39m.\u001b[39muri)\n\u001b[0;32m    939\u001b[0m \u001b[39mreturn\u001b[39;00m \u001b[39mself\u001b[39m\u001b[39m.\u001b[39mpostproc(resp, content)\n",
      "\u001b[1;31mHttpError\u001b[0m: <HttpError 400 when requesting https://earthengine.googleapis.com/v1alpha/projects/earthengine-legacy/value:compute?prettyPrint=false&alt=json returned \"User memory limit exceeded.\". Details: \"User memory limit exceeded.\">",
      "\nDuring handling of the above exception, another exception occurred:\n",
      "\u001b[1;31mEEException\u001b[0m                               Traceback (most recent call last)",
      "File \u001b[1;32mc:\\Users\\warne\\Desktop\\Projects\\naalas_2\\dataset_builder.py:452\u001b[0m, in \u001b[0;36mEEDatasetBuilder.load_ee_asset_shapefile\u001b[1;34m(self, shp_asset_path)\u001b[0m\n\u001b[0;32m    451\u001b[0m \u001b[39m# Converting FeatureCollection to python list because it crashes when query > 5000 elements\u001b[39;00m\n\u001b[1;32m--> 452\u001b[0m list_features_assets \u001b[39m=\u001b[39m asset\u001b[39m.\u001b[39;49mtoList(nb_features)\u001b[39m.\u001b[39;49mgetInfo()\n\u001b[0;32m    453\u001b[0m \u001b[39mprint\u001b[39m(\u001b[39mf\u001b[39m\u001b[39m\"\u001b[39m\u001b[39mGeometry number of features: \u001b[39m\u001b[39m{\u001b[39;00mnb_features\u001b[39m}\u001b[39;00m\u001b[39m\"\u001b[39m)\n",
      "File \u001b[1;32mc:\\Users\\warne\\anaconda3\\envs\\gee\\lib\\site-packages\\ee\\computedobject.py:96\u001b[0m, in \u001b[0;36mComputedObject.getInfo\u001b[1;34m(self)\u001b[0m\n\u001b[0;32m     91\u001b[0m \u001b[39m\u001b[39m\u001b[39m\"\"\"Fetch and return information about this object.\u001b[39;00m\n\u001b[0;32m     92\u001b[0m \n\u001b[0;32m     93\u001b[0m \u001b[39mReturns:\u001b[39;00m\n\u001b[0;32m     94\u001b[0m \u001b[39m  The object can evaluate to anything.\u001b[39;00m\n\u001b[0;32m     95\u001b[0m \u001b[39m\"\"\"\u001b[39;00m\n\u001b[1;32m---> 96\u001b[0m \u001b[39mreturn\u001b[39;00m data\u001b[39m.\u001b[39;49mcomputeValue(\u001b[39mself\u001b[39;49m)\n",
      "File \u001b[1;32mc:\\Users\\warne\\anaconda3\\envs\\gee\\lib\\site-packages\\ee\\data.py:954\u001b[0m, in \u001b[0;36mcomputeValue\u001b[1;34m(obj)\u001b[0m\n\u001b[0;32m    952\u001b[0m _maybe_populate_workload_tag(body)\n\u001b[1;32m--> 954\u001b[0m \u001b[39mreturn\u001b[39;00m _execute_cloud_call(\n\u001b[0;32m    955\u001b[0m     _get_cloud_projects()\n\u001b[0;32m    956\u001b[0m     \u001b[39m.\u001b[39;49mvalue()\n\u001b[0;32m    957\u001b[0m     \u001b[39m.\u001b[39;49mcompute(body\u001b[39m=\u001b[39;49mbody, project\u001b[39m=\u001b[39;49m_get_projects_path(), prettyPrint\u001b[39m=\u001b[39;49m\u001b[39mFalse\u001b[39;49;00m)\n\u001b[0;32m    958\u001b[0m )[\u001b[39m'\u001b[39m\u001b[39mresult\u001b[39m\u001b[39m'\u001b[39m]\n",
      "File \u001b[1;32mc:\\Users\\warne\\anaconda3\\envs\\gee\\lib\\site-packages\\ee\\data.py:347\u001b[0m, in \u001b[0;36m_execute_cloud_call\u001b[1;34m(call, num_retries)\u001b[0m\n\u001b[0;32m    346\u001b[0m \u001b[39mexcept\u001b[39;00m googleapiclient\u001b[39m.\u001b[39merrors\u001b[39m.\u001b[39mHttpError \u001b[39mas\u001b[39;00m e:\n\u001b[1;32m--> 347\u001b[0m   \u001b[39mraise\u001b[39;00m _translate_cloud_exception(e)\n",
      "\u001b[1;31mEEException\u001b[0m: User memory limit exceeded.",
      "\nDuring handling of the above exception, another exception occurred:\n",
      "\u001b[1;31mNameError\u001b[0m                                 Traceback (most recent call last)",
      "\u001b[1;32mc:\\Users\\warne\\Desktop\\Projects\\naalas_2\\naala_datasetbuilder_code.ipynb Cell 70\u001b[0m line \u001b[0;36m5\n\u001b[0;32m      <a href='vscode-notebook-cell:/c%3A/Users/warne/Desktop/Projects/naalas_2/naala_datasetbuilder_code.ipynb#Y130sZmlsZQ%3D%3D?line=0'>1</a>\u001b[0m samples_folder_name \u001b[39m=\u001b[39m \u001b[39mf\u001b[39m\u001b[39m'\u001b[39m\u001b[39mnaala_mapping_gridded_150^2_classPoints_4000_1000\u001b[39m\u001b[39m'\u001b[39m\n\u001b[0;32m      <a href='vscode-notebook-cell:/c%3A/Users/warne/Desktop/Projects/naalas_2/naala_datasetbuilder_code.ipynb#Y130sZmlsZQ%3D%3D?line=2'>3</a>\u001b[0m \u001b[39m# Stratified Sampling\u001b[39;00m\n\u001b[0;32m      <a href='vscode-notebook-cell:/c%3A/Users/warne/Desktop/Projects/naalas_2/naala_datasetbuilder_code.ipynb#Y130sZmlsZQ%3D%3D?line=3'>4</a>\u001b[0m \u001b[39m# This will take quite some time\u001b[39;00m\n\u001b[1;32m----> <a href='vscode-notebook-cell:/c%3A/Users/warne/Desktop/Projects/naalas_2/naala_datasetbuilder_code.ipynb#Y130sZmlsZQ%3D%3D?line=4'>5</a>\u001b[0m ee_dataset_builder\u001b[39m.\u001b[39;49msamples_csv_export(shp_asset_path\u001b[39m=\u001b[39;49mshp_asset_path, \n\u001b[0;32m      <a href='vscode-notebook-cell:/c%3A/Users/warne/Desktop/Projects/naalas_2/naala_datasetbuilder_code.ipynb#Y130sZmlsZQ%3D%3D?line=5'>6</a>\u001b[0m                                       name_gcp_bucket\u001b[39m=\u001b[39;49mgcp_bucket, \n\u001b[0;32m      <a href='vscode-notebook-cell:/c%3A/Users/warne/Desktop/Projects/naalas_2/naala_datasetbuilder_code.ipynb#Y130sZmlsZQ%3D%3D?line=6'>7</a>\u001b[0m                                       folder_in_gcp_bucket\u001b[39m=\u001b[39;49mgcp_folder_name \u001b[39m+\u001b[39;49m \u001b[39m'\u001b[39;49m\u001b[39m/\u001b[39;49m\u001b[39m'\u001b[39;49m \u001b[39m+\u001b[39;49m samples_folder_name, \n\u001b[0;32m      <a href='vscode-notebook-cell:/c%3A/Users/warne/Desktop/Projects/naalas_2/naala_datasetbuilder_code.ipynb#Y130sZmlsZQ%3D%3D?line=7'>8</a>\u001b[0m                                       scale\u001b[39m=\u001b[39;49mscale, \n\u001b[0;32m      <a href='vscode-notebook-cell:/c%3A/Users/warne/Desktop/Projects/naalas_2/naala_datasetbuilder_code.ipynb#Y130sZmlsZQ%3D%3D?line=8'>9</a>\u001b[0m                                       geometries\u001b[39m=\u001b[39;49m\u001b[39mTrue\u001b[39;49;00m,\n\u001b[0;32m     <a href='vscode-notebook-cell:/c%3A/Users/warne/Desktop/Projects/naalas_2/naala_datasetbuilder_code.ipynb#Y130sZmlsZQ%3D%3D?line=9'>10</a>\u001b[0m                                       isStratifiedSampling\u001b[39m=\u001b[39;49m\u001b[39mTrue\u001b[39;49;00m, \n\u001b[0;32m     <a href='vscode-notebook-cell:/c%3A/Users/warne/Desktop/Projects/naalas_2/naala_datasetbuilder_code.ipynb#Y130sZmlsZQ%3D%3D?line=10'>11</a>\u001b[0m                                       numPoints\u001b[39m=\u001b[39;49mnumPoints, \n\u001b[0;32m     <a href='vscode-notebook-cell:/c%3A/Users/warne/Desktop/Projects/naalas_2/naala_datasetbuilder_code.ipynb#Y130sZmlsZQ%3D%3D?line=11'>12</a>\u001b[0m                                       classValues\u001b[39m=\u001b[39;49mclassValues,\n\u001b[0;32m     <a href='vscode-notebook-cell:/c%3A/Users/warne/Desktop/Projects/naalas_2/naala_datasetbuilder_code.ipynb#Y130sZmlsZQ%3D%3D?line=12'>13</a>\u001b[0m                                       classBand\u001b[39m=\u001b[39;49mclassBand, \n\u001b[0;32m     <a href='vscode-notebook-cell:/c%3A/Users/warne/Desktop/Projects/naalas_2/naala_datasetbuilder_code.ipynb#Y130sZmlsZQ%3D%3D?line=13'>14</a>\u001b[0m                                       classPoints\u001b[39m=\u001b[39;49mclassPoints)\n",
      "File \u001b[1;32mc:\\Users\\warne\\Desktop\\Projects\\naalas_2\\dataset_builder.py:515\u001b[0m, in \u001b[0;36mEEDatasetBuilder.samples_csv_export\u001b[1;34m(self, shp_asset_path, name_gcp_bucket, folder_in_gcp_bucket, numPixels, scale, factor, seed, projection, tileScale, geometries, dropNulls, isStratifiedSampling, numPoints, classBand, classPoints, classValues)\u001b[0m\n\u001b[0;32m    488\u001b[0m \u001b[39m\u001b[39m\u001b[39m\"\"\"\u001b[39;00m\n\u001b[0;32m    489\u001b[0m \u001b[39mGenerates samples from the image and export them as CSV files to GCP bucket.\u001b[39;00m\n\u001b[0;32m    490\u001b[0m \n\u001b[1;32m   (...)\u001b[0m\n\u001b[0;32m    512\u001b[0m \n\u001b[0;32m    513\u001b[0m \u001b[39m\"\"\"\u001b[39;00m\n\u001b[0;32m    514\u001b[0m \u001b[39m###### Loading shapefile asset ######\u001b[39;00m\n\u001b[1;32m--> 515\u001b[0m nb_features, list_features_assets \u001b[39m=\u001b[39m \u001b[39mself\u001b[39;49m\u001b[39m.\u001b[39;49mload_ee_asset_shapefile(shp_asset_path)\n\u001b[0;32m    516\u001b[0m \u001b[39mif\u001b[39;00m isStratifiedSampling:\n\u001b[0;32m    517\u001b[0m     \u001b[39mprint\u001b[39m(\n\u001b[0;32m    518\u001b[0m         \u001b[39mf\u001b[39m\u001b[39m'\u001b[39m\u001b[39mStratified sampling: \u001b[39m\u001b[39m\\n\u001b[39;00m\u001b[39mnumPoints: \u001b[39m\u001b[39m{\u001b[39;00mnumPoints\u001b[39m}\u001b[39;00m\u001b[39m, \u001b[39m\u001b[39m\\n\u001b[39;00m\u001b[39mclassBand: \u001b[39m\u001b[39m{\u001b[39;00mclassBand\u001b[39m}\u001b[39;00m\u001b[39m, \u001b[39m\u001b[39m\\n\u001b[39;00m\u001b[39mscale: \u001b[39m\u001b[39m{\u001b[39;00mscale\u001b[39m}\u001b[39;00m\u001b[39m, \u001b[39m\u001b[39m\\n\u001b[39;00m\u001b[39mgeometries: \u001b[39m\u001b[39m{\u001b[39;00mgeometries\u001b[39m}\u001b[39;00m\u001b[39m, \u001b[39m\u001b[39m\\n\u001b[39;00m\u001b[39mdropNulls: \u001b[39m\u001b[39m{\u001b[39;00mdropNulls\u001b[39m}\u001b[39;00m\u001b[39m, \u001b[39m\u001b[39m\\n\u001b[39;00m\u001b[39mtileScale: \u001b[39m\u001b[39m{\u001b[39;00mtileScale\u001b[39m}\u001b[39;00m\u001b[39m, \u001b[39m\u001b[39m\\n\u001b[39;00m\u001b[39mclassPoints: \u001b[39m\u001b[39m{\u001b[39;00mclassPoints\u001b[39m}\u001b[39;00m\u001b[39m, \u001b[39m\u001b[39m\\n\u001b[39;00m\u001b[39mseed: \u001b[39m\u001b[39m{\u001b[39;00mseed\u001b[39m}\u001b[39;00m\u001b[39m, \u001b[39m\u001b[39m\\n\u001b[39;00m\u001b[39mprojection:\u001b[39m\u001b[39m{\u001b[39;00mprojection\u001b[39m}\u001b[39;00m\u001b[39m'\u001b[39m)\n",
      "File \u001b[1;32mc:\\Users\\warne\\Desktop\\Projects\\naalas_2\\dataset_builder.py:456\u001b[0m, in \u001b[0;36mEEDatasetBuilder.load_ee_asset_shapefile\u001b[1;34m(self, shp_asset_path)\u001b[0m\n\u001b[0;32m    454\u001b[0m \u001b[39mexcept\u001b[39;00m:\n\u001b[0;32m    455\u001b[0m     \u001b[39mprint\u001b[39m(\u001b[39mf\u001b[39m\u001b[39m\"\u001b[39m\u001b[39mError when loading FeatureCollection: \u001b[39m\u001b[39m{\u001b[39;00mshp_asset_path\u001b[39m}\u001b[39;00m\u001b[39m.\u001b[39m\u001b[39m\"\u001b[39m)\n\u001b[1;32m--> 456\u001b[0m     exit()\n\u001b[0;32m    458\u001b[0m \u001b[39mreturn\u001b[39;00m nb_features, list_features_assets\n",
      "\u001b[1;31mNameError\u001b[0m: name 'exit' is not defined"
     ]
    }
   ],
   "source": [
    "samples_folder_name = f'naala_mapping_gridded_150^2_classPoints_4000_1000'\n",
    "\n",
    "# Stratified Sampling\n",
    "# This will take quite some time\n",
    "ee_dataset_builder.samples_csv_export(shp_asset_path=shp_asset_path, \n",
    "                                      name_gcp_bucket=gcp_bucket, \n",
    "                                      folder_in_gcp_bucket=gcp_folder_name + '/' + samples_folder_name, \n",
    "                                      scale=scale, \n",
    "                                      geometries=True,\n",
    "                                      isStratifiedSampling=True, \n",
    "                                      numPoints=numPoints, \n",
    "                                      classValues=classValues,\n",
    "                                      classBand=classBand, \n",
    "                                      classPoints=classPoints)"
   ]
  }
 ],
 "metadata": {
  "kernelspec": {
   "display_name": "gee",
   "language": "python",
   "name": "python3"
  },
  "language_info": {
   "codemirror_mode": {
    "name": "ipython",
    "version": 3
   },
   "file_extension": ".py",
   "mimetype": "text/x-python",
   "name": "python",
   "nbconvert_exporter": "python",
   "pygments_lexer": "ipython3",
   "version": "3.10.12"
  }
 },
 "nbformat": 4,
 "nbformat_minor": 2
}
