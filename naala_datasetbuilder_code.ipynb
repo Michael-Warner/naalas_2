{
 "cells": [
  {
   "cell_type": "code",
   "execution_count": 1,
   "metadata": {},
   "outputs": [],
   "source": [
    "from dataset_builder import EEDatasetBuilder\n",
    "import geemap\n",
    "import ee\n",
    "import os\n",
    "import numpy as np\n",
    "import rasterio\n",
    "import dask.array as da"
   ]
  },
  {
   "cell_type": "code",
   "execution_count": 2,
   "metadata": {},
   "outputs": [
    {
     "data": {
      "text/html": [
       "<p>To authorize access needed by Earth Engine, open the following\n",
       "        URL in a web browser and follow the instructions:</p>\n",
       "        <p><a href=https://code.earthengine.google.com/client-auth?scopes=https%3A//www.googleapis.com/auth/earthengine%20https%3A//www.googleapis.com/auth/devstorage.full_control&request_id=Osvsl5b2yZWg9SMtTiXSak734dAzxR-h0rR4rGqg9pM&tc=DOMoOOuy3JsQQ4S0V0qLKhwJHuWfGYlbKlG6lHt8OTY&cc=LnjCWEyUlBTLDNfS4Pmg-uVZGQwllh7AH5H1dgtFPS4>https://code.earthengine.google.com/client-auth?scopes=https%3A//www.googleapis.com/auth/earthengine%20https%3A//www.googleapis.com/auth/devstorage.full_control&request_id=Osvsl5b2yZWg9SMtTiXSak734dAzxR-h0rR4rGqg9pM&tc=DOMoOOuy3JsQQ4S0V0qLKhwJHuWfGYlbKlG6lHt8OTY&cc=LnjCWEyUlBTLDNfS4Pmg-uVZGQwllh7AH5H1dgtFPS4</a></p>\n",
       "        <p>The authorization workflow will generate a code, which you should paste in the box below.</p>\n",
       "        "
      ],
      "text/plain": [
       "<IPython.core.display.HTML object>"
      ]
     },
     "metadata": {},
     "output_type": "display_data"
    },
    {
     "name": "stdout",
     "output_type": "stream",
     "text": [
      "\n",
      "Successfully saved authorization token.\n"
     ]
    }
   ],
   "source": [
    "# Trigger the authentication flow.\n",
    "ee.Authenticate()"
   ]
  },
  {
   "cell_type": "code",
   "execution_count": 3,
   "metadata": {},
   "outputs": [],
   "source": [
    "# Initialize the library.\n",
    "ee.Initialize()"
   ]
  },
  {
   "cell_type": "code",
   "execution_count": 4,
   "metadata": {},
   "outputs": [
    {
     "data": {
      "application/vnd.jupyter.widget-view+json": {
       "model_id": "44a067c5df214ba490a7f4fc71bdea57",
       "version_major": 2,
       "version_minor": 0
      },
      "text/plain": [
       "Map(center=[25.239, 82.396], controls=(WidgetControl(options=['position', 'transparent_bg'], widget=HBox(child…"
      ]
     },
     "metadata": {},
     "output_type": "display_data"
    }
   ],
   "source": [
    "Map = geemap.Map(center=[ 25.239, 82.396], zoom=9)\n",
    "Map"
   ]
  },
  {
   "cell_type": "markdown",
   "metadata": {},
   "source": [
    "# This first part is to create the image file needed to identify the Naalas, not clip the area for the ganga river!!"
   ]
  },
  {
   "cell_type": "code",
   "execution_count": 5,
   "metadata": {},
   "outputs": [],
   "source": [
    "# Build ee dataset builder\n",
    "ee_dataset_builder = EEDatasetBuilder()"
   ]
  },
  {
   "cell_type": "code",
   "execution_count": 6,
   "metadata": {},
   "outputs": [],
   "source": [
    "# buffer zone for ganga river\n",
    "ganga_buff = ee.FeatureCollection('projects/nikhilrajdeep/assets/Buffer_Ganga_river')"
   ]
  },
  {
   "cell_type": "code",
   "execution_count": 7,
   "metadata": {},
   "outputs": [],
   "source": [
    "subsection_clip = ee.FeatureCollection(\"projects/ee-warnermichael09/assets/gridded_30m_subsection\")"
   ]
  },
  {
   "cell_type": "code",
   "execution_count": 8,
   "metadata": {},
   "outputs": [],
   "source": [
    "subset_naalas = ee.Image('projects/ee-warnermichael09/assets/naalas_masked_30m').clip(subsection_clip)"
   ]
  },
  {
   "cell_type": "code",
   "execution_count": 9,
   "metadata": {},
   "outputs": [],
   "source": [
    "Map.addLayer(subset_naalas,{} , 'naalas masked')"
   ]
  },
  {
   "cell_type": "code",
   "execution_count": 10,
   "metadata": {},
   "outputs": [
    {
     "name": "stdout",
     "output_type": "stream",
     "text": [
      "ee.Image({\n",
      "  \"functionInvocationValue\": {\n",
      "    \"functionName\": \"Image.rename\",\n",
      "    \"arguments\": {\n",
      "      \"input\": {\n",
      "        \"functionInvocationValue\": {\n",
      "          \"functionName\": \"Image.clip\",\n",
      "          \"arguments\": {\n",
      "            \"geometry\": {\n",
      "              \"functionInvocationValue\": {\n",
      "                \"functionName\": \"Collection.loadTable\",\n",
      "                \"arguments\": {\n",
      "                  \"tableId\": {\n",
      "                    \"constantValue\": \"projects/ee-warnermichael09/assets/gridded_30m_subsection\"\n",
      "                  }\n",
      "                }\n",
      "              }\n",
      "            },\n",
      "            \"input\": {\n",
      "              \"functionInvocationValue\": {\n",
      "                \"functionName\": \"Image.load\",\n",
      "                \"arguments\": {\n",
      "                  \"id\": {\n",
      "                    \"constantValue\": \"projects/ee-warnermichael09/assets/naalas_masked_30m\"\n",
      "                  }\n",
      "                }\n",
      "              }\n",
      "            }\n",
      "          }\n",
      "        }\n",
      "      },\n",
      "      \"names\": {\n",
      "        \"constantValue\": [\n",
      "          \"response\"\n",
      "        ]\n",
      "      }\n",
      "    }\n",
      "  }\n",
      "})\n"
     ]
    }
   ],
   "source": [
    "# Need to upload the masked naala area\n",
    "ee_dataset_builder.filtered_response_layer_from_raster(\n",
    "    response_raster=\"custom\", \n",
    "    ee_image=subset_naalas,\n",
    "    custom_response_raster_name='response'\n",
    ")"
   ]
  },
  {
   "cell_type": "markdown",
   "metadata": {},
   "source": [
    "PD\n",
    "LULC\n",
    "Prec\n",
    "DD\n",
    "Slope\n",
    "LST #land surface temp"
   ]
  },
  {
   "cell_type": "markdown",
   "metadata": {},
   "source": [
    "### Local way of setting up the geoTIFF files"
   ]
  },
  {
   "cell_type": "code",
   "execution_count": 11,
   "metadata": {},
   "outputs": [],
   "source": [
    "#out_dir = os.path.expanduser(r'\\Data\\geotiffs')\n",
    "\n",
    "#if not os.path.exists(out_dir):\n",
    "#    os.makedirs(out_dir)\n",
    "\n",
    "#PD = os.path.join(r\"Data\\geotiffs\\pop_bucket.tif\")\n",
    "#LULC = os.path.join(r\"C:\\Users\\warne\\Desktop\\Projects\\naalas_2\\Data\\geotiffs\\lulcCond.tif\")\n",
    "#Prec = os.path.join(r'C:\\Users\\warne\\Desktop\\Projects\\naalas_2\\Data\\geotiffs\\rainCond.tif')\n",
    "#DD = os.path.join(r\"Data\\geotiffs\\ddCond.tif\")\n",
    "#Slope = os.path.join(r'Data\\geotiffs\\slopeCond.tif')\n",
    "#LST = os.path.join(r'Data\\geotiffs\\tempCond.tif')\n",
    "\n"
   ]
  },
  {
   "cell_type": "code",
   "execution_count": 12,
   "metadata": {},
   "outputs": [],
   "source": [
    "#Population Density\n",
    "#Map.add_raster(PD, layer_name = \"Population Density\")\n",
    "#Map.add_raster(LULC, layer_name = \"Land use, Land cover\")\n",
    "#Map.add_raster(Prec, layer_name = \"Rainfall\")\n",
    "#Map.add_raster(DD, layer_name = \"Drainage Density\")\n",
    "#Map.add_raster(Slope, layer_name = \"Slope\")\n",
    "#Map.add_raster(LST, layer_name = \"Land Surface Temp\")"
   ]
  },
  {
   "cell_type": "markdown",
   "metadata": {},
   "source": [
    "#### Online way of setting up datasets through GEE"
   ]
  },
  {
   "cell_type": "markdown",
   "metadata": {},
   "source": [
    "##### Chirps is the rain fall dataset"
   ]
  },
  {
   "cell_type": "code",
   "execution_count": 13,
   "metadata": {},
   "outputs": [],
   "source": [
    "# Loading of the data sets\n",
    "merit_water = ee.Image('MERIT/Hydro/v1_0_1').rename(\"hydro\");\n",
    "ele = ee.Image(\"NASA/NASADEM_HGT/001\").rename(\"ele\");\n",
    "twi = ee.Image(\"projects/nikhilrajdeep/assets/TWI_Ganga\");\n",
    "dd = ee.Image(\"projects/nikhilrajdeep/assets/drainage_density\").rename(\"dd\");\n",
    "chirps = ee.ImageCollection(\"UCSB-CHG/CHIRPS/PENTAD\");\n",
    "l8 = ee.ImageCollection(\"LANDSAT/LC08/C02/T1_L2\");\n",
    "lc = ee.ImageCollection(\"ESA/WorldCover/v200\");\n",
    "soil = ee.Image(\"OpenLandMap/SOL/SOL_TEXTURE-CLASS_USDA-TT_M/v02\");\n",
    "pop = ee.ImageCollection(\"CIESIN/GPWv411/GPW_UNWPP-Adjusted_Population_Density\");"
   ]
  },
  {
   "cell_type": "code",
   "execution_count": 14,
   "metadata": {},
   "outputs": [],
   "source": [
    "base = []"
   ]
  },
  {
   "cell_type": "code",
   "execution_count": 15,
   "metadata": {},
   "outputs": [],
   "source": [
    "base = merit_water.rename(\"hydro\").clip(ganga_buff)"
   ]
  },
  {
   "cell_type": "code",
   "execution_count": 16,
   "metadata": {},
   "outputs": [],
   "source": [
    "base = base.addBands(dd).rename(\"dd\").clip(ganga_buff)\n",
    "base = base.addBands(ele).rename(\"ele\").clip(ganga_buff)"
   ]
  },
  {
   "cell_type": "code",
   "execution_count": 17,
   "metadata": {},
   "outputs": [],
   "source": [
    "\n",
    "base = base.addBands(twi).rename(\"twi\").clip(ganga_buff)\n",
    "base = base.addBands(chirps).rename(\"chirps\").clip(ganga_buff)\n",
    "base = base.addBands(l8).rename(\"l8\").clip(ganga_buff)\n",
    "base = base.addBands(lc).rename(\"1c\").clip(ganga_buff)\n",
    "base = base.addBands(soil).rename(\"soil\").clip(ganga_buff)\n",
    "base = base.addBands(pop).rename(\"pop\").clip(ganga_buff)"
   ]
  },
  {
   "cell_type": "code",
   "execution_count": 18,
   "metadata": {},
   "outputs": [
    {
     "data": {
      "text/html": [
       "<pre>&lt;ee.image.Image object at 0x000001580C7E1E70&gt;</pre>"
      ],
      "text/plain": [
       "<ee.image.Image at 0x1580c7e1e70>"
      ]
     },
     "execution_count": 18,
     "metadata": {},
     "output_type": "execute_result"
    }
   ],
   "source": [
    "base"
   ]
  },
  {
   "cell_type": "code",
   "execution_count": 19,
   "metadata": {},
   "outputs": [],
   "source": [
    "merit_water = ee.Image('MERIT/Hydro/v1_0_1').clip(subsection_clip);\n",
    "ele = ee.Image(\"NASA/NASADEM_HGT/001\");\n",
    "twi = ee.Image(\"projects/nikhilrajdeep/assets/TWI_Ganga\");\n",
    "dd = ee.Image(\"projects/nikhilrajdeep/assets/drainage_density\");\n",
    "chirps = ee.ImageCollection(\"UCSB-CHG/CHIRPS/PENTAD\");\n",
    "l8 = ee.ImageCollection(\"LANDSAT/LC08/C02/T1_L2\");\n",
    "lc = ee.ImageCollection(\"ESA/WorldCover/v200\");\n",
    "soil = ee.Image(\"OpenLandMap/SOL/SOL_TEXTURE-CLASS_USDA-TT_M/v02\");\n",
    "pop = ee.ImageCollection(\"CIESIN/GPWv411/GPW_UNWPP-Adjusted_Population_Density\");"
   ]
  },
  {
   "cell_type": "markdown",
   "metadata": {},
   "source": [
    "# Population Density"
   ]
  },
  {
   "cell_type": "code",
   "execution_count": 20,
   "metadata": {},
   "outputs": [],
   "source": [
    "gpop = pop.toBands().select('gpw_v4_population_density_adjusted_to_2015_unwpp_country_totals_rev11_2020_30_sec_unwpp-adjusted_population_density').clip(subsection_clip).rename('popDensity');"
   ]
  },
  {
   "cell_type": "code",
   "execution_count": 21,
   "metadata": {},
   "outputs": [],
   "source": [
    "gpop_cond = gpop.expression(\n",
    "    \"(b('popDensity') > 0 && b('popDensity') < 865) ? 1\" +\n",
    "    \":(b('popDensity') >= 865 && b('popDensity') < 1600) ? 2\" +\n",
    "    \":(b('popDensity') >= 1600 && b('popDensity') < 2680) ? 3\" +\n",
    "    \":(b('popDensity') >= 2680 && b('popDensity') < 4036) ? 4\" +\n",
    "    \":(b('popDensity') >= 4036) ? 5\" +\n",
    "    \": 0\"  # Default value in case none of the conditions above are met\n",
    ").clip(subsection_clip)"
   ]
  },
  {
   "cell_type": "code",
   "execution_count": 22,
   "metadata": {},
   "outputs": [],
   "source": [
    "conditionParams = {\n",
    "    'min': 1,\n",
    "    'max': 5,\n",
    "    'palette': ['1a9641', 'a6d96a', 'ffffbf', 'fdae61', 'd7191c']\n",
    "}"
   ]
  },
  {
   "cell_type": "code",
   "execution_count": 23,
   "metadata": {},
   "outputs": [],
   "source": [
    "Map.addLayer(gpop_cond, conditionParams, 'Population density')"
   ]
  },
  {
   "cell_type": "code",
   "execution_count": 24,
   "metadata": {},
   "outputs": [],
   "source": [
    "predictors = gpop_cond.rename('PD')"
   ]
  },
  {
   "cell_type": "markdown",
   "metadata": {},
   "source": [
    "# Land Use Land Cover, LULC"
   ]
  },
  {
   "cell_type": "code",
   "execution_count": 25,
   "metadata": {},
   "outputs": [],
   "source": [
    "lulc = lc.first().clip(subsection_clip).rename('LULC')"
   ]
  },
  {
   "cell_type": "code",
   "execution_count": 26,
   "metadata": {},
   "outputs": [],
   "source": [
    "lulcCond = (lulc.eq(80).multiply(5)\n",
    "            .where(lulc.eq(90), 1)\n",
    "            .where(lulc.eq(10), 1)\n",
    "            .where(lulc.eq(20), 1)\n",
    "            .where(lulc.eq(30), 1)\n",
    "            .where(lulc.eq(40), 4)\n",
    "            .where(lulc.eq(60), 2)\n",
    "            .where(lulc.eq(50), 3))"
   ]
  },
  {
   "cell_type": "code",
   "execution_count": 27,
   "metadata": {},
   "outputs": [],
   "source": [
    "Map.addLayer(lulcCond, conditionParams, 'LULC');"
   ]
  },
  {
   "cell_type": "code",
   "execution_count": 28,
   "metadata": {},
   "outputs": [],
   "source": [
    "predictors = predictors.addBands(lulcCond)"
   ]
  },
  {
   "cell_type": "markdown",
   "metadata": {},
   "source": [
    "# Precipitation, chirps dataset\n",
    "\n",
    "\n"
   ]
  },
  {
   "cell_type": "code",
   "execution_count": 29,
   "metadata": {},
   "outputs": [],
   "source": [
    "rain = chirps.filterDate('2022-01-01','2023-01-01').sum().clip(subsection_clip)"
   ]
  },
  {
   "cell_type": "code",
   "execution_count": 30,
   "metadata": {},
   "outputs": [],
   "source": [
    "rainCond = (rain\n",
    "  .where(rain.lt(868), 1)\n",
    "  .where(rain.gte(868)and(rain.lt(1019)), 2)\n",
    "  .where(rain.gte(1019)and(rain.lt(1189)), 3)\n",
    "  .where(rain.gte(1189)and(rain.lt(1410)), 4)\n",
    "  .where(rain.gte(1410), 5))\n"
   ]
  },
  {
   "cell_type": "code",
   "execution_count": 31,
   "metadata": {},
   "outputs": [],
   "source": [
    "Map.addLayer(rainCond, conditionParams, 'Rainfall Categorized');"
   ]
  },
  {
   "cell_type": "code",
   "execution_count": 32,
   "metadata": {},
   "outputs": [],
   "source": [
    "predictors = predictors.addBands(rainCond)"
   ]
  },
  {
   "cell_type": "markdown",
   "metadata": {},
   "source": [
    "# Drainage Density DD"
   ]
  },
  {
   "cell_type": "markdown",
   "metadata": {},
   "source": [
    "Drainage density\n",
    "\n",
    "| DD         | Condition     | \n",
    "\n",
    "| <0.53      | Extreme low   |\n",
    " \n",
    " | 0.53-1.43  | low           |\n",
    " \n",
    " | 1.43-2.57  | Moderate      |\n",
    " \n",
    " | 2.57-4     | high          |\n",
    " \n",
    " | >4         | Extreme high  |"
   ]
  },
  {
   "cell_type": "code",
   "execution_count": 33,
   "metadata": {},
   "outputs": [],
   "source": [
    "ddCond = (dd\n",
    "  .where(dd.lt(0.6), 1)\n",
    "  .where(dd.gte(0.6)and(dd.lt(1.5)), 2)\n",
    "  .where(dd.gte(1.5)and(dd.lt(2.6)), 3)\n",
    "  .where(dd.gte(2.6)and(dd.lt(4)), 4)\n",
    "  .where(dd.gte(4), 5)).rename('drainage_density').clip(subsection_clip)"
   ]
  },
  {
   "cell_type": "code",
   "execution_count": 34,
   "metadata": {},
   "outputs": [],
   "source": [
    "Map.addLayer(ddCond, conditionParams, 'drainage density');"
   ]
  },
  {
   "cell_type": "code",
   "execution_count": 35,
   "metadata": {},
   "outputs": [],
   "source": [
    "predictors = predictors.addBands(ddCond)"
   ]
  },
  {
   "cell_type": "markdown",
   "metadata": {},
   "source": [
    "# Slope"
   ]
  },
  {
   "cell_type": "code",
   "execution_count": 36,
   "metadata": {},
   "outputs": [],
   "source": [
    "dem = ele.select('elevation')\n",
    "slope = ee.Terrain.slope(dem).clip(subsection_clip)"
   ]
  },
  {
   "cell_type": "code",
   "execution_count": 37,
   "metadata": {},
   "outputs": [],
   "source": [
    "slopeCond = (slope\n",
    "  .where(slope.lt(4), 5)\n",
    "  .where(slope.gte(4)and(slope.lt(12)), 4)\n",
    "  .where(slope.gte(12)and(slope.lt(24)), 3)\n",
    "  .where(slope.gte(24)and(slope.lt(35)), 2)\n",
    "  .where(slope.gte(35), 1))"
   ]
  },
  {
   "cell_type": "code",
   "execution_count": 38,
   "metadata": {},
   "outputs": [],
   "source": [
    "Map.addLayer(slopeCond, conditionParams, 'slope');"
   ]
  },
  {
   "cell_type": "code",
   "execution_count": 39,
   "metadata": {},
   "outputs": [],
   "source": [
    "predictors = predictors.addBands(slopeCond)"
   ]
  },
  {
   "cell_type": "code",
   "execution_count": 40,
   "metadata": {},
   "outputs": [
    {
     "data": {
      "text/html": [
       "<div><style>:root {\n",
       "  --font-color-primary: var(--jp-content-font-color0, rgba(0, 0, 0, 1));\n",
       "  --font-color-secondary: var(--jp-content-font-color2, rgba(0, 0, 0, 0.6));\n",
       "  --font-color-accent: rgba(123, 31, 162, 1);\n",
       "  --border-color: var(--jp-border-color2, #e0e0e0);\n",
       "  --background-color: var(--jp-layout-color0, white);\n",
       "  --background-color-row-even: var(--jp-layout-color1, white);\n",
       "  --background-color-row-odd: var(--jp-layout-color2, #eeeeee);\n",
       "}\n",
       "\n",
       "html[theme=\"dark\"],\n",
       "body[data-theme=\"dark\"],\n",
       "body.vscode-dark {\n",
       "  --font-color-primary: rgba(255, 255, 255, 1);\n",
       "  --font-color-secondary: rgba(255, 255, 255, 0.6);\n",
       "  --font-color-accent: rgb(173, 132, 190);\n",
       "  --border-color: #2e2e2e;\n",
       "  --background-color: #111111;\n",
       "  --background-color-row-even: #111111;\n",
       "  --background-color-row-odd: #313131;\n",
       "}\n",
       "\n",
       ".ee {\n",
       "  padding: 1em;\n",
       "  line-height: 1.5em;\n",
       "  min-width: 300px;\n",
       "  max-width: 1200px;\n",
       "  overflow-y: scroll;\n",
       "  max-height: 600px;\n",
       "  border: 1px solid var(--border-color);\n",
       "  font-family: monospace;\n",
       "}\n",
       "\n",
       ".ee li {\n",
       "  list-style-type: none;\n",
       "}\n",
       "\n",
       ".ee ul {\n",
       "  padding-left: 1.5em !important;\n",
       "  margin: 0;\n",
       "}\n",
       "\n",
       ".ee > ul {\n",
       "  padding-left: 0 !important;\n",
       "}\n",
       "\n",
       ".ee-open,\n",
       ".ee-shut {\n",
       "  color: var(--font-color-secondary);\n",
       "  cursor: pointer;\n",
       "  margin: 0;\n",
       "}\n",
       "\n",
       ".ee-open:hover,\n",
       ".ee-shut:hover {\n",
       "  color: var(--font-color-primary);\n",
       "}\n",
       "\n",
       ".ee-k {\n",
       "  color: var(--font-color-accent);\n",
       "  margin-right: 6px;\n",
       "}\n",
       "\n",
       ".ee-v {\n",
       "  color: var(--font-color-primary);\n",
       "}\n",
       "\n",
       ".ee-toggle {\n",
       "  display: none;\n",
       "}\n",
       "\n",
       ".ee-shut + ul {\n",
       "  display: none;\n",
       "}\n",
       "\n",
       ".ee-open + ul {\n",
       "  display: block;\n",
       "}\n",
       "\n",
       ".ee-shut::before {\n",
       "  display: inline-block;\n",
       "  content: \"▼\";\n",
       "  margin-right: 6px;\n",
       "  transform: rotate(-90deg);\n",
       "  transition: transform 0.2s;\n",
       "}\n",
       "\n",
       ".ee-open::before {\n",
       "  transform: rotate(0deg);\n",
       "  display: inline-block;\n",
       "  content: \"▼\";\n",
       "  margin-right: 6px;\n",
       "  transition: transform 0.2s;\n",
       "}\n",
       "</style><div class='ee'><ul><li><label class='ee-shut'>Image (5 bands)<input type='checkbox' class='ee-toggle'></label><ul><li><span class='ee-k'>type:</span><span class='ee-v'>Image</span></li><li><label class='ee-shut'>bands: List (5 elements)<input type='checkbox' class='ee-toggle'></label><ul><li><label class='ee-shut'>0: \"PD\", int ∈ [0, 5], EPSG:4326<input type='checkbox' class='ee-toggle'></label><ul><li><span class='ee-k'>id:</span><span class='ee-v'>PD</span></li><li><span class='ee-k'>crs:</span><span class='ee-v'>EPSG:4326</span></li><li><label class='ee-shut'>crs_transform: [1, 0, 0, 0, 1, 0]<input type='checkbox' class='ee-toggle'></label><ul><li><span class='ee-k'>0:</span><span class='ee-v'>1</span></li><li><span class='ee-k'>1:</span><span class='ee-v'>0</span></li><li><span class='ee-k'>2:</span><span class='ee-v'>0</span></li><li><span class='ee-k'>3:</span><span class='ee-v'>0</span></li><li><span class='ee-k'>4:</span><span class='ee-v'>1</span></li><li><span class='ee-k'>5:</span><span class='ee-v'>0</span></li></ul></li><li><label class='ee-shut'>data_type: int ∈ [0, 5]<input type='checkbox' class='ee-toggle'></label><ul><li><span class='ee-k'>type:</span><span class='ee-v'>PixelType</span></li><li><span class='ee-k'>max:</span><span class='ee-v'>5</span></li><li><span class='ee-k'>min:</span><span class='ee-v'>0</span></li><li><span class='ee-k'>precision:</span><span class='ee-v'>int</span></li></ul></li></ul></li><li><label class='ee-shut'>1: \"LULC\", int ∈ [0, 5], EPSG:4326<input type='checkbox' class='ee-toggle'></label><ul><li><span class='ee-k'>id:</span><span class='ee-v'>LULC</span></li><li><span class='ee-k'>crs:</span><span class='ee-v'>EPSG:4326</span></li><li><label class='ee-shut'>crs_transform: List (6 elements)<input type='checkbox' class='ee-toggle'></label><ul><li><span class='ee-k'>0:</span><span class='ee-v'>8.333333333333333e-05</span></li><li><span class='ee-k'>1:</span><span class='ee-v'>0</span></li><li><span class='ee-k'>2:</span><span class='ee-v'>-180</span></li><li><span class='ee-k'>3:</span><span class='ee-v'>0</span></li><li><span class='ee-k'>4:</span><span class='ee-v'>-8.333333333333333e-05</span></li><li><span class='ee-k'>5:</span><span class='ee-v'>84</span></li></ul></li><li><label class='ee-shut'>data_type: int ∈ [0, 5]<input type='checkbox' class='ee-toggle'></label><ul><li><span class='ee-k'>type:</span><span class='ee-v'>PixelType</span></li><li><span class='ee-k'>max:</span><span class='ee-v'>5</span></li><li><span class='ee-k'>min:</span><span class='ee-v'>0</span></li><li><span class='ee-k'>precision:</span><span class='ee-v'>int</span></li></ul></li></ul></li><li><label class='ee-shut'>2: \"precipitation\", double, EPSG:4326<input type='checkbox' class='ee-toggle'></label><ul><li><span class='ee-k'>id:</span><span class='ee-v'>precipitation</span></li><li><span class='ee-k'>crs:</span><span class='ee-v'>EPSG:4326</span></li><li><label class='ee-shut'>crs_transform: [1, 0, 0, 0, 1, 0]<input type='checkbox' class='ee-toggle'></label><ul><li><span class='ee-k'>0:</span><span class='ee-v'>1</span></li><li><span class='ee-k'>1:</span><span class='ee-v'>0</span></li><li><span class='ee-k'>2:</span><span class='ee-v'>0</span></li><li><span class='ee-k'>3:</span><span class='ee-v'>0</span></li><li><span class='ee-k'>4:</span><span class='ee-v'>1</span></li><li><span class='ee-k'>5:</span><span class='ee-v'>0</span></li></ul></li><li><label class='ee-shut'>data_type: double<input type='checkbox' class='ee-toggle'></label><ul><li><span class='ee-k'>type:</span><span class='ee-v'>PixelType</span></li><li><span class='ee-k'>precision:</span><span class='ee-v'>double</span></li></ul></li></ul></li><li><label class='ee-shut'>3: \"drainage_density\", float, EPSG:32644, 22643x19886 px<input type='checkbox' class='ee-toggle'></label><ul><li><span class='ee-k'>id:</span><span class='ee-v'>drainage_density</span></li><li><span class='ee-k'>crs:</span><span class='ee-v'>EPSG:32644</span></li><li><label class='ee-shut'>crs_transform: List (6 elements)<input type='checkbox' class='ee-toggle'></label><ul><li><span class='ee-k'>0:</span><span class='ee-v'>30</span></li><li><span class='ee-k'>1:</span><span class='ee-v'>0</span></li><li><span class='ee-k'>2:</span><span class='ee-v'>199085.12520000263</span></li><li><span class='ee-k'>3:</span><span class='ee-v'>0</span></li><li><span class='ee-k'>4:</span><span class='ee-v'>-30</span></li><li><span class='ee-k'>5:</span><span class='ee-v'>3364894.9999999967</span></li></ul></li><li><label class='ee-shut'>data_type: float<input type='checkbox' class='ee-toggle'></label><ul><li><span class='ee-k'>type:</span><span class='ee-v'>PixelType</span></li><li><span class='ee-k'>precision:</span><span class='ee-v'>float</span></li></ul></li><li><label class='ee-shut'>dimensions: [22643, 19886]<input type='checkbox' class='ee-toggle'></label><ul><li><span class='ee-k'>0:</span><span class='ee-v'>22643</span></li><li><span class='ee-k'>1:</span><span class='ee-v'>19886</span></li></ul></li></ul></li><li><label class='ee-shut'>4: \"slope\", float, EPSG:4326<input type='checkbox' class='ee-toggle'></label><ul><li><span class='ee-k'>id:</span><span class='ee-v'>slope</span></li><li><span class='ee-k'>crs:</span><span class='ee-v'>EPSG:4326</span></li><li><label class='ee-shut'>crs_transform: List (6 elements)<input type='checkbox' class='ee-toggle'></label><ul><li><span class='ee-k'>0:</span><span class='ee-v'>0.0002777777777777778</span></li><li><span class='ee-k'>1:</span><span class='ee-v'>0</span></li><li><span class='ee-k'>2:</span><span class='ee-v'>-179.0001388888889</span></li><li><span class='ee-k'>3:</span><span class='ee-v'>0</span></li><li><span class='ee-k'>4:</span><span class='ee-v'>-0.0002777777777777778</span></li><li><span class='ee-k'>5:</span><span class='ee-v'>61.00013888888889</span></li></ul></li><li><label class='ee-shut'>data_type: float<input type='checkbox' class='ee-toggle'></label><ul><li><span class='ee-k'>type:</span><span class='ee-v'>PixelType</span></li><li><span class='ee-k'>max:</span><span class='ee-v'>90</span></li><li><span class='ee-k'>min:</span><span class='ee-v'>0</span></li><li><span class='ee-k'>precision:</span><span class='ee-v'>float</span></li></ul></li></ul></li></ul></li></ul></li></ul></div><script>function toggleHeader() {\n",
       "    const parent = this.parentElement;\n",
       "    parent.className = parent.className === \"ee-open\" ? \"ee-shut\" : \"ee-open\";\n",
       "}\n",
       "\n",
       "for (let c of document.getElementsByClassName(\"ee-toggle\")) {\n",
       "    c.onclick = toggleHeader;\n",
       "}</script></div>"
      ],
      "text/plain": [
       "<ee.image.Image at 0x1580cab3880>"
      ]
     },
     "execution_count": 40,
     "metadata": {},
     "output_type": "execute_result"
    }
   ],
   "source": [
    "predictors"
   ]
  },
  {
   "cell_type": "markdown",
   "metadata": {},
   "source": [
    "# NDVI, needed for LST"
   ]
  },
  {
   "cell_type": "code",
   "execution_count": 41,
   "metadata": {},
   "outputs": [],
   "source": [
    "def maskL8sr(image):\n",
    "    qaMask = image.select('QA_PIXEL').bitwiseAnd(int('11111', 2)).eq(0)\n",
    "    saturationMask = image.select('QA_RADSAT').eq(0)\n",
    "\n",
    "    opticalBands = image.select('SR_B.').multiply(0.0000275).add(-0.2)\n",
    "    thermalBands = image.select('ST_B.*').multiply(0.00341802).add(149.0)\n",
    "\n",
    "    return image.addBands(opticalBands, None, True)\\\n",
    "                .addBands(thermalBands, None, True)\\\n",
    "                .updateMask(qaMask)\\\n",
    "                .updateMask(saturationMask)"
   ]
  },
  {
   "cell_type": "code",
   "execution_count": 42,
   "metadata": {},
   "outputs": [],
   "source": [
    "def addindices(image):\n",
    "    ndvi = image.normalizedDifference(['SR_B5', 'SR_B4']).rename('NDVI')\n",
    "    return image.addBands(ndvi)\n"
   ]
  },
  {
   "cell_type": "code",
   "execution_count": 43,
   "metadata": {},
   "outputs": [],
   "source": [
    "ndvi = (l8.filterDate('2022-01-01', '2023-01-01')\n",
    "        .filterBounds(ganga_buff)\n",
    "        .filterMetadata('CLOUD_COVER', 'less_than', 10)\n",
    "        .map(maskL8sr)\n",
    "        .map(addindices)\n",
    "        .select('NDVI')\n",
    "        .mean()\n",
    "        .clip(ganga_buff))\n",
    "\n",
    "ndviCond = (ndvi.where(ndvi.lt(0.14), 5)\n",
    "           .where(ndvi.gte(0.14)and(ndvi.lt(0.33)), 4)\n",
    "           .where(ndvi.gte(0.33)and(ndvi.lt(0.44)), 3)\n",
    "           .where(ndvi.gte(0.44)and(ndvi.lt(0.58)), 2)\n",
    "           .where(ndvi.gte(0.58), 1))\n"
   ]
  },
  {
   "cell_type": "markdown",
   "metadata": {},
   "source": [
    "# Land Surface Temperature LST"
   ]
  },
  {
   "cell_type": "code",
   "execution_count": 44,
   "metadata": {},
   "outputs": [],
   "source": [
    "temp = (l8.filterDate('2021-01-01', '2022-01-01')\n",
    "        .filterBounds(subsection_clip)\n",
    "        .filterMetadata('CLOUD_COVER', 'less_than', 10)\n",
    "        .map(maskL8sr)\n",
    "        .select('ST_B10')\n",
    "        .map(lambda image: image.subtract(273.15))\n",
    "        .mean()\n",
    "        .clip(subsection_clip)).rename('LST')"
   ]
  },
  {
   "cell_type": "code",
   "execution_count": 45,
   "metadata": {},
   "outputs": [],
   "source": [
    "tempCond = (temp\n",
    "  .where(temp.lt(25), 1)\n",
    "  .where(temp.gte(25)and(temp.lt(30)), 2)\n",
    "  .where(temp.gte(30)and(temp.lt(34)), 3)\n",
    "  .where(temp.gte(34)and(temp.lt(37)), 4)\n",
    "  .where(temp.gte(37), 5))"
   ]
  },
  {
   "cell_type": "code",
   "execution_count": 46,
   "metadata": {},
   "outputs": [],
   "source": [
    "Map.addLayer(tempCond, conditionParams, 'LST 2022');"
   ]
  },
  {
   "cell_type": "code",
   "execution_count": 47,
   "metadata": {},
   "outputs": [],
   "source": [
    "predictors = predictors.addBands(tempCond)"
   ]
  },
  {
   "cell_type": "markdown",
   "metadata": {},
   "source": [
    "# Merit - Hydro NOT IMPLEMENTED"
   ]
  },
  {
   "cell_type": "code",
   "execution_count": 48,
   "metadata": {},
   "outputs": [
    {
     "data": {
      "text/plain": [
       "['PD', 'LULC', 'precipitation', 'drainage_density', 'slope', 'LST']"
      ]
     },
     "execution_count": 48,
     "metadata": {},
     "output_type": "execute_result"
    }
   ],
   "source": [
    "predictors.bandNames().getInfo()"
   ]
  },
  {
   "cell_type": "code",
   "execution_count": 49,
   "metadata": {},
   "outputs": [],
   "source": [
    "name_custom_ee_images_list = predictors.bandNames().getInfo()\n",
    "ee_images_list = [predictors.select(band_name) for band_name in name_custom_ee_images_list]\n",
    "predictors_list = ['custom_ee_image' for x in name_custom_ee_images_list]"
   ]
  },
  {
   "cell_type": "code",
   "execution_count": 50,
   "metadata": {},
   "outputs": [],
   "source": [
    "ee_dataset_builder.spatial_covariates(covariates=predictors_list, \n",
    "                                      ee_image=ee_images_list,\n",
    "                                      name_custom_ee_image=name_custom_ee_images_list ) "
   ]
  },
  {
   "cell_type": "code",
   "execution_count": 51,
   "metadata": {},
   "outputs": [
    {
     "data": {
      "text/plain": [
       "['response', 'PD', 'LULC', 'precipitation', 'drainage_density', 'slope', 'LST']"
      ]
     },
     "execution_count": 51,
     "metadata": {},
     "output_type": "execute_result"
    }
   ],
   "source": [
    "ee_dataset_builder.image.bandNames().getInfo()"
   ]
  },
  {
   "cell_type": "markdown",
   "metadata": {},
   "source": [
    "# Export samples CSV to GCP"
   ]
  },
  {
   "cell_type": "code",
   "execution_count": 52,
   "metadata": {},
   "outputs": [
    {
     "name": "stdout",
     "output_type": "stream",
     "text": [
      "Subset loaded (6007, [{'type': 'Feature', 'geometry': {'type': 'LineString', 'coordinates': [[81.85803238699944, 25.601521988089], [81.86947019398383, 25.60145442179845]]}, 'id': '00000000000000000000', 'properties': {'bottom': 2831834.99417558, 'id': 43, 'left': 586159.4528034591, 'right': 702828.3092464125, 'top': 2831834.99417558}}, {'type': 'Feature', 'geometry': {'type': 'LineString', 'coordinates': [[81.8580304677284, 25.601253066464743], [81.87395635609175, 25.601158744333695]]}, 'id': '00000000000000000001', 'properties': {'bottom': 2831804.99417558, 'id': 44, 'left': 586159.4528034591, 'right': 702828.3092464125, 'top': 2831804.99417558}}, {'type': 'Feature', 'geometry': {'type': 'LineString', 'coordinates': [[81.85802851649758, 25.600979662803127], [81.87684592540604, 25.60086803049321]]}, 'id': '00000000000000000002', 'properties': {'bottom': 2831774.99417558, 'id': 45, 'left': 586159.4528034591, 'right': 702828.3092464125, 'top': 2831774.99417558}}, {'type': 'Feature', 'geometry': {'type': 'LineString', 'coordinates': [[81.85802659728178, 25.60071074115865], [81.87915720242594, 25.60058522013149]]}, 'id': '00000000000000000003', 'properties': {'bottom': 2831744.99417558, 'id': 46, 'left': 586159.4528034591, 'right': 702828.3092464125, 'top': 2831744.99417558}}, {'type': 'Feature', 'geometry': {'type': 'LineString', 'coordinates': [[81.85802464610711, 25.60043733747649], [81.88112738132963, 25.600299947069146]]}, 'id': '00000000000000000004', 'properties': {'bottom': 2831714.99417558, 'id': 47, 'left': 586159.4528034591, 'right': 702828.3092464125, 'top': 2831714.99417558}}, {'type': 'Feature', 'geometry': {'type': 'LineString', 'coordinates': [[81.85802272694653, 25.60016841581179], [81.88287021478217, 25.60002050267346]]}, 'id': '00000000000000000005', 'properties': {'bottom': 2831684.99417558, 'id': 48, 'left': 586159.4528034591, 'right': 702828.3092464125, 'top': 2831684.99417558}}, {'type': 'Feature', 'geometry': {'type': 'LineString', 'coordinates': [[81.85802080781333, 25.599899494137073], [81.88441532855437, 25.599742233660432]]}, 'id': '00000000000000000006', 'properties': {'bottom': 2831654.99417558, 'id': 49, 'left': 586159.4528034591, 'right': 702828.3092464125, 'top': 2831654.99417558}}, {'type': 'Feature', 'geometry': {'type': 'LineString', 'coordinates': [[81.85801885672265, 25.599626090424163], [81.88586154644597, 25.59946006541809]]}, 'id': '00000000000000000007', 'properties': {'bottom': 2831624.9941755803, 'id': 50, 'left': 586159.4528034591, 'right': 702828.3092464125, 'top': 2831624.9941755803}}, {'type': 'Feature', 'geometry': {'type': 'LineString', 'coordinates': [[81.85801693764468, 25.59935716872923], [81.88722870623883, 25.59918284489463]]}, 'id': '00000000000000000008', 'properties': {'bottom': 2831594.99417558, 'id': 51, 'left': 586159.4528034591, 'right': 702828.3092464125, 'top': 2831594.99417558}}, {'type': 'Feature', 'geometry': {'type': 'LineString', 'coordinates': [[81.85801498661016, 25.599083764995765], [81.88849697154409, 25.598901730437017]]}, 'id': '00000000000000000009', 'properties': {'bottom': 2831564.99417558, 'id': 52, 'left': 586159.4528034591, 'right': 702828.3092464125, 'top': 2831564.99417558}}]) successfully.\n"
     ]
    }
   ],
   "source": [
    "start_index = 0\n",
    "end_index = 10  # example range\n",
    "nb_features, list_features_assets = ee_dataset_builder.load_ee_asset_shapefile('projects/ee-warnermichael09/assets/gridded_30m_subsection', start_index, end_index)\n",
    "\n",
    "if nb_features is None:\n",
    "    print(\"Failed to load the subset of the Earth Engine asset.\")\n",
    "else:\n",
    "    print(f\"Subset loaded {nb_features, list_features_assets} successfully.\")"
   ]
  },
  {
   "cell_type": "code",
   "execution_count": 53,
   "metadata": {},
   "outputs": [
    {
     "data": {
      "text/plain": [
       "6007"
      ]
     },
     "execution_count": 53,
     "metadata": {},
     "output_type": "execute_result"
    }
   ],
   "source": [
    "# Gridded shapefile asset in GEE\n",
    "# Ganga 150m^2 grid file\n",
    "shp_asset_path = 'projects/ee-warnermichael09/assets/gridded_30m_subsection'\n",
    "\n",
    "# Load the feature collection\n",
    "feature_collection = ee.FeatureCollection(shp_asset_path)\n",
    "\n",
    "scale = 30\n",
    "maxPixels = 1e13\n",
    "gcp_bucket = 'ganga-lab'\n",
    "gcp_folder_name = 'naala_identification'\n",
    "numPoints = 1000 # we override the number of points below with classPoints\n",
    "classBand = \"response\"\n",
    "classPoints = [4000, 1000]\n",
    "classValues = [0,1]\n",
    "batch_size = 500\n",
    "total_features = feature_collection.size().getInfo()\n",
    "total_features"
   ]
  },
  {
   "cell_type": "code",
   "execution_count": 54,
   "metadata": {},
   "outputs": [
    {
     "data": {
      "text/plain": [
       "13"
      ]
     },
     "execution_count": 54,
     "metadata": {},
     "output_type": "execute_result"
    }
   ],
   "source": [
    "# Calculate total number of batches\n",
    "total_batches = (total_features + batch_size - 1) // batch_size\n",
    "total_batches"
   ]
  },
  {
   "cell_type": "code",
   "execution_count": 55,
   "metadata": {},
   "outputs": [],
   "source": [
    "#ee_dataset_builder.main_processing_pipeline(shp_asset_path, chunk_size=50000)  # example chunk size\n"
   ]
  },
  {
   "cell_type": "code",
   "execution_count": 56,
   "metadata": {},
   "outputs": [
    {
     "name": "stdout",
     "output_type": "stream",
     "text": [
      "Total features in asset: 6007\n",
      "Total batches: 13\n"
     ]
    }
   ],
   "source": [
    "print(\"Total features in asset:\", total_features)\n",
    "print(\"Total batches:\", total_batches)\n"
   ]
  },
  {
   "cell_type": "code",
   "execution_count": 60,
   "metadata": {},
   "outputs": [
    {
     "name": "stdout",
     "output_type": "stream",
     "text": [
      "Type of list_features_assets: <class 'int'>\n",
      "First few elements in list_features_assets: 6007\n"
     ]
    }
   ],
   "source": [
    "list_features_assets, _ = ee_dataset_builder.load_ee_asset_shapefile(\n",
    "    shp_asset_path, \n",
    "    start_index=start_index, \n",
    "    end_index=end_index\n",
    ")\n",
    "\n",
    "print(\"Type of list_features_assets:\", type(list_features_assets))\n",
    "print(\"First few elements in list_features_assets:\", list_features_assets[:2])\n"
   ]
  },
  {
   "cell_type": "code",
   "execution_count": 62,
   "metadata": {},
   "outputs": [
    {
     "name": "stdout",
     "output_type": "stream",
     "text": [
      "Total features in asset: 6007\n",
      "Total batches: 13\n",
      "Loading batch 0: start_index = 0, end_index = 500\n",
      "Stratified sampling: \n",
      "numPoints: 1000, \n",
      "classBand: response, \n",
      "scale: 30, \n",
      "geometries: True, \n",
      "dropNulls: True, \n",
      "tileScale: 1, \n",
      "classPoints: [4000, 1000], \n",
      "seed: 0, \n",
      "projection:None\n",
      "Batch number: 0, Start index: 0, End index: 500, Total features: [{'type': 'Feature', 'geometry': {'type': 'LineString', 'coordinates': [[81.85803238699944, 25.601521988089], [81.86947019398383, 25.60145442179845]]}, 'id': '00000000000000000000', 'properties': {'bottom': 2831834.99417558, 'id': 43, 'left': 586159.4528034591, 'right': 702828.3092464125, 'top': 2831834.99417558}}, {'type': 'Feature', 'geometry': {'type': 'LineString', 'coordinates': [[81.8580304677284, 25.601253066464743], [81.87395635609175, 25.601158744333695]]}, 'id': '00000000000000000001', 'properties': {'bottom': 2831804.99417558, 'id': 44, 'left': 586159.4528034591, 'right': 702828.3092464125, 'top': 2831804.99417558}}, {'type': 'Feature', 'geometry': {'type': 'LineString', 'coordinates': [[81.85802851649758, 25.600979662803127], [81.87684592540604, 25.60086803049321]]}, 'id': '00000000000000000002', 'properties': {'bottom': 2831774.99417558, 'id': 45, 'left': 586159.4528034591, 'right': 702828.3092464125, 'top': 2831774.99417558}}, {'type': 'Feature', 'geometry': {'type': 'LineString', 'coordinates': [[81.85802659728178, 25.60071074115865], [81.87915720242594, 25.60058522013149]]}, 'id': '00000000000000000003', 'properties': {'bottom': 2831744.99417558, 'id': 46, 'left': 586159.4528034591, 'right': 702828.3092464125, 'top': 2831744.99417558}}, {'type': 'Feature', 'geometry': {'type': 'LineString', 'coordinates': [[81.85802464610711, 25.60043733747649], [81.88112738132963, 25.600299947069146]]}, 'id': '00000000000000000004', 'properties': {'bottom': 2831714.99417558, 'id': 47, 'left': 586159.4528034591, 'right': 702828.3092464125, 'top': 2831714.99417558}}, {'type': 'Feature', 'geometry': {'type': 'LineString', 'coordinates': [[81.85802272694653, 25.60016841581179], [81.88287021478217, 25.60002050267346]]}, 'id': '00000000000000000005', 'properties': {'bottom': 2831684.99417558, 'id': 48, 'left': 586159.4528034591, 'right': 702828.3092464125, 'top': 2831684.99417558}}, {'type': 'Feature', 'geometry': {'type': 'LineString', 'coordinates': [[81.85802080781333, 25.599899494137073], [81.88441532855437, 25.599742233660432]]}, 'id': '00000000000000000006', 'properties': {'bottom': 2831654.99417558, 'id': 49, 'left': 586159.4528034591, 'right': 702828.3092464125, 'top': 2831654.99417558}}, {'type': 'Feature', 'geometry': {'type': 'LineString', 'coordinates': [[81.85801885672265, 25.599626090424163], [81.88586154644597, 25.59946006541809]]}, 'id': '00000000000000000007', 'properties': {'bottom': 2831624.9941755803, 'id': 50, 'left': 586159.4528034591, 'right': 702828.3092464125, 'top': 2831624.9941755803}}, {'type': 'Feature', 'geometry': {'type': 'LineString', 'coordinates': [[81.85801693764468, 25.59935716872923], [81.88722870623883, 25.59918284489463]]}, 'id': '00000000000000000008', 'properties': {'bottom': 2831594.99417558, 'id': 51, 'left': 586159.4528034591, 'right': 702828.3092464125, 'top': 2831594.99417558}}, {'type': 'Feature', 'geometry': {'type': 'LineString', 'coordinates': [[81.85801498661016, 25.599083764995765], [81.88849697154409, 25.598901730437017]]}, 'id': '00000000000000000009', 'properties': {'bottom': 2831564.99417558, 'id': 52, 'left': 586159.4528034591, 'right': 702828.3092464125, 'top': 2831564.99417558}}, {'type': 'Feature', 'geometry': {'type': 'LineString', 'coordinates': [[81.85801306758741, 25.59881484328062], [81.88970100838527, 25.598625478078556]]}, 'id': '0000000000000000000a', 'properties': {'bottom': 2831534.99417558, 'id': 53, 'left': 586159.4528034591, 'right': 702828.3092464125, 'top': 2831534.99417558}}, {'type': 'Feature', 'geometry': {'type': 'LineString', 'coordinates': [[81.85801111660902, 25.598541439526606], [81.8908654645252, 25.598344974854005]]}, 'id': '0000000000000000000b', 'properties': {'bottom': 2831504.99417558, 'id': 54, 'left': 586159.4528034591, 'right': 702828.3092464125, 'top': 2831504.99417558}}, {'type': 'Feature', 'geometry': {'type': 'LineString', 'coordinates': [[81.8580091976415, 25.598272517791248], [81.89193603700679, 25.59806951731815]]}, 'id': '0000000000000000000c', 'properties': {'bottom': 2831474.99417558, 'id': 55, 'left': 586159.4528034591, 'right': 702828.3092464125, 'top': 2831474.99417558}}, {'type': 'Feature', 'geometry': {'type': 'LineString', 'coordinates': [[81.85800724671924, 25.597999114016677], [81.89299174301735, 25.59778966062769]]}, 'id': '0000000000000000000d', 'properties': {'bottom': 2831444.99417558, 'id': 56, 'left': 586159.4528034591, 'right': 702828.3092464125, 'top': 2831444.99417558}}, {'type': 'Feature', 'geometry': {'type': 'LineString', 'coordinates': [[81.85800532780695, 25.5977301922611], [81.89402770653541, 25.597514399295083]]}, 'id': '0000000000000000000e', 'properties': {'bottom': 2831414.99417558, 'id': 57, 'left': 586159.4528034591, 'right': 702828.3092464125, 'top': 2831414.99417558}}, {'type': 'Feature', 'geometry': {'type': 'LineString', 'coordinates': [[81.85800340892202, 25.597461270495494], [81.8950834357161, 25.59723900972731]]}, 'id': '0000000000000000000f', 'properties': {'bottom': 2831384.9941755803, 'id': 58, 'left': 586159.4528034591, 'right': 702828.3092464125, 'top': 2831384.9941755803}}, {'type': 'Feature', 'geometry': {'type': 'LineString', 'coordinates': [[81.85800145808376, 25.59718786669019], [81.89608969999792, 25.59695943355118]]}, 'id': '00000000000000000010', 'properties': {'bottom': 2831354.99417558, 'id': 59, 'left': 586159.4528034591, 'right': 702828.3092464125, 'top': 2831354.99417558}}, {'type': 'Feature', 'geometry': {'type': 'LineString', 'coordinates': [[81.85799953925407, 25.59691894490437], [81.89704162389461, 25.59668466606617]]}, 'id': '00000000000000000011', 'properties': {'bottom': 2831324.99417558, 'id': 60, 'left': 586159.4528034591, 'right': 702828.3092464125, 'top': 2831324.99417558}}, {'type': 'Feature', 'geometry': {'type': 'LineString', 'coordinates': [[81.85799758847193, 25.59664554107852], [81.8979737393165, 25.59640553191041]]}, 'id': '00000000000000000012', 'properties': {'bottom': 2831294.99417558, 'id': 61, 'left': 586159.4528034591, 'right': 702828.3092464125, 'top': 2831294.99417558}}, {'type': 'Feature', 'geometry': {'type': 'LineString', 'coordinates': [[81.85799566969744, 25.596376619272487], [81.89887622810814, 25.596131056184465]]}, 'id': '00000000000000000013', 'properties': {'bottom': 2831264.99417558, 'id': 62, 'left': 586159.4528034591, 'right': 702828.3092464125, 'top': 2831264.99417558}}, {'type': 'Feature', 'geometry': {'type': 'LineString', 'coordinates': [[81.85799371897146, 25.596103215426073], [81.89974902352482, 25.595852275468925]]}, 'id': '00000000000000000014', 'properties': {'bottom': 2831234.99417558, 'id': 63, 'left': 586159.4528034591, 'right': 702828.3092464125, 'top': 2831234.99417558}}, {'type': 'Feature', 'geometry': {'type': 'LineString', 'coordinates': [[81.85799180025221, 25.595834293599832], [81.90060702057023, 25.595578062936916]]}, 'id': '00000000000000000015', 'properties': {'bottom': 2831204.99417558, 'id': 64, 'left': 586159.4528034591, 'right': 702828.3092464125, 'top': 2831204.99417558}}, {'type': 'Feature', 'geometry': {'type': 'LineString', 'coordinates': [[81.85798988156031, 25.59556537176356], [81.90142053044556, 25.595304119661023]]}, 'id': '00000000000000000016', 'properties': {'bottom': 2831174.99417558, 'id': 65, 'left': 586159.4528034591, 'right': 702828.3092464125, 'top': 2831174.99417558}}, {'type': 'Feature', 'geometry': {'type': 'LineString', 'coordinates': [[81.85798793091833, 25.59529196788641], [81.90223894541539, 25.595025659478953]]}, 'id': '00000000000000000017', 'properties': {'bottom': 2831144.9941755803, 'id': 66, 'left': 586159.4528034591, 'right': 702828.3092464125, 'top': 2831144.9941755803}}, {'type': 'Feature', 'geometry': {'type': 'LineString', 'coordinates': [[81.85798601228164, 25.59502304602994], [81.90300796469012, 25.594751981977513]]}, 'id': '00000000000000000018', 'properties': {'bottom': 2831114.99417558, 'id': 67, 'left': 586159.4528034591, 'right': 702828.3092464125, 'top': 2831114.99417558}}, {'type': 'Feature', 'geometry': {'type': 'LineString', 'coordinates': [[81.85798406169576, 25.594749642132236], [81.903776946669, 25.594473818540287]]}, 'id': '00000000000000000019', 'properties': {'bottom': 2831084.99417558, 'id': 68, 'left': 586159.4528034591, 'right': 702828.3092464125, 'top': 2831084.99417558}}, {'type': 'Feature', 'geometry': {'type': 'LineString', 'coordinates': [[81.85798214311431, 25.594480720255547], [81.90452124609699, 25.59420028596708]]}, 'id': '0000000000000000001a', 'properties': {'bottom': 2831054.99417558, 'id': 69, 'left': 586159.4528034591, 'right': 702828.3092464125, 'top': 2831054.99417558}}, {'type': 'Feature', 'geometry': {'type': 'LineString', 'coordinates': [[81.85798019258458, 25.594207316337293], [81.90524573827305, 25.593922390086348]]}, 'id': '0000000000000000001b', 'properties': {'bottom': 2831024.99417558, 'id': 70, 'left': 586159.4528034591, 'right': 702828.3092464125, 'top': 2831024.99417558}}, {'type': 'Feature', 'geometry': {'type': 'LineString', 'coordinates': [[81.85797827405834, 25.593938394440386], [81.90597520326027, 25.593648942053]]}, 'id': '0000000000000000001c', 'properties': {'bottom': 2830994.99417558, 'id': 71, 'left': 586159.4528034591, 'right': 702828.3092464125, 'top': 2830994.99417558}}, {'type': 'Feature', 'geometry': {'type': 'LineString', 'coordinates': [[81.85797632358475, 25.59366499050159], [81.90667003367032, 25.593371222976145]]}, 'id': '0000000000000000001d', 'properties': {'bottom': 2830964.99417558, 'id': 72, 'left': 586159.4528034591, 'right': 702828.3092464125, 'top': 2830964.99417558}}, {'type': 'Feature', 'geometry': {'type': 'LineString', 'coordinates': [[81.8579744051137, 25.59339606858447], [81.90735995212823, 25.5930980133107]]}, 'id': '0000000000000000001e', 'properties': {'bottom': 2830934.99417558, 'id': 73, 'left': 586159.4528034591, 'right': 702828.3092464125, 'top': 2830934.99417558}}, {'type': 'Feature', 'geometry': {'type': 'LineString', 'coordinates': [[81.85797248667006, 25.593127146657334], [81.9080152701643, 25.59282501526788]]}, 'id': '0000000000000000001f', 'properties': {'bottom': 2830904.9941755803, 'id': 74, 'left': 586159.4528034591, 'right': 702828.3092464125, 'top': 2830904.9941755803}}, {'type': 'Feature', 'geometry': {'type': 'LineString', 'coordinates': [[81.85797053628042, 25.59285374268779], [81.90866560884137, 25.592547563095366]]}, 'id': '00000000000000000020', 'properties': {'bottom': 2830874.99417558, 'id': 75, 'left': 586159.4528034591, 'right': 702828.3092464125, 'top': 2830874.99417558}}, {'type': 'Feature', 'geometry': {'type': 'LineString', 'coordinates': [[81.85796861789198, 25.592584820740438], [81.90931597832878, 25.592274590072503]]}, 'id': '00000000000000000021', 'properties': {'bottom': 2830844.99417558, 'id': 76, 'left': 586159.4528034591, 'right': 702828.3092464125, 'top': 2830844.99417558}}, {'type': 'Feature', 'geometry': {'type': 'LineString', 'coordinates': [[81.85796666755847, 25.592311416750352], [81.90994159877643, 25.591997286008052]]}, 'id': '00000000000000000022', 'properties': {'bottom': 2830814.99417558, 'id': 77, 'left': 586159.4528034591, 'right': 702828.3092464125, 'top': 2830814.99417558}}, {'type': 'Feature', 'geometry': {'type': 'LineString', 'coordinates': [[81.85796474922525, 25.592042494782785], [81.91055736538605, 25.59172452284534]]}, 'id': '00000000000000000023', 'properties': {'bottom': 2830784.99417558, 'id': 78, 'left': 586159.4528034591, 'right': 702828.3092464125, 'top': 2830784.99417558}}, {'type': 'Feature', 'geometry': {'type': 'LineString', 'coordinates': [[81.85796279894787, 25.591769090772157], [81.91117309518322, 25.591447275187317]]}, 'id': '00000000000000000024', 'properties': {'bottom': 2830754.99417558, 'id': 79, 'left': 586159.4528034591, 'right': 702828.3092464125, 'top': 2830754.99417558}}, {'type': 'Feature', 'geometry': {'type': 'LineString', 'coordinates': [[81.85796088066986, 25.591500168784382], [81.91176908651624, 25.591174630215303]]}, 'id': '00000000000000000025', 'properties': {'bottom': 2830724.99417558, 'id': 80, 'left': 586159.4528034591, 'right': 702828.3092464125, 'top': 2830724.99417558}}, {'type': 'Feature', 'geometry': {'type': 'LineString', 'coordinates': [[81.85795896241923, 25.59123124678658], [81.91235519034251, 25.59090204453847]]}, 'id': '00000000000000000026', 'properties': {'bottom': 2830694.99417558, 'id': 81, 'left': 586159.4528034591, 'right': 702828.3092464125, 'top': 2830694.99417558}}, {'type': 'Feature', 'geometry': {'type': 'LineString', 'coordinates': [[81.85795701222581, 25.590957842745215], [81.912941257436, 25.59062497460831]]}, 'id': '00000000000000000027', 'properties': {'bottom': 2830664.9941755803, 'id': 82, 'left': 586159.4528034591, 'right': 702828.3092464125, 'top': 2830664.9941755803}}, {'type': 'Feature', 'geometry': {'type': 'LineString', 'coordinates': [[81.85795509403037, 25.5906889207272], [81.91351252876815, 25.59035247696558]]}, 'id': '00000000000000000028', 'properties': {'bottom': 2830634.99417558, 'id': 83, 'left': 586159.4528034591, 'right': 702828.3092464125, 'top': 2830634.99417558}}, {'type': 'Feature', 'geometry': {'type': 'LineString', 'coordinates': [[81.85795314389308, 25.59041551666528], [81.91406893639025, 25.59007558784789]]}, 'id': '00000000000000000029', 'properties': {'bottom': 2830604.99417558, 'id': 84, 'left': 586159.4528034591, 'right': 702828.3092464125, 'top': 2830604.99417558}}, {'type': 'Feature', 'geometry': {'type': 'LineString', 'coordinates': [[81.85795122575287, 25.59014659462707], [81.91462537548098, 25.589803178638494]]}, 'id': '0000000000000000002a', 'properties': {'bottom': 2830574.99417558, 'id': 85, 'left': 586159.4528034591, 'right': 702828.3092464125, 'top': 2830574.99417558}}, {'type': 'Feature', 'geometry': {'type': 'LineString', 'coordinates': [[81.8579492756717, 25.589873190544605], [81.91517189327745, 25.58952634725373]]}, 'id': '0000000000000000002b', 'properties': {'bottom': 2830544.99417558, 'id': 86, 'left': 586159.4528034591, 'right': 702828.3092464125, 'top': 2830544.99417558}}, {'type': 'Feature', 'geometry': {'type': 'LineString', 'coordinates': [[81.85794735758668, 25.589604268486166], [81.91570361573153, 25.589254088674217]]}, 'id': '0000000000000000002c', 'properties': {'bottom': 2830514.99417558, 'id': 87, 'left': 586159.4528034591, 'right': 702828.3092464125, 'top': 2830514.99417558}}, {'type': 'Feature', 'geometry': {'type': 'LineString', 'coordinates': [[81.85794540756164, 25.589330864383165], [81.9162303593081, 25.588977377212537]]}, 'id': '0000000000000000002d', 'properties': {'bottom': 2830484.99417558, 'id': 88, 'left': 586159.4528034591, 'right': 702828.3092464125, 'top': 2830484.99417558}}, {'type': 'Feature', 'geometry': {'type': 'LineString', 'coordinates': [[81.85794348953183, 25.58906194230452], [81.91675713457647, 25.588705145873295]]}, 'id': '0000000000000000002e', 'properties': {'bottom': 2830454.99417558, 'id': 89, 'left': 586159.4528034591, 'right': 702828.3092464125, 'top': 2830454.99417558}}, {'type': 'Feature', 'geometry': {'type': 'LineString', 'coordinates': [[81.85794157152941, 25.588793020215864], [81.91726908062576, 25.588433005672652]]}, 'id': '0000000000000000002f', 'properties': {'bottom': 2830424.9941755803, 'id': 90, 'left': 586159.4528034591, 'right': 702828.3092464125, 'top': 2830424.9941755803}}, {'type': 'Feature', 'geometry': {'type': 'LineString', 'coordinates': [[81.85793962158833, 25.588519616082117], [81.91777604787231, 25.588156412781384]]}, 'id': '00000000000000000030', 'properties': {'bottom': 2830394.99417558, 'id': 91, 'left': 586159.4528034591, 'right': 702828.3092464125, 'top': 2830394.99417558}}, {'type': 'Feature', 'geometry': {'type': 'LineString', 'coordinates': [[81.85793770364108, 25.588250693973258], [81.91828304696293, 25.587884300148556]]}, 'id': '00000000000000000031', 'properties': {'bottom': 2830364.99417558, 'id': 92, 'left': 586159.4528034591, 'right': 702828.3092464125, 'top': 2830364.99417558}}, {'type': 'Feature', 'geometry': {'type': 'LineString', 'coordinates': [[81.85793575375612, 25.58797728981896], [81.91877024057801, 25.587607828023252]]}, 'id': '00000000000000000032', 'properties': {'bottom': 2830334.99417558, 'id': 93, 'left': 586159.4528034591, 'right': 702828.3092464125, 'top': 2830334.99417558}}, {'type': 'Feature', 'geometry': {'type': 'LineString', 'coordinates': [[81.85793383586407, 25.587708367689878], [81.91925252395298, 25.58733586734657]]}, 'id': '00000000000000000033', 'properties': {'bottom': 2830304.99417558, 'id': 94, 'left': 586159.4528034591, 'right': 702828.3092464125, 'top': 2830304.99417558}}, {'type': 'Feature', 'geometry': {'type': 'LineString', 'coordinates': [[81.85793188603523, 25.587434963515047], [81.9197397130524, 25.587059392093966]]}, 'id': '00000000000000000034', 'properties': {'bottom': 2830274.99417558, 'id': 95, 'left': 586159.4528034591, 'right': 702828.3092464125, 'top': 2830274.99417558}}, {'type': 'Feature', 'geometry': {'type': 'LineString', 'coordinates': [[81.8579299681984, 25.58716604136576], [81.92021704977864, 25.5867874594124]]}, 'id': '00000000000000000035', 'properties': {'bottom': 2830244.99417558, 'id': 96, 'left': 586159.4528034591, 'right': 702828.3092464125, 'top': 2830244.99417558}}, {'type': 'Feature', 'geometry': {'type': 'LineString', 'coordinates': [[81.85792805038894, 25.586897119206455], [81.92067955777384, 25.58651561854216]]}, 'id': '00000000000000000036', 'properties': {'bottom': 2830214.99417558, 'id': 97, 'left': 586159.4528034591, 'right': 702828.3092464125, 'top': 2830214.99417558}}, {'type': 'Feature', 'geometry': {'type': 'LineString', 'coordinates': [[81.85792610064405, 25.586623715000883], [81.92114697150134, 25.586239263176026]]}, 'id': '00000000000000000037', 'properties': {'bottom': 2830184.9941755803, 'id': 98, 'left': 586159.4528034591, 'right': 702828.3092464125, 'top': 2830184.9941755803}}, {'type': 'Feature', 'geometry': {'type': 'LineString', 'coordinates': [[81.85792418288979, 25.586354792821364], [81.92160947523008, 25.58596741946125]]}, 'id': '00000000000000000038', 'properties': {'bottom': 2830154.99417558, 'id': 99, 'left': 586159.4528034591, 'right': 702828.3092464125, 'top': 2830154.99417558}}, {'type': 'Feature', 'geometry': {'type': 'LineString', 'coordinates': [[81.85792223320102, 25.586081388595247], [81.9220571160551, 25.585691185829678]]}, 'id': '00000000000000000039', 'properties': {'bottom': 2830124.99417558, 'id': 100, 'left': 586159.4528034591, 'right': 702828.3092464125, 'top': 2830124.99417558}}, {'type': 'Feature', 'geometry': {'type': 'LineString', 'coordinates': [[81.85792031550194, 25.58581246639552], [81.92249984703336, 25.585419463999383]]}, 'id': '0000000000000000003a', 'properties': {'bottom': 2830094.99417558, 'id': 101, 'left': 586159.4528034591, 'right': 702828.3092464125, 'top': 2830094.99417558}}, {'type': 'Feature', 'geometry': {'type': 'LineString', 'coordinates': [[81.8579183658693, 25.585539062148865], [81.92294254160456, 25.585143258916577]]}, 'id': '0000000000000000003b', 'properties': {'bottom': 2830064.99417558, 'id': 102, 'left': 586159.4528034591, 'right': 702828.3092464125, 'top': 2830064.99417558}}, {'type': 'Feature', 'geometry': {'type': 'LineString', 'coordinates': [[81.85791644822542, 25.585270139928937], [81.92338526851772, 25.584871534497196]]}, 'id': '0000000000000000003c', 'properties': {'bottom': 2830034.99417558, 'id': 103, 'left': 586159.4528034591, 'right': 702828.3092464125, 'top': 2830034.99417558}}, {'type': 'Feature', 'geometry': {'type': 'LineString', 'coordinates': [[81.85791453060892, 25.585001217698974], [81.92380822501704, 25.584599933623743]]}, 'id': '0000000000000000003d', 'properties': {'bottom': 2830004.99417558, 'id': 104, 'left': 586159.4528034591, 'right': 702828.3092464125, 'top': 2830004.99417558}}, {'type': 'Feature', 'geometry': {'type': 'LineString', 'coordinates': [[81.8579125810602, 25.584727813421594], [81.92423608724211, 25.5843238183897]]}, 'id': '0000000000000000003e', 'properties': {'bottom': 2829974.99417558, 'id': 105, 'left': 586159.4528034591, 'right': 702828.3092464125, 'top': 2829974.99417558}}, {'type': 'Feature', 'geometry': {'type': 'LineString', 'coordinates': [[81.8579106634989, 25.58445889117143], [81.92465903985361, 25.584052215142464]]}, 'id': '0000000000000000003f', 'properties': {'bottom': 2829944.9941755803, 'id': 106, 'left': 586159.4528034591, 'right': 702828.3092464125, 'top': 2829944.9941755803}}, {'type': 'Feature', 'geometry': {'type': 'LineString', 'coordinates': [[81.8579087140063, 25.584185486873498], [81.9250819560746, 25.583776128759336]]}, 'id': '00000000000000000040', 'properties': {'bottom': 2829914.99417558, 'id': 107, 'left': 586159.4528034591, 'right': 702828.3092464125, 'top': 2829914.99417558}}, {'type': 'Feature', 'geometry': {'type': 'LineString', 'coordinates': [[81.8579067965002, 25.583916564603125], [81.92549007866008, 25.583504616949398]]}, 'id': '00000000000000000041', 'properties': {'bottom': 2829884.99417558, 'id': 108, 'left': 586159.4528034591, 'right': 702828.3092464125, 'top': 2829884.99417558}}, {'type': 'Feature', 'geometry': {'type': 'LineString', 'coordinates': [[81.85790484706371, 25.583643160284655], [81.92589816489593, 25.58322862208671]]}, 'id': '00000000000000000042', 'properties': {'bottom': 2829854.99417558, 'id': 109, 'left': 586159.4528034591, 'right': 702828.3092464125, 'top': 2829854.99417558}}, {'type': 'Feature', 'geometry': {'type': 'LineString', 'coordinates': [[81.8579029296128, 25.583374237994082], [81.92630628374683, 25.582957108082052]]}, 'id': '00000000000000000043', 'properties': {'bottom': 2829824.99417558, 'id': 110, 'left': 586159.4528034591, 'right': 702828.3092464125, 'top': 2829824.99417558}}, {'type': 'Feature', 'geometry': {'type': 'LineString', 'coordinates': [[81.85790098023243, 25.583100833655056], [81.92670942420408, 25.58268114233115]]}, 'id': '00000000000000000044', 'properties': {'bottom': 2829794.99417558, 'id': 111, 'left': 586159.4528034591, 'right': 702828.3092464125, 'top': 2829794.99417558}}, {'type': 'Feature', 'geometry': {'type': 'LineString', 'coordinates': [[81.85789906283671, 25.582831911344282], [81.92710271332385, 25.582409720101996]]}, 'id': '00000000000000000045', 'properties': {'bottom': 2829764.99417558, 'id': 112, 'left': 586159.4528034591, 'right': 702828.3092464125, 'top': 2829764.99417558}}, {'type': 'Feature', 'geometry': {'type': 'LineString', 'coordinates': [[81.85789714546834, 25.582562989023483], [81.92749105866292, 25.582138328186314]]}, 'id': '00000000000000000046', 'properties': {'bottom': 2829734.99417558, 'id': 113, 'left': 586159.4528034591, 'right': 702828.3092464125, 'top': 2829734.99417558}}, {'type': 'Feature', 'geometry': {'type': 'LineString', 'coordinates': [[81.8578951961719, 25.582289584653736], [81.92788430965365, 25.581862421980613]]}, 'id': '00000000000000000047', 'properties': {'bottom': 2829704.9941755803, 'id': 114, 'left': 586159.4528034591, 'right': 702828.3092464125, 'top': 2829704.9941755803}}, {'type': 'Feature', 'geometry': {'type': 'LineString', 'coordinates': [[81.85789327885874, 25.58202066231273], [81.92826770946714, 25.581591059425172]]}, 'id': '00000000000000000048', 'properties': {'bottom': 2829674.99417558, 'id': 115, 'left': 586159.4528034591, 'right': 702828.3092464125, 'top': 2829674.99417558}}, {'type': 'Feature', 'geometry': {'type': 'LineString', 'coordinates': [[81.8578913296184, 25.581747257922437], [81.9286411890372, 25.581315276689203]]}, 'id': '00000000000000000049', 'properties': {'bottom': 2829644.99417558, 'id': 116, 'left': 586159.4528034591, 'right': 702828.3092464125, 'top': 2829644.99417558}}, {'type': 'Feature', 'geometry': {'type': 'LineString', 'coordinates': [[81.85788941236044, 25.581478335561226], [81.92901470148664, 25.58104397498964]]}, 'id': '0000000000000000004a', 'properties': {'bottom': 2829614.99417558, 'id': 117, 'left': 586159.4528034591, 'right': 702828.3092464125, 'top': 2829614.99417558}}, {'type': 'Feature', 'geometry': {'type': 'LineString', 'coordinates': [[81.85788746317621, 25.581204931150385], [81.92938817762415, 25.580768190421118]]}, 'id': '0000000000000000004b', 'properties': {'bottom': 2829584.99417558, 'id': 118, 'left': 586159.4528034591, 'right': 702828.3092464125, 'top': 2829584.99417558}}, {'type': 'Feature', 'geometry': {'type': 'LineString', 'coordinates': [[81.85788554597342, 25.580936008768983], [81.92976168666804, 25.58049688688846]]}, 'id': '0000000000000000004c', 'properties': {'bottom': 2829554.99417558, 'id': 119, 'left': 586159.4528034591, 'right': 702828.3092464125, 'top': 2829554.99417558}}, {'type': 'Feature', 'geometry': {'type': 'LineString', 'coordinates': [[81.85788362879799, 25.58066708637754], [81.93012531019824, 25.580225645275917]]}, 'id': '0000000000000000004d', 'properties': {'bottom': 2829524.99417558, 'id': 120, 'left': 586159.4528034591, 'right': 702828.3092464125, 'top': 2829524.99417558}}, {'type': 'Feature', 'geometry': {'type': 'LineString', 'coordinates': [[81.85788167969771, 25.580393681935988], [81.93048395552644, 25.579949952274088]]}, 'id': '0000000000000000004e', 'properties': {'bottom': 2829494.99417558, 'id': 121, 'left': 586159.4528034591, 'right': 702828.3092464125, 'top': 2829494.99417558}}, {'type': 'Feature', 'geometry': {'type': 'LineString', 'coordinates': [[81.85787976257748, 25.580124759524345], [81.93084263387111, 25.579678740379617]]}, 'id': '0000000000000000004f', 'properties': {'bottom': 2829464.9941755803, 'id': 122, 'left': 586159.4528034591, 'right': 702828.3092464125, 'top': 2829464.9941755803}}, {'type': 'Feature', 'geometry': {'type': 'LineString', 'coordinates': [[81.85787781353329, 25.57985135506225], [81.93120127590844, 25.57940304569018]]}, 'id': '00000000000000000050', 'properties': {'bottom': 2829434.99417558, 'id': 123, 'left': 586159.4528034591, 'right': 702828.3092464125, 'top': 2829434.99417558}}, {'type': 'Feature', 'geometry': {'type': 'LineString', 'coordinates': [[81.85787589646824, 25.5795824326304], [81.93155006726427, 25.57913189503812]]}, 'id': '00000000000000000051', 'properties': {'bottom': 2829404.99417558, 'id': 124, 'left': 586159.4528034591, 'right': 702828.3092464125, 'top': 2829404.99417558}}, {'type': 'Feature', 'geometry': {'type': 'LineString', 'coordinates': [[81.85787394748016, 25.57930902814775], [81.93189388048411, 25.57885629311471]]}, 'id': '00000000000000000052', 'properties': {'bottom': 2829374.99417558, 'id': 125, 'left': 586159.4528034591, 'right': 702828.3092464125, 'top': 2829374.99417558}}, {'type': 'Feature', 'geometry': {'type': 'LineString', 'coordinates': [[81.85787203047029, 25.579040105695714], [81.93223772684159, 25.578585172367]]}, 'id': '00000000000000000053', 'properties': {'bottom': 2829344.99417558, 'id': 126, 'left': 586159.4528034591, 'right': 702828.3092464125, 'top': 2829344.99417558}}, {'type': 'Feature', 'geometry': {'type': 'LineString', 'coordinates': [[81.85787008153831, 25.578766701192524], [81.93258647873863, 25.578309537395747]]}, 'id': '00000000000000000054', 'properties': {'bottom': 2829314.99417558, 'id': 127, 'left': 586159.4528034591, 'right': 702828.3092464125, 'top': 2829314.99417558}}, {'type': 'Feature', 'geometry': {'type': 'LineString', 'coordinates': [[81.85786816458364, 25.57849777872027], [81.93292538014471, 25.578038446597844]]}, 'id': '00000000000000000055', 'properties': {'bottom': 2829284.99417558, 'id': 128, 'left': 586159.4528034591, 'right': 702828.3092464125, 'top': 2829284.99417558}}, {'type': 'Feature', 'geometry': {'type': 'LineString', 'coordinates': [[81.85786624765632, 25.578228856238006], [81.93325439641087, 25.57776741809019]]}, 'id': '00000000000000000056', 'properties': {'bottom': 2829254.99417558, 'id': 129, 'left': 586159.4528034591, 'right': 702828.3092464125, 'top': 2829254.99417558}}, {'type': 'Feature', 'geometry': {'type': 'LineString', 'coordinates': [[81.85786429880827, 25.5779554517041], [81.93358337642351, 25.57749190692526]]}, 'id': '00000000000000000057', 'properties': {'bottom': 2829224.9941755803, 'id': 130, 'left': 586159.4528034591, 'right': 702828.3092464125, 'top': 2829224.9941755803}}, {'type': 'Feature', 'geometry': {'type': 'LineString', 'coordinates': [[81.85786238193613, 25.577686529201618], [81.93391733148503, 25.57722084545834]]}, 'id': '00000000000000000058', 'properties': {'bottom': 2829194.99417558, 'id': 131, 'left': 586159.4528034591, 'right': 702828.3092464125, 'top': 2829194.99417558}}, {'type': 'Feature', 'geometry': {'type': 'LineString', 'coordinates': [[81.85786043314417, 25.577413124647173], [81.93424630847751, 25.576945332866696]]}, 'id': '00000000000000000059', 'properties': {'bottom': 2829164.99417558, 'id': 132, 'left': 586159.4528034591, 'right': 702828.3092464125, 'top': 2829164.99417558}}, {'type': 'Feature', 'geometry': {'type': 'LineString', 'coordinates': [[81.85785851632721, 25.577144202124494], [81.93462473632984, 25.57667398586252]]}, 'id': '0000000000000000005a', 'properties': {'bottom': 2829134.99417558, 'id': 133, 'left': 586159.4528034591, 'right': 702828.3092464125, 'top': 2829134.99417558}}, {'type': 'Feature', 'geometry': {'type': 'LineString', 'coordinates': [[81.85785656759136, 25.57687079754951], [81.9350080693897, 25.576398124390966]]}, 'id': '0000000000000000005b', 'properties': {'bottom': 2829104.99417558, 'id': 134, 'left': 586159.4528034591, 'right': 702828.3092464125, 'top': 2829104.99417558}}, {'type': 'Feature', 'geometry': {'type': 'LineString', 'coordinates': [[81.85785465082958, 25.57660187500663], [81.93539143551166, 25.576126743901447]]}, 'id': '0000000000000000005c', 'properties': {'bottom': 2829074.99417558, 'id': 135, 'left': 586159.4528034591, 'right': 702828.3092464125, 'top': 2829074.99417558}}, {'type': 'Feature', 'geometry': {'type': 'LineString', 'coordinates': [[81.85785273409516, 25.576332952453736], [81.9357649164483, 25.57585542565365]]}, 'id': '0000000000000000005d', 'properties': {'bottom': 2829044.99417558, 'id': 136, 'left': 586159.4528034591, 'right': 702828.3092464125, 'top': 2829044.99417558}}, {'type': 'Feature', 'geometry': {'type': 'LineString', 'coordinates': [[81.85785078544323, 25.57605954784802], [81.93614330253968, 25.575579592926914]]}, 'id': '0000000000000000005e', 'properties': {'bottom': 2829014.99417558, 'id': 137, 'left': 586159.4528034591, 'right': 702828.3092464125, 'top': 2829014.99417558}}, {'type': 'Feature', 'geometry': {'type': 'LineString', 'coordinates': [[81.857848868764, 25.575790625274927], [81.9365167800598, 25.575308272835]]}, 'id': '0000000000000000005f', 'properties': {'bottom': 2828984.9941755803, 'id': 138, 'left': 586159.4528034591, 'right': 702828.3092464125, 'top': 2828984.9941755803}}, {'type': 'Feature', 'geometry': {'type': 'LineString', 'coordinates': [[81.85784692016814, 25.575517220648667], [81.93689022099797, 25.57503246988091]]}, 'id': '00000000000000000060', 'properties': {'bottom': 2828954.99417558, 'id': 139, 'left': 586159.4528034591, 'right': 702828.3092464125, 'top': 2828954.99417558}}, {'type': 'Feature', 'geometry': {'type': 'LineString', 'coordinates': [[81.85784500354409, 25.575248298055374], [81.93724887009003, 25.5747612429157]]}, 'id': '00000000000000000061', 'properties': {'bottom': 2828924.99417558, 'id': 140, 'left': 586159.4528034591, 'right': 702828.3092464125, 'top': 2828924.99417558}}, {'type': 'Feature', 'geometry': {'type': 'LineString', 'coordinates': [[81.85784305500434, 25.57497489340858], [81.93761242430686, 25.574485501496845]]}, 'id': '00000000000000000062', 'properties': {'bottom': 2828894.99417558, 'id': 141, 'left': 586159.4528034591, 'right': 702828.3092464125, 'top': 2828894.99417558}}, {'type': 'Feature', 'geometry': {'type': 'LineString', 'coordinates': [[81.85784113843546, 25.574705970795083], [81.93797107012301, 25.574214272832858]]}, 'id': '00000000000000000063', 'properties': {'bottom': 2828864.99417558, 'id': 142, 'left': 586159.4528034591, 'right': 702828.3092464125, 'top': 2828864.99417558}}, {'type': 'Feature', 'geometry': {'type': 'LineString', 'coordinates': [[81.85783918995182, 25.574432566127758], [81.9383296793753, 25.573938561380324]]}, 'id': '00000000000000000064', 'properties': {'bottom': 2828834.99417558, 'id': 143, 'left': 586159.4528034591, 'right': 702828.3092464125, 'top': 2828834.99417558}}, {'type': 'Feature', 'geometry': {'type': 'LineString', 'coordinates': [[81.8578372734381, 25.574163643494057], [81.93867349704472, 25.573667426128424]]}, 'id': '00000000000000000065', 'properties': {'bottom': 2828804.99417558, 'id': 144, 'left': 586159.4528034591, 'right': 702828.3092464125, 'top': 2828804.99417558}}, {'type': 'Feature', 'geometry': {'type': 'LineString', 'coordinates': [[81.85783535695175, 25.573894720850333], [81.9390222547742, 25.573396258391515]]}, 'id': '00000000000000000066', 'properties': {'bottom': 2828774.99417558, 'id': 145, 'left': 586159.4528034591, 'right': 702828.3092464125, 'top': 2828774.99417558}}, {'type': 'Feature', 'geometry': {'type': 'LineString', 'coordinates': [[81.85783340855201, 25.573621316152288], [81.93936603434484, 25.573120639635754]]}, 'id': '00000000000000000067', 'properties': {'bottom': 2828744.9941755803, 'id': 146, 'left': 586159.4528034591, 'right': 702828.3092464125, 'top': 2828744.9941755803}}, {'type': 'Feature', 'geometry': {'type': 'LineString', 'coordinates': [[81.85783149212084, 25.57335239348837], [81.93970984732285, 25.57284950205022]]}, 'id': '00000000000000000068', 'properties': {'bottom': 2828714.99417558, 'id': 147, 'left': 586159.4528034591, 'right': 702828.3092464125, 'top': 2828714.99417558}}, {'type': 'Feature', 'geometry': {'type': 'LineString', 'coordinates': [[81.85782954377719, 25.57307898876978], [81.94004868216413, 25.572573913491613]]}, 'id': '00000000000000000069', 'properties': {'bottom': 2828684.99417558, 'id': 148, 'left': 586159.4528034591, 'right': 702828.3092464125, 'top': 2828684.99417558}}, {'type': 'Feature', 'geometry': {'type': 'LineString', 'coordinates': [[81.85782762740116, 25.57281006608566], [81.9403826088917, 25.572302837880788]]}, 'id': '0000000000000000006a', 'properties': {'bottom': 2828654.99417558, 'id': 149, 'left': 586159.4528034591, 'right': 702828.3092464125, 'top': 2828654.99417558}}, {'type': 'Feature', 'geometry': {'type': 'LineString', 'coordinates': [[81.85782567911362, 25.572536661346533], [81.9407115575286, 25.572027311363737]]}, 'id': '0000000000000000006b', 'properties': {'bottom': 2828624.99417558, 'id': 150, 'left': 586159.4528034591, 'right': 702828.3092464125, 'top': 2828624.99417558}}, {'type': 'Feature', 'geometry': {'type': 'LineString', 'coordinates': [[81.85782376279278, 25.57226773864221], [81.9410405396915, 25.571756266082232]]}, 'id': '0000000000000000006c', 'properties': {'bottom': 2828594.99417558, 'id': 151, 'left': 586159.4528034591, 'right': 702828.3092464125, 'top': 2828594.99417558}}, {'type': 'Feature', 'geometry': {'type': 'LineString', 'coordinates': [[81.8578218464993, 25.571998815927877], [81.94137446190244, 25.57148518830498]]}, 'id': '0000000000000000006d', 'properties': {'bottom': 2828564.99417558, 'id': 152, 'left': 586159.4528034591, 'right': 702828.3092464125, 'top': 2828564.99417558}}, {'type': 'Feature', 'geometry': {'type': 'LineString', 'coordinates': [[81.85781989829565, 25.57172541115803], [81.94169352297745, 25.57120972325229]]}, 'id': '0000000000000000006e', 'properties': {'bottom': 2828534.99417558, 'id': 153, 'left': 586159.4528034591, 'right': 702828.3092464125, 'top': 2828534.99417558}}, {'type': 'Feature', 'geometry': {'type': 'LineString', 'coordinates': [[81.85781798205734, 25.5714564884235], [81.9420076761497, 25.57093877128587]]}, 'id': '0000000000000000006f', 'properties': {'bottom': 2828504.9941755803, 'id': 154, 'left': 586159.4528034591, 'right': 702828.3092464125, 'top': 2828504.9941755803}}, {'type': 'Feature', 'geometry': {'type': 'LineString', 'coordinates': [[81.85781603390976, 25.571183083633116], [81.94232673432275, 25.570663304914017]]}, 'id': '00000000000000000070', 'properties': {'bottom': 2828474.99417558, 'id': 155, 'left': 586159.4528034591, 'right': 702828.3092464125, 'top': 2828474.99417558}}, {'type': 'Feature', 'geometry': {'type': 'LineString', 'coordinates': [[81.85781411772663, 25.570914160878377], [81.9426458261266, 25.5703923198191]]}, 'id': '00000000000000000071', 'properties': {'bottom': 2828444.99417558, 'id': 156, 'left': 586159.4528034591, 'right': 702828.3092464125, 'top': 2828444.99417558}}, {'type': 'Feature', 'geometry': {'type': 'LineString', 'coordinates': [[81.85781216963517, 25.570640756067462], [81.94295993991034, 25.570116883957837]]}, 'id': '00000000000000000072', 'properties': {'bottom': 2828414.99417558, 'id': 157, 'left': 586159.4528034591, 'right': 702828.3092464125, 'top': 2828414.99417558}}, {'type': 'Feature', 'geometry': {'type': 'LineString', 'coordinates': [[81.85781025350718, 25.570371833292533], [81.94326914590684, 25.569845961244056]]}, 'id': '00000000000000000073', 'properties': {'bottom': 2828384.99417558, 'id': 158, 'left': 586159.4528034591, 'right': 702828.3092464125, 'top': 2828384.99417558}}, {'type': 'Feature', 'geometry': {'type': 'LineString', 'coordinates': [[81.85780830547178, 25.570098428461076], [81.94358325683565, 25.569570524105153]]}, 'id': '00000000000000000074', 'properties': {'bottom': 2828354.99417558, 'id': 159, 'left': 586159.4528034591, 'right': 702828.3092464125, 'top': 2828354.99417558}}, {'type': 'Feature', 'geometry': {'type': 'LineString', 'coordinates': [[81.85780638939897, 25.569829505665943], [81.94388751858209, 25.5692996320042]]}, 'id': '00000000000000000075', 'properties': {'bottom': 2828324.99417558, 'id': 160, 'left': 586159.4528034591, 'right': 702828.3092464125, 'top': 2828324.99417558}}, {'type': 'Feature', 'geometry': {'type': 'LineString', 'coordinates': [[81.85780447335353, 25.56956058286079], [81.94418683752909, 25.569028771179745]]}, 'id': '00000000000000000076', 'properties': {'bottom': 2828294.99417558, 'id': 161, 'left': 586159.4528034591, 'right': 702828.3092464125, 'top': 2828294.99417558}}, {'type': 'Feature', 'geometry': {'type': 'LineString', 'coordinates': [[81.85780252540202, 25.56928717799862], [81.94448611996978, 25.568753427831112]]}, 'id': '00000000000000000077', 'properties': {'bottom': 2828264.9941755803, 'id': 162, 'left': 586159.4528034591, 'right': 702828.3092464125, 'top': 2828264.9941755803}}, {'type': 'Feature', 'geometry': {'type': 'LineString', 'coordinates': [[81.85780060941173, 25.569018255173273], [81.94478049480597, 25.568482597738612]]}, 'id': '00000000000000000078', 'properties': {'bottom': 2828234.99417558, 'id': 163, 'left': 586159.4528034591, 'right': 702828.3092464125, 'top': 2828234.99417558}}, {'type': 'Feature', 'geometry': {'type': 'LineString', 'coordinates': [[81.85779866151634, 25.56874485029057], [81.94507977453222, 25.568207253232526]]}, 'id': '00000000000000000079', 'properties': {'bottom': 2828204.99417558, 'id': 164, 'left': 586159.4528034591, 'right': 702828.3092464125, 'top': 2828204.99417558}}, {'type': 'Feature', 'geometry': {'type': 'LineString', 'coordinates': [[81.8577967455812, 25.56847592744502], [81.94537414669851, 25.567936422001587]]}, 'id': '0000000000000000007a', 'properties': {'bottom': 2828174.99417558, 'id': 165, 'left': 586159.4528034591, 'right': 702828.3092464125, 'top': 2828174.99417558}}, {'type': 'Feature', 'geometry': {'type': 'LineString', 'coordinates': [[81.85779479774186, 25.568202522541785], [81.9456734237104, 25.567661076338126]]}, 'id': '0000000000000000007b', 'properties': {'bottom': 2828144.99417558, 'id': 166, 'left': 586159.4528034591, 'right': 702828.3092464125, 'top': 2828144.99417558}}, {'type': 'Feature', 'geometry': {'type': 'LineString', 'coordinates': [[81.8577928818619, 25.567933599676035], [81.94596779320688, 25.56739024396883]]}, 'id': '0000000000000000007c', 'properties': {'bottom': 2828114.99417558, 'id': 167, 'left': 586159.4528034591, 'right': 702828.3092464125, 'top': 2828114.99417558}}, {'type': 'Feature', 'geometry': {'type': 'LineString', 'coordinates': [[81.85779096600929, 25.56766467680028], [81.9462621613795, 25.567119411035105]]}, 'id': '0000000000000000007d', 'properties': {'bottom': 2828084.99417558, 'id': 168, 'left': 586159.4528034591, 'right': 702828.3092464125, 'top': 2828084.99417558}}, {'type': 'Feature', 'geometry': {'type': 'LineString', 'coordinates': [[81.85778901825385, 25.567391271866327], [81.94656143433123, 25.56684406364054]]}, 'id': '0000000000000000007e', 'properties': {'bottom': 2828054.99417558, 'id': 169, 'left': 586159.4528034591, 'right': 702828.3092464125, 'top': 2828054.99417558}}, {'type': 'Feature', 'geometry': {'type': 'LineString', 'coordinates': [[81.8577871024564, 25.567122348970376], [81.94685579983415, 25.566573229568586]]}, 'id': '0000000000000000007f', 'properties': {'bottom': 2828024.9941755803, 'id': 170, 'left': 586159.4528034591, 'right': 702828.3092464125, 'top': 2828024.9941755803}}, {'type': 'Feature', 'geometry': {'type': 'LineString', 'coordinates': [[81.85778515475702, 25.56684894401589], [81.94714518744573, 25.566297944970998]]}, 'id': '00000000000000000080', 'properties': {'bottom': 2827994.99417558, 'id': 171, 'left': 586159.4528034591, 'right': 702828.3092464125, 'top': 2827994.99417558}}, {'type': 'Feature', 'geometry': {'type': 'LineString', 'coordinates': [[81.85778323901475, 25.566580021099735], [81.94743460900064, 25.566027141766586]]}, 'id': '00000000000000000081', 'properties': {'bottom': 2827964.99417558, 'id': 172, 'left': 586159.4528034591, 'right': 702828.3092464125, 'top': 2827964.99417558}}, {'type': 'Feature', 'geometry': {'type': 'LineString', 'coordinates': [[81.85778129137145, 25.56630661612471], [81.9477239939798, 25.56575185607909]]}, 'id': '00000000000000000082', 'properties': {'bottom': 2827934.99417558, 'id': 173, 'left': 586159.4528034591, 'right': 702828.3092464125, 'top': 2827934.99417558}}, {'type': 'Feature', 'geometry': {'type': 'LineString', 'coordinates': [[81.85777937568433, 25.566037693188356], [81.948013412923, 25.565481051784406]]}, 'id': '00000000000000000083', 'properties': {'bottom': 2827904.99417558, 'id': 174, 'left': 586159.4528034591, 'right': 702828.3092464125, 'top': 2827904.99417558}}, {'type': 'Feature', 'geometry': {'type': 'LineString', 'coordinates': [[81.85777742809712, 25.565764288192806], [81.94829291273679, 25.565205829036156]]}, 'id': '00000000000000000084', 'properties': {'bottom': 2827874.99417558, 'id': 175, 'left': 586159.4528034591, 'right': 702828.3092464125, 'top': 2827874.99417558}}, {'type': 'Feature', 'geometry': {'type': 'LineString', 'coordinates': [[81.85777551246514, 25.56549536523626], [81.94857244658138, 25.564935087717497]]}, 'id': '00000000000000000085', 'properties': {'bottom': 2827844.99417558, 'id': 176, 'left': 586159.4528034591, 'right': 702828.3092464125, 'top': 2827844.99417558}}, {'type': 'Feature', 'geometry': {'type': 'LineString', 'coordinates': [[81.85777359686053, 25.5652264422697], [81.94885197917144, 25.564664345890822]]}, 'id': '00000000000000000086', 'properties': {'bottom': 2827814.99417558, 'id': 177, 'left': 586159.4528034591, 'right': 702828.3092464125, 'top': 2827814.99417558}}, {'type': 'Feature', 'geometry': {'type': 'LineString', 'coordinates': [[81.85777164935719, 25.56495303724343], [81.94912653394988, 25.564389153660937]]}, 'id': '00000000000000000087', 'properties': {'bottom': 2827784.9941755803, 'id': 178, 'left': 586159.4528034591, 'right': 702828.3092464125, 'top': 2827784.9941755803}}, {'type': 'Feature', 'geometry': {'type': 'LineString', 'coordinates': [[81.85776973380773, 25.564684114256668], [81.94939618159178, 25.564118474928613]]}, 'id': '00000000000000000088', 'properties': {'bottom': 2827754.99417558, 'id': 179, 'left': 586159.4528034591, 'right': 702828.3092464125, 'top': 2827754.99417558}}, {'type': 'Feature', 'geometry': {'type': 'LineString', 'coordinates': [[81.85776778636048, 25.56441070920987], [81.94967073388959, 25.563843281728463]]}, 'id': '00000000000000000089', 'properties': {'bottom': 2827724.99417558, 'id': 180, 'left': 586159.4528034591, 'right': 702828.3092464125, 'top': 2827724.99417558}}, {'type': 'Feature', 'geometry': {'type': 'LineString', 'coordinates': [[81.85776587086616, 25.564141786202917], [81.94994037909346, 25.563572602043262]]}, 'id': '0000000000000000008a', 'properties': {'bottom': 2827694.99417558, 'id': 181, 'left': 586159.4528034591, 'right': 702828.3092464125, 'top': 2827694.99417558}}, {'type': 'Feature', 'geometry': {'type': 'LineString', 'coordinates': [[81.85776392347499, 25.56386838113559], [81.95020998772523, 25.563297439949846]]}, 'id': '0000000000000000008b', 'properties': {'bottom': 2827664.99417558, 'id': 182, 'left': 586159.4528034591, 'right': 702828.3092464125, 'top': 2827664.99417558}}, {'type': 'Feature', 'geometry': {'type': 'LineString', 'coordinates': [[81.85776200803582, 25.563599458108445], [81.95047468932863, 25.563026791406173]]}, 'id': '0000000000000000008c', 'properties': {'bottom': 2827634.99417558, 'id': 183, 'left': 586159.4528034591, 'right': 702828.3092464125, 'top': 2827634.99417558}}, {'type': 'Feature', 'geometry': {'type': 'LineString', 'coordinates': [[81.85776009262402, 25.56333053507128], [81.9507344485841, 25.56275617450186]]}, 'id': '0000000000000000008d', 'properties': {'bottom': 2827604.99417558, 'id': 184, 'left': 586159.4528034591, 'right': 702828.3092464125, 'top': 2827604.99417558}}, {'type': 'Feature', 'geometry': {'type': 'LineString', 'coordinates': [[81.85775814531672, 25.56305712997323], [81.95099417128557, 25.562481075224373]]}, 'id': '0000000000000000008e', 'properties': {'bottom': 2827574.99417558, 'id': 185, 'left': 586159.4528034591, 'right': 702828.3092464125, 'top': 2827574.99417558}}, {'type': 'Feature', 'geometry': {'type': 'LineString', 'coordinates': [[81.85775622996006, 25.562788206915876], [81.9512588693463, 25.562210425334165]]}, 'id': '0000000000000000008f', 'properties': {'bottom': 2827544.9941755803, 'id': 186, 'left': 586159.4528034591, 'right': 702828.3092464125, 'top': 2827544.9941755803}}, {'type': 'Feature', 'geometry': {'type': 'LineString', 'coordinates': [[81.85775428270883, 25.562514801797295], [81.95151858968357, 25.56193532517364]]}, 'id': '00000000000000000090', 'properties': {'bottom': 2827514.99417558, 'id': 187, 'left': 586159.4528034591, 'right': 702828.3092464125, 'top': 2827514.99417558}}, {'type': 'Feature', 'geometry': {'type': 'LineString', 'coordinates': [[81.85775236740733, 25.562245878719747], [81.95177340314318, 25.56166473863879]]}, 'id': '00000000000000000091', 'properties': {'bottom': 2827484.99417558, 'id': 188, 'left': 586159.4528034591, 'right': 702828.3092464125, 'top': 2827484.99417558}}, {'type': 'Feature', 'geometry': {'type': 'LineString', 'coordinates': [[81.85775042021216, 25.561972473580646], [81.95202323893044, 25.561389701884178]]}, 'id': '00000000000000000092', 'properties': {'bottom': 2827454.99417558, 'id': 189, 'left': 586159.4528034591, 'right': 702828.3092464125, 'top': 2827454.99417558}}, {'type': 'Feature', 'geometry': {'type': 'LineString', 'coordinates': [[81.8577485049658, 25.561703550482896], [81.95227310902045, 25.561119146660264]]}, 'id': '00000000000000000093', 'properties': {'bottom': 2827424.99417558, 'id': 190, 'left': 586159.4528034591, 'right': 702828.3092464125, 'top': 2827424.99417558}}, {'type': 'Feature', 'geometry': {'type': 'LineString', 'coordinates': [[81.85774655782672, 25.56143014532326], [81.95252294254817, 25.56084410909743]]}, 'id': '00000000000000000094', 'properties': {'bottom': 2827394.99417558, 'id': 191, 'left': 586159.4528034591, 'right': 702828.3092464125, 'top': 2827394.99417558}}, {'type': 'Feature', 'geometry': {'type': 'LineString', 'coordinates': [[81.8577446426355, 25.561161222205325], [81.95277281039643, 25.560573553065012]]}, 'id': '00000000000000000095', 'properties': {'bottom': 2827364.99417558, 'id': 192, 'left': 586159.4528034591, 'right': 702828.3092464125, 'top': 2827364.99417558}}, {'type': 'Feature', 'geometry': {'type': 'LineString', 'coordinates': [[81.85774272747165, 25.560892299077377], [81.95301279501103, 25.56030306096454]]}, 'id': '00000000000000000096', 'properties': {'bottom': 2827334.99417558, 'id': 193, 'left': 586159.4528034591, 'right': 702828.3092464125, 'top': 2827334.99417558}}, {'type': 'Feature', 'geometry': {'type': 'LineString', 'coordinates': [[81.8577407804164, 25.560618893887025], [81.95321321470718, 25.560028343958002]]}, 'id': '00000000000000000097', 'properties': {'bottom': 2827304.9941755803, 'id': 194, 'left': 586159.4528034591, 'right': 702828.3092464125, 'top': 2827304.9941755803}}, {'type': 'Feature', 'geometry': {'type': 'LineString', 'coordinates': [[81.8577388653077, 25.560349970738883], [81.95341861001413, 25.559758076446183]]}, 'id': '00000000000000000098', 'properties': {'bottom': 2827274.99417558, 'id': 195, 'left': 586159.4528034591, 'right': 702828.3092464125, 'top': 2827274.99417558}}, {'type': 'Feature', 'geometry': {'type': 'LineString', 'coordinates': [[81.85773691830855, 25.560076565528004], [81.9536190279015, 25.55948335891625]]}, 'id': '00000000000000000099', 'properties': {'bottom': 2827244.99417558, 'id': 196, 'left': 586159.4528034591, 'right': 702828.3092464125, 'top': 2827244.99417558}}, {'type': 'Feature', 'geometry': {'type': 'LineString', 'coordinates': [[81.85773500325496, 25.55980764235966], [81.95382442139102, 25.55921309086779]]}, 'id': '0000000000000000009a', 'properties': {'bottom': 2827214.99417558, 'id': 197, 'left': 586159.4528034591, 'right': 702828.3092464125, 'top': 2827214.99417558}}, {'type': 'Feature', 'geometry': {'type': 'LineString', 'coordinates': [[81.85773305631187, 25.559534237128258], [81.95402977847087, 25.558938340613903]]}, 'id': '0000000000000000009b', 'properties': {'bottom': 2827184.99417558, 'id': 198, 'left': 586159.4528034591, 'right': 702828.3092464125, 'top': 2827184.99417558}}, {'type': 'Feature', 'geometry': {'type': 'LineString', 'coordinates': [[81.85773114131345, 25.559265313939722], [81.95425987508045, 25.558667910983647]]}, 'id': '0000000000000000009c', 'properties': {'bottom': 2827154.99417558, 'id': 199, 'left': 586159.4528034591, 'right': 702828.3092464125, 'top': 2827154.99417558}}, {'type': 'Feature', 'geometry': {'type': 'LineString', 'coordinates': [[81.85772922634237, 25.558996390741186], [81.95449985262188, 25.558397416579933]]}, 'id': '0000000000000000009d', 'properties': {'bottom': 2827124.99417558, 'id': 200, 'left': 586159.4528034591, 'right': 702828.3092464125, 'top': 2827124.99417558}}, {'type': 'Feature', 'geometry': {'type': 'LineString', 'coordinates': [[81.85772727948314, 25.558722985479072], [81.95473979356883, 25.558122439870463]]}, 'id': '0000000000000000009e', 'properties': {'bottom': 2827094.99417558, 'id': 201, 'left': 586159.4528034591, 'right': 702828.3092464125, 'top': 2827094.99417558}}, {'type': 'Feature', 'geometry': {'type': 'LineString', 'coordinates': [[81.85772536456722, 25.558454062260335], [81.95497976896083, 25.5578519447221]]}, 'id': '0000000000000000009f', 'properties': {'bottom': 2827064.9941755803, 'id': 202, 'left': 586159.4528034591, 'right': 702828.3092464125, 'top': 2827064.9941755803}}, {'type': 'Feature', 'geometry': {'type': 'LineString', 'coordinates': [[81.85772341776403, 25.558180656977683], [81.95522464868499, 25.557576935028973]]}, 'id': '000000000000000000a0', 'properties': {'bottom': 2827034.99417558, 'id': 203, 'left': 586159.4528034591, 'right': 702828.3092464125, 'top': 2827034.99417558}}, {'type': 'Feature', 'geometry': {'type': 'LineString', 'coordinates': [[81.85772150290325, 25.557911733738752], [81.95546462191616, 25.55730643912823]]}, 'id': '000000000000000000a1', 'properties': {'bottom': 2827004.99417558, 'id': 204, 'left': 586159.4528034591, 'right': 702828.3092464125, 'top': 2827004.99417558}}, {'type': 'Feature', 'geometry': {'type': 'LineString', 'coordinates': [[81.85771955615613, 25.557638328435594], [81.95569961759823, 25.55703149317729]]}, 'id': '000000000000000000a2', 'properties': {'bottom': 2826974.99417558, 'id': 205, 'left': 586159.4528034591, 'right': 702828.3092464125, 'top': 2826974.99417558}}, {'type': 'Feature', 'geometry': {'type': 'LineString', 'coordinates': [[81.85771764135049, 25.557369405176466], [81.95593958869156, 25.55676099653981]]}, 'id': '000000000000000000a3', 'properties': {'bottom': 2826944.99417558, 'id': 206, 'left': 586159.4528034591, 'right': 702828.3092464125, 'top': 2826944.99417558}}, {'type': 'Feature', 'geometry': {'type': 'LineString', 'coordinates': [[81.85771569465943, 25.557095999852763], [81.95617458224206, 25.556486049867814]]}, 'id': '000000000000000000a4', 'properties': {'bottom': 2826914.99417558, 'id': 207, 'left': 586159.4528034591, 'right': 702828.3092464125, 'top': 2826914.99417558}}, {'type': 'Feature', 'geometry': {'type': 'LineString', 'coordinates': [[81.85771377990893, 25.556827076573455], [81.95640466942548, 25.556215617049258]]}, 'id': '000000000000000000a5', 'properties': {'bottom': 2826884.99417558, 'id': 208, 'left': 586159.4528034591, 'right': 702828.3092464125, 'top': 2826884.99417558}}, {'type': 'Feature', 'geometry': {'type': 'LineString', 'coordinates': [[81.85771186518575, 25.556558153284133], [81.95663969645894, 25.555945151603698]]}, 'id': '000000000000000000a6', 'properties': {'bottom': 2826854.99417558, 'id': 209, 'left': 586159.4528034591, 'right': 702828.3092464125, 'top': 2826854.99417558}}, {'type': 'Feature', 'geometry': {'type': 'LineString', 'coordinates': [[81.85770991857855, 25.556284747929727], [81.95686974598243, 25.555670236161976]]}, 'id': '000000000000000000a7', 'properties': {'bottom': 2826824.9941755803, 'id': 210, 'left': 586159.4528034591, 'right': 702828.3092464125, 'top': 2826824.9941755803}}, {'type': 'Feature', 'geometry': {'type': 'LineString', 'coordinates': [[81.85770800391052, 25.556015824620214], [81.9570948892209, 25.555399834610704]]}, 'id': '000000000000000000a8', 'properties': {'bottom': 2826794.99417558, 'id': 211, 'left': 586159.4528034591, 'right': 702828.3092464125, 'top': 2826794.99417558}}, {'type': 'Feature', 'geometry': {'type': 'LineString', 'coordinates': [[81.8577060573594, 25.555742419245274], [81.95731011416241, 25.555125015414728]]}, 'id': '000000000000000000a9', 'properties': {'bottom': 2826764.99417558, 'id': 212, 'left': 586159.4528034591, 'right': 702828.3092464125, 'top': 2826764.99417558}}, {'type': 'Feature', 'geometry': {'type': 'LineString', 'coordinates': [[81.85770414274648, 25.55547349591557], [81.95752043292649, 25.554854710165856]]}, 'id': '000000000000000000aa', 'properties': {'bottom': 2826734.99417558, 'id': 213, 'left': 586159.4528034591, 'right': 702828.3092464125, 'top': 2826734.99417558}}, {'type': 'Feature', 'geometry': {'type': 'LineString', 'coordinates': [[81.85770219625141, 25.55520009052011], [81.95772577431059, 25.554579955020902]]}, 'id': '000000000000000000ab', 'properties': {'bottom': 2826704.99417558, 'id': 214, 'left': 586159.4528034591, 'right': 702828.3092464125, 'top': 2826704.99417558}}, {'type': 'Feature', 'geometry': {'type': 'LineString', 'coordinates': [[81.85770028169365, 25.554931167170224], [81.95792620960074, 25.55430971386302]]}, 'id': '000000000000000000ac', 'properties': {'bottom': 2826674.99417558, 'id': 215, 'left': 586159.4528034591, 'right': 702828.3092464125, 'top': 2826674.99417558}}, {'type': 'Feature', 'geometry': {'type': 'LineString', 'coordinates': [[81.85769836716324, 25.55466224381031], [81.95812170320883, 25.554039504779855]]}, 'id': '000000000000000000ad', 'properties': {'bottom': 2826644.99417558, 'id': 216, 'left': 586159.4528034591, 'right': 702828.3092464125, 'top': 2826644.99417558}}, {'type': 'Feature', 'geometry': {'type': 'LineString', 'coordinates': [[81.857696420752, 25.554388838384142], [81.95832210108462, 25.55376478118032]]}, 'id': '000000000000000000ae', 'properties': {'bottom': 2826614.99417558, 'id': 217, 'left': 586159.4528034591, 'right': 702828.3092464125, 'top': 2826614.99417558}}, {'type': 'Feature', 'geometry': {'type': 'LineString', 'coordinates': [[81.85769450627673, 25.554119915004055], [81.9585175929446, 25.553494571599664]]}, 'id': '000000000000000000af', 'properties': {'bottom': 2826584.9941755803, 'id': 218, 'left': 586159.4528034591, 'right': 702828.3092464125, 'top': 2826584.9941755803}}, {'type': 'Feature', 'geometry': {'type': 'LineString', 'coordinates': [[81.85769255992155, 25.553846509557356], [81.95871304827567, 25.553219879842207]]}, 'id': '000000000000000000b0', 'properties': {'bottom': 2826554.99417558, 'id': 219, 'left': 586159.4528034591, 'right': 702828.3092464125, 'top': 2826554.99417558}}, {'type': 'Feature', 'geometry': {'type': 'LineString', 'coordinates': [[81.85769064550139, 25.55357758615707], [81.95890853839896, 25.552949669770346]]}, 'id': '000000000000000000b1', 'properties': {'bottom': 2826524.99417558, 'id': 220, 'left': 586159.4528034591, 'right': 702828.3092464125, 'top': 2826524.99417558}}, {'type': 'Feature', 'geometry': {'type': 'LineString', 'coordinates': [[81.85768869920227, 25.553304180689857], [81.95909905124273, 25.552675009886404]]}, 'id': '000000000000000000b2', 'properties': {'bottom': 2826494.99417558, 'id': 221, 'left': 586159.4528034591, 'right': 702828.3092464125, 'top': 2826494.99417558}}, {'type': 'Feature', 'geometry': {'type': 'LineString', 'coordinates': [[81.85768678483726, 25.55303525726938], [81.95928959891516, 25.552404831700265]]}, 'id': '000000000000000000b3', 'properties': {'bottom': 2826464.99417558, 'id': 222, 'left': 586159.4528034591, 'right': 702828.3092464125, 'top': 2826464.99417558}}, {'type': 'Feature', 'geometry': {'type': 'LineString', 'coordinates': [[81.85768487049957, 25.552766333838896], [81.95948014574546, 25.55213465328092]]}, 'id': '000000000000000000b4', 'properties': {'bottom': 2826434.99417558, 'id': 223, 'left': 586159.4528034591, 'right': 702828.3092464125, 'top': 2826434.99417558}}, {'type': 'Feature', 'geometry': {'type': 'LineString', 'coordinates': [[81.85768292428429, 25.552492928340975], [81.95967065603617, 25.55185999269765]]}, 'id': '000000000000000000b5', 'properties': {'bottom': 2826404.99417558, 'id': 224, 'left': 586159.4528034591, 'right': 702828.3092464125, 'top': 2826404.99417558}}, {'type': 'Feature', 'geometry': {'type': 'LineString', 'coordinates': [[81.85768101000174, 25.552224004890306], [81.95986120117554, 25.551589813811997]]}, 'id': '000000000000000000b6', 'properties': {'bottom': 2826374.99417558, 'id': 225, 'left': 586159.4528034591, 'right': 702828.3092464125, 'top': 2826374.99417558}}, {'type': 'Feature', 'geometry': {'type': 'LineString', 'coordinates': [[81.85767906384251, 25.551950599371857], [81.96005170976208, 25.551315152762594]]}, 'id': '000000000000000000b7', 'properties': {'bottom': 2826344.9941755803, 'id': 226, 'left': 586159.4528034591, 'right': 702828.3092464125, 'top': 2826344.9941755803}}, {'type': 'Feature', 'geometry': {'type': 'LineString', 'coordinates': [[81.8576771496151, 25.551681675900998], [81.96023731254215, 25.55104500581161]]}, 'id': '000000000000000000b8', 'properties': {'bottom': 2826314.99417558, 'id': 227, 'left': 586159.4528034591, 'right': 702828.3092464125, 'top': 2826314.99417558}}, {'type': 'Feature', 'geometry': {'type': 'LineString', 'coordinates': [[81.85767520351192, 25.55140827036202], [81.96042287877916, 25.55077037670912]]}, 'id': '000000000000000000b9', 'properties': {'bottom': 2826284.99417558, 'id': 228, 'left': 586159.4528034591, 'right': 702828.3092464125, 'top': 2826284.99417558}}, {'type': 'Feature', 'geometry': {'type': 'LineString', 'coordinates': [[81.85767328933962, 25.551139346870972], [81.96061342055964, 25.55050019690315]]}, 'id': '000000000000000000ba', 'properties': {'bottom': 2826254.99417558, 'id': 229, 'left': 586159.4528034591, 'right': 702828.3092464125, 'top': 2826254.99417558}}, {'type': 'Feature', 'geometry': {'type': 'LineString', 'coordinates': [[81.85767134329248, 25.55086594131147], [81.96077428195655, 25.550225729445017]]}, 'id': '000000000000000000bb', 'properties': {'bottom': 2826224.99417558, 'id': 230, 'left': 586159.4528034591, 'right': 702828.3092464125, 'top': 2826224.99417558}}, {'type': 'Feature', 'geometry': {'type': 'LineString', 'coordinates': [[81.85766942917533, 25.550597017800243], [81.96094011900045, 25.54995571132813]]}, 'id': '000000000000000000bc', 'properties': {'bottom': 2826194.99417558, 'id': 231, 'left': 586159.4528034591, 'right': 702828.3092464125, 'top': 2826194.99417558}}, {'type': 'Feature', 'geometry': {'type': 'LineString', 'coordinates': [[81.8576675150855, 25.55032809427899], [81.9611158365387, 25.54968562817753]]}, 'id': '000000000000000000bd', 'properties': {'bottom': 2826164.99417558, 'id': 232, 'left': 586159.4528034591, 'right': 702828.3092464125, 'top': 2826164.99417558}}, {'type': 'Feature', 'geometry': {'type': 'LineString', 'coordinates': [[81.85766556912219, 25.550054688688796], [81.96129151754918, 25.549411062898898]]}, 'id': '000000000000000000be', 'properties': {'bottom': 2826134.99417558, 'id': 233, 'left': 586159.4528034591, 'right': 702828.3092464125, 'top': 2826134.99417558}}, {'type': 'Feature', 'geometry': {'type': 'LineString', 'coordinates': [[81.85766365508749, 25.549785765147362], [81.9615759264816, 25.54914026562913]]}, 'id': '000000000000000000bf', 'properties': {'bottom': 2826104.9941755803, 'id': 234, 'left': 586159.4528034591, 'right': 702828.3092464125, 'top': 2826104.9941755803}}, {'type': 'Feature', 'geometry': {'type': 'LineString', 'coordinates': [[81.85766170918025, 25.54951235953664], [81.96192946643725, 25.548864531544965]]}, 'id': '000000000000000000c0', 'properties': {'bottom': 2826074.99417558, 'id': 235, 'left': 586159.4528034591, 'right': 702828.3092464125, 'top': 2826074.99417558}}, {'type': 'Feature', 'geometry': {'type': 'LineString', 'coordinates': [[81.85765979520068, 25.549243435975022], [81.96224351603604, 25.548593538303667]]}, 'id': '000000000000000000c1', 'properties': {'bottom': 2826044.99417558, 'id': 236, 'left': 586159.4528034591, 'right': 702828.3092464125, 'top': 2826044.99417558}}, {'type': 'Feature', 'geometry': {'type': 'LineString', 'coordinates': [[81.85765784934945, 25.548970030343774], [81.96253282565404, 25.548318224868275]]}, 'id': '000000000000000000c2', 'properties': {'bottom': 2826014.99417558, 'id': 237, 'left': 586159.4528034591, 'right': 702828.3092464125, 'top': 2826014.99417558}}, {'type': 'Feature', 'geometry': {'type': 'LineString', 'coordinates': [[81.857655935425, 25.548701106761975], [81.96282711030233, 25.548047360333488]]}, 'id': '000000000000000000c3', 'properties': {'bottom': 2825984.99417558, 'id': 238, 'left': 586159.4528034591, 'right': 702828.3092464125, 'top': 2825984.99417558}}, {'type': 'Feature', 'geometry': {'type': 'LineString', 'coordinates': [[81.85765402152788, 25.548432183170142], [81.96311645309787, 25.547776527729848]]}, 'id': '000000000000000000c4', 'properties': {'bottom': 2825954.99417558, 'id': 239, 'left': 586159.4528034591, 'right': 702828.3092464125, 'top': 2825954.99417558}}, {'type': 'Feature', 'geometry': {'type': 'LineString', 'coordinates': [[81.85765207576053, 25.548158777508203], [81.96340575876465, 25.547501212653735]]}, 'id': '000000000000000000c5', 'properties': {'bottom': 2825924.99417558, 'id': 240, 'left': 586159.4528034591, 'right': 702828.3092464125, 'top': 2825924.99417558}}, {'type': 'Feature', 'geometry': {'type': 'LineString', 'coordinates': [[81.85765016191851, 25.547889853896198], [81.96368027742983, 25.547230476500644]]}, 'id': '000000000000000000c6', 'properties': {'bottom': 2825894.99417558, 'id': 241, 'left': 586159.4528034591, 'right': 702828.3092464125, 'top': 2825894.99417558}}, {'type': 'Feature', 'geometry': {'type': 'LineString', 'coordinates': [[81.85764821620717, 25.54761644821373], [81.96395969951124, 25.546955225409086]]}, 'id': '000000000000000000c7', 'properties': {'bottom': 2825864.9941755803, 'id': 242, 'left': 586159.4528034591, 'right': 702828.3092464125, 'top': 2825864.9941755803}}, {'type': 'Feature', 'geometry': {'type': 'LineString', 'coordinates': [[81.85764630242029, 25.547347524581546], [81.96423915617851, 25.546684455738934]]}, 'id': '000000000000000000c8', 'properties': {'bottom': 2825834.99417558, 'id': 243, 'left': 586159.4528034591, 'right': 702828.3092464125, 'top': 2825834.99417558}}, {'type': 'Feature', 'geometry': {'type': 'LineString', 'coordinates': [[81.85764435676501, 25.547074118878555], [81.96451363525128, 25.546409236174014]]}, 'id': '000000000000000000c9', 'properties': {'bottom': 2825804.99417558, 'id': 244, 'left': 586159.4528034591, 'right': 702828.3092464125, 'top': 2825804.99417558}}, {'type': 'Feature', 'geometry': {'type': 'LineString', 'coordinates': [[81.85764244303324, 25.54680519522618], [81.96478814895288, 25.546138498048183]]}, 'id': '000000000000000000ca', 'properties': {'bottom': 2825774.99417558, 'id': 245, 'left': 586159.4528034591, 'right': 702828.3092464125, 'top': 2825774.99417558}}, {'type': 'Feature', 'geometry': {'type': 'LineString', 'coordinates': [[81.85764049743398, 25.546531789502673], [81.96505768508686, 25.545863310063787]]}, 'id': '000000000000000000cb', 'properties': {'bottom': 2825744.99417558, 'id': 246, 'left': 586159.4528034591, 'right': 702828.3092464125, 'top': 2825744.99417558}}, {'type': 'Feature', 'geometry': {'type': 'LineString', 'coordinates': [[81.85763858375735, 25.54626286583011], [81.9653272558922, 25.545592603535802]]}, 'id': '000000000000000000cc', 'properties': {'bottom': 2825714.99417558, 'id': 247, 'left': 586159.4528034591, 'right': 702828.3092464125, 'top': 2825714.99417558}}, {'type': 'Feature', 'geometry': {'type': 'LineString', 'coordinates': [[81.85763667010804, 25.545993942147547], [81.96560176591646, 25.5453218639618]]}, 'id': '000000000000000000cd', 'properties': {'bottom': 2825684.99417558, 'id': 248, 'left': 586159.4528034591, 'right': 702828.3092464125, 'top': 2825684.99417558}}, {'type': 'Feature', 'geometry': {'type': 'LineString', 'coordinates': [[81.8576347245926, 25.545720536393333], [81.96586635796447, 25.545046707140106]]}, 'id': '000000000000000000ce', 'properties': {'bottom': 2825654.99417558, 'id': 249, 'left': 586159.4528034591, 'right': 702828.3092464125, 'top': 2825654.99417558}}, {'type': 'Feature', 'geometry': {'type': 'LineString', 'coordinates': [[81.85763281099841, 25.54545161269058], [81.9661260443329, 25.54477606438393]]}, 'id': '000000000000000000cf', 'properties': {'bottom': 2825624.9941755803, 'id': 250, 'left': 586159.4528034591, 'right': 702828.3092464125, 'top': 2825624.9941755803}}, {'type': 'Feature', 'geometry': {'type': 'LineString', 'coordinates': [[81.85763086553904, 25.545178206915857], [81.96638569360476, 25.544500939264857]]}, 'id': '000000000000000000d0', 'properties': {'bottom': 2825594.99417558, 'id': 251, 'left': 586159.4528034591, 'right': 702828.3092464125, 'top': 2825594.99417558}}, {'type': 'Feature', 'geometry': {'type': 'LineString', 'coordinates': [[81.85762895199994, 25.54490928319291], [81.96664537764157, 25.544230295635778]]}, 'id': '000000000000000000d1', 'properties': {'bottom': 2825564.99417558, 'id': 252, 'left': 586159.4528034591, 'right': 702828.3092464125, 'top': 2825564.99417558}}, {'type': 'Feature', 'geometry': {'type': 'LineString', 'coordinates': [[81.85762700659657, 25.544635877397667], [81.96690502456345, 25.543955169644203]]}, 'id': '000000000000000000d2', 'properties': {'bottom': 2825534.99417558, 'id': 253, 'left': 586159.4528034591, 'right': 702828.3092464125, 'top': 2825534.99417558}}, {'type': 'Feature', 'geometry': {'type': 'LineString', 'coordinates': [[81.85762509311262, 25.54436695365454], [81.96716470626872, 25.543684525142304]]}, 'id': '000000000000000000d3', 'properties': {'bottom': 2825504.99417558, 'id': 254, 'left': 586159.4528034591, 'right': 702828.3092464125, 'top': 2825504.99417558}}, {'type': 'Feature', 'geometry': {'type': 'LineString', 'coordinates': [[81.857623179656, 25.54409802990141], [81.96740956577719, 25.543413978106113]]}, 'id': '000000000000000000d4', 'properties': {'bottom': 2825474.99417558, 'id': 255, 'left': 586159.4528034591, 'right': 702828.3092464125, 'top': 2825474.99417558}}, {'type': 'Feature', 'geometry': {'type': 'LineString', 'coordinates': [[81.85762123433645, 25.543824624075466], [81.96765932854659, 25.543138916115264]]}, 'id': '000000000000000000d5', 'properties': {'bottom': 2825444.99417558, 'id': 256, 'left': 586159.4528034591, 'right': 702828.3092464125, 'top': 2825444.99417558}}, {'type': 'Feature', 'geometry': {'type': 'LineString', 'coordinates': [[81.85761932093493, 25.543555700302154], [81.96790912617239, 25.542868335646723]]}, 'id': '000000000000000000d6', 'properties': {'bottom': 2825414.99417558, 'id': 257, 'left': 586159.4528034591, 'right': 702828.3092464125, 'top': 2825414.99417558}}, {'type': 'Feature', 'geometry': {'type': 'LineString', 'coordinates': [[81.85761737567141, 25.543282294455686], [81.96815888668479, 25.54259327284967]]}, 'id': '000000000000000000d7', 'properties': {'bottom': 2825384.9941755803, 'id': 258, 'left': 586159.4528034591, 'right': 702828.3092464125, 'top': 2825384.9941755803}}, {'type': 'Feature', 'geometry': {'type': 'LineString', 'coordinates': [[81.85761546232501, 25.543013370662187], [81.96840374177226, 25.54232272424075]]}, 'id': '000000000000000000d8', 'properties': {'bottom': 2825354.99417558, 'id': 259, 'left': 586159.4528034591, 'right': 702828.3092464125, 'top': 2825354.99417558}}, {'type': 'Feature', 'geometry': {'type': 'LineString', 'coordinates': [[81.85761351711753, 25.542739964795203], [81.96864361946452, 25.54204772599361]]}, 'id': '000000000000000000d9', 'properties': {'bottom': 2825324.99417558, 'id': 260, 'left': 586159.4528034591, 'right': 702828.3092464125, 'top': 2825324.99417558}}, {'type': 'Feature', 'geometry': {'type': 'LineString', 'coordinates': [[81.85761160382624, 25.54247104098152], [81.96888353209422, 25.541777209299923]]}, 'id': '000000000000000000da', 'properties': {'bottom': 2825294.99417558, 'id': 261, 'left': 586159.4528034591, 'right': 702828.3092464125, 'top': 2825294.99417558}}, {'type': 'Feature', 'geometry': {'type': 'LineString', 'coordinates': [[81.85760965867478, 25.542197635094013], [81.96912340762229, 25.54150221031015]]}, 'id': '000000000000000000db', 'properties': {'bottom': 2825264.99417558, 'id': 262, 'left': 586159.4528034591, 'right': 702828.3092464125, 'top': 2825264.99417558}}, {'type': 'Feature', 'geometry': {'type': 'LineString', 'coordinates': [[81.8576077454386, 25.541928711260148], [81.96936331810483, 25.541231692873556]]}, 'id': '000000000000000000dc', 'properties': {'bottom': 2825234.99417558, 'id': 263, 'left': 586159.4528034591, 'right': 702828.3092464125, 'top': 2825234.99417558}}, {'type': 'Feature', 'geometry': {'type': 'LineString', 'coordinates': [[81.85760583222975, 25.54165978741628], [81.96959828727653, 25.54096120777026]]}, 'id': '000000000000000000dd', 'properties': {'bottom': 2825204.99417558, 'id': 264, 'left': 586159.4528034591, 'right': 702828.3092464125, 'top': 2825204.99417558}}, {'type': 'Feature', 'geometry': {'type': 'LineString', 'coordinates': [[81.8576038871621, 25.541386381498082], [81.96982827911448, 25.540686273098974]]}, 'id': '000000000000000000de', 'properties': {'bottom': 2825174.99417558, 'id': 265, 'left': 586159.4528034591, 'right': 702828.3092464125, 'top': 2825174.99417558}}, {'type': 'Feature', 'geometry': {'type': 'LineString', 'coordinates': [[81.85760197400836, 25.541117457634027], [81.97005830597794, 25.540415820010868]]}, 'id': '000000000000000000df', 'properties': {'bottom': 2825144.9941755803, 'id': 266, 'left': 586159.4528034591, 'right': 702828.3092464125, 'top': 2825144.9941755803}}, {'type': 'Feature', 'geometry': {'type': 'LineString', 'coordinates': [[81.85760002899674, 25.54084405169531], [81.97028829574445, 25.540140884657866]]}, 'id': '000000000000000000e0', 'properties': {'bottom': 2825114.99417558, 'id': 267, 'left': 586159.4528034591, 'right': 702828.3092464125, 'top': 2825114.99417558}}, {'type': 'Feature', 'geometry': {'type': 'LineString', 'coordinates': [[81.8575981158981, 25.54057512781107], [81.97051832055269, 25.539870430887817]]}, 'id': '000000000000000000e1', 'properties': {'bottom': 2825084.99417558, 'id': 268, 'left': 586159.4528034591, 'right': 702828.3092464125, 'top': 2825084.99417558}}, {'type': 'Feature', 'geometry': {'type': 'LineString', 'coordinates': [[81.8575961709425, 25.540301721851844], [81.97074830824779, 25.539595494853174]]}, 'id': '000000000000000000e2', 'properties': {'bottom': 2825054.99417558, 'id': 269, 'left': 586159.4528034591, 'right': 702828.3092464125, 'top': 2825054.99417558}}, {'type': 'Feature', 'geometry': {'type': 'LineString', 'coordinates': [[81.857594257899, 25.540032797947422], [81.97097833100091, 25.53932504040121]]}, 'id': '000000000000000000e3', 'properties': {'bottom': 2825024.99417558, 'id': 270, 'left': 586159.4528034591, 'right': 702828.3092464125, 'top': 2825024.99417558}}, {'type': 'Feature', 'geometry': {'type': 'LineString', 'coordinates': [[81.85759234488279, 25.539763874033], [81.97120341256947, 25.539054618364915]]}, 'id': '000000000000000000e4', 'properties': {'bottom': 2824994.99417558, 'id': 271, 'left': 586159.4528034591, 'right': 702828.3092464125, 'top': 2824994.99417558}}, {'type': 'Feature', 'geometry': {'type': 'LineString', 'coordinates': [[81.85759040001099, 25.539490468043073], [81.97142845702382, 25.538779714079183]]}, 'id': '000000000000000000e5', 'properties': {'bottom': 2824964.99417558, 'id': 272, 'left': 586159.4528034591, 'right': 702828.3092464125, 'top': 2824964.99417558}}, {'type': 'Feature', 'geometry': {'type': 'LineString', 'coordinates': [[81.8575884870499, 25.539221544108464], [81.9716387161691, 25.53850938970305]]}, 'id': '000000000000000000e6', 'properties': {'bottom': 2824934.99417558, 'id': 273, 'left': 586159.4528034591, 'right': 702828.3092464125, 'top': 2824934.99417558}}, {'type': 'Feature', 'geometry': {'type': 'LineString', 'coordinates': [[81.85758654223412, 25.538948138098025], [81.97185387838026, 25.538234550342395]]}, 'id': '000000000000000000e7', 'properties': {'bottom': 2824904.9941755803, 'id': 274, 'left': 586159.4528034591, 'right': 702828.3092464125, 'top': 2824904.9941755803}}, {'type': 'Feature', 'geometry': {'type': 'LineString', 'coordinates': [[81.85758462932813, 25.538679214143237], [81.97206907575742, 25.537964192606918]]}, 'id': '000000000000000000e8', 'properties': {'bottom': 2824874.99417558, 'id': 275, 'left': 586159.4528034591, 'right': 702828.3092464125, 'top': 2824874.99417558}}, {'type': 'Feature', 'geometry': {'type': 'LineString', 'coordinates': [[81.8575826845684, 25.538405808112277], [81.97227929593248, 25.537689385442267]]}, 'id': '000000000000000000e9', 'properties': {'bottom': 2824844.99417558, 'id': 276, 'left': 586159.4528034591, 'right': 702828.3092464125, 'top': 2824844.99417558}}, {'type': 'Feature', 'geometry': {'type': 'LineString', 'coordinates': [[81.85758077171751, 25.53813688413731], [81.97248955131143, 25.53741905991629]]}, 'id': '000000000000000000ea', 'properties': {'bottom': 2824814.99417558, 'id': 277, 'left': 586159.4528034591, 'right': 702828.3092464125, 'top': 2824814.99417558}}, {'type': 'Feature', 'geometry': {'type': 'LineString', 'coordinates': [[81.85757882701377, 25.53786347808583], [81.97269976960004, 25.537144252183747]]}, 'id': '000000000000000000eb', 'properties': {'bottom': 2824784.99417558, 'id': 278, 'left': 586159.4528034591, 'right': 702828.3092464125, 'top': 2824784.99417558}}, {'type': 'Feature', 'geometry': {'type': 'LineString', 'coordinates': [[81.857576914218, 25.537594554090685], [81.9729149631765, 25.53687389327807]]}, 'id': '000000000000000000ec', 'properties': {'bottom': 2824754.99417558, 'id': 279, 'left': 586159.4528034591, 'right': 702828.3092464125, 'top': 2824754.99417558}}, {'type': 'Feature', 'geometry': {'type': 'LineString', 'coordinates': [[81.85757500144952, 25.53732563008553], [81.97312521574028, 25.536603566893152]]}, 'id': '000000000000000000ed', 'properties': {'bottom': 2824724.99417558, 'id': 280, 'left': 586159.4528034591, 'right': 702828.3092464125, 'top': 2824724.99417558}}, {'type': 'Feature', 'geometry': {'type': 'LineString', 'coordinates': [[81.8575730568296, 25.537052224003368], [81.97332555109904, 25.536328823952182]]}, 'id': '000000000000000000ee', 'properties': {'bottom': 2824694.99417558, 'id': 281, 'left': 586159.4528034591, 'right': 702828.3092464125, 'top': 2824694.99417558}}, {'type': 'Feature', 'geometry': {'type': 'LineString', 'coordinates': [[81.85757114411624, 25.536783299978023], [81.97353086177914, 25.536058529844357]]}, 'id': '000000000000000000ef', 'properties': {'bottom': 2824664.9941755803, 'id': 282, 'left': 586159.4528034591, 'right': 702828.3092464125, 'top': 2824664.9941755803}}, {'type': 'Feature', 'geometry': {'type': 'LineString', 'coordinates': [[81.85756919955232, 25.53650989387534], [81.97373119533216, 25.535783786381952]]}, 'id': '000000000000000000f0', 'properties': {'bottom': 2824634.99417558, 'id': 283, 'left': 586159.4528034591, 'right': 702828.3092464125, 'top': 2824634.99417558}}, {'type': 'Feature', 'geometry': {'type': 'LineString', 'coordinates': [[81.85756728689405, 25.536240969829834], [81.97393156418592, 25.53551352458393]]}, 'id': '000000000000000000f1', 'properties': {'bottom': 2824604.99417558, 'id': 284, 'left': 586159.4528034591, 'right': 702828.3092464125, 'top': 2824604.99417558}}, {'type': 'Feature', 'geometry': {'type': 'LineString', 'coordinates': [[81.85756534238617, 25.535967563706635], [81.97413683594523, 25.535238747755688]]}, 'id': '000000000000000000f2', 'properties': {'bottom': 2824574.99417558, 'id': 285, 'left': 586159.4528034591, 'right': 702828.3092464125, 'top': 2824574.99417558}}, {'type': 'Feature', 'geometry': {'type': 'LineString', 'coordinates': [[81.85756342978299, 25.53569863964094], [81.97433226301855, 25.534968518293365]]}, 'id': '000000000000000000f3', 'properties': {'bottom': 2824544.99417558, 'id': 286, 'left': 586159.4528034591, 'right': 702828.3092464125, 'top': 2824544.99417558}}, {'type': 'Feature', 'geometry': {'type': 'LineString', 'coordinates': [[81.85756151720715, 25.535429715565236], [81.9745276892281, 25.53469828858613]]}, 'id': '000000000000000000f4', 'properties': {'bottom': 2824514.99417558, 'id': 287, 'left': 586159.4528034591, 'right': 702828.3092464125, 'top': 2824514.99417558}}, {'type': 'Feature', 'geometry': {'type': 'LineString', 'coordinates': [[81.85755957278306, 25.53515630941135], [81.97471813837876, 25.534423609582248]]}, 'id': '000000000000000000f5', 'properties': {'bottom': 2824484.99417558, 'id': 288, 'left': 586159.4528034591, 'right': 702828.3092464125, 'top': 2824484.99417558}}, {'type': 'Feature', 'geometry': {'type': 'LineString', 'coordinates': [[81.85755766026229, 25.534887385315468], [81.97491356286535, 25.53415337939159]]}, 'id': '000000000000000000f6', 'properties': {'bottom': 2824454.99417558, 'id': 289, 'left': 586159.4528034591, 'right': 702828.3092464125, 'top': 2824454.99417558}}, {'type': 'Feature', 'geometry': {'type': 'LineString', 'coordinates': [[81.85755571589421, 25.534613979141074], [81.97510895024577, 25.533878667034827]]}, 'id': '000000000000000000f7', 'properties': {'bottom': 2824424.9941755803, 'id': 290, 'left': 586159.4528034591, 'right': 702828.3092464125, 'top': 2824424.9941755803}}, {'type': 'Feature', 'geometry': {'type': 'LineString', 'coordinates': [[81.85755380342854, 25.534345055025014], [81.97529943306618, 25.53360846924279]]}, 'id': '000000000000000000f8', 'properties': {'bottom': 2824394.99417558, 'id': 291, 'left': 586159.4528034591, 'right': 702828.3092464125, 'top': 2824394.99417558}}, {'type': 'Feature', 'geometry': {'type': 'LineString', 'coordinates': [[81.85755185911648, 25.534071648830093], [81.97548493886954, 25.533333822191405]]}, 'id': '000000000000000000f9', 'properties': {'bottom': 2824364.99417558, 'id': 292, 'left': 586159.4528034591, 'right': 702828.3092464125, 'top': 2824364.99417558}}, {'type': 'Feature', 'geometry': {'type': 'LineString', 'coordinates': [[81.85754994670592, 25.53380272469386], [81.97567048010369, 25.533063656840714]]}, 'id': '000000000000000000fa', 'properties': {'bottom': 2824334.99417558, 'id': 293, 'left': 586159.4528034591, 'right': 702828.3092464125, 'top': 2824334.99417558}}, {'type': 'Feature', 'geometry': {'type': 'LineString', 'coordinates': [[81.85754800244985, 25.53352931847843], [81.97585598425114, 25.532789009348683]]}, 'id': '000000000000000000fb', 'properties': {'bottom': 2824304.99417558, 'id': 294, 'left': 586159.4528034591, 'right': 702828.3092464125, 'top': 2824304.99417558}}, {'type': 'Feature', 'geometry': {'type': 'LineString', 'coordinates': [[81.85754609009439, 25.533260394322024], [81.9760415238423, 25.532518843557185]]}, 'id': '000000000000000000fc', 'properties': {'bottom': 2824274.99417558, 'id': 295, 'left': 586159.4528034591, 'right': 702828.3092464125, 'top': 2824274.99417558}}, {'type': 'Feature', 'geometry': {'type': 'LineString', 'coordinates': [[81.85754417776624, 25.532991470155604], [81.97622706261524, 25.532248677545258]]}, 'id': '000000000000000000fd', 'properties': {'bottom': 2824244.99417558, 'id': 296, 'left': 586159.4528034591, 'right': 702828.3092464125, 'top': 2824244.99417558}}, {'type': 'Feature', 'geometry': {'type': 'LineString', 'coordinates': [[81.85754223359396, 25.532718063909492], [81.97641256428216, 25.53197402939226]]}, 'id': '000000000000000000fe', 'properties': {'bottom': 2824214.99417558, 'id': 297, 'left': 586159.4528034591, 'right': 702828.3092464125, 'top': 2824214.99417558}}, {'type': 'Feature', 'geometry': {'type': 'LineString', 'coordinates': [[81.85754032132091, 25.53244913972289], [81.97658822170824, 25.531703928798645]]}, 'id': '000000000000000000ff', 'properties': {'bottom': 2824184.9941755803, 'id': 298, 'left': 586159.4528034591, 'right': 702828.3092464125, 'top': 2824184.9941755803}}, {'type': 'Feature', 'geometry': {'type': 'LineString', 'coordinates': [[81.85753837720463, 25.53217573345626], [81.97676384206152, 25.531429346087176]]}, 'id': '00000000000000000100', 'properties': {'bottom': 2824154.99417558, 'id': 299, 'left': 586159.4528034591, 'right': 702828.3092464125, 'top': 2824154.99417558}}, {'type': 'Feature', 'geometry': {'type': 'LineString', 'coordinates': [[81.85753646498667, 25.53190680924949], [81.97693949793579, 25.531159245098962]]}, 'id': '00000000000000000101', 'properties': {'bottom': 2824124.99417558, 'id': 300, 'left': 586159.4528034591, 'right': 702828.3092464125, 'top': 2824124.99417558}}, {'type': 'Feature', 'geometry': {'type': 'LineString', 'coordinates': [[81.85753452092641, 25.53163340296235], [81.97712005654276, 25.530884629046803]]}, 'id': '00000000000000000102', 'properties': {'bottom': 2824094.99417558, 'id': 301, 'left': 586159.4528034591, 'right': 702828.3092464125, 'top': 2824094.99417558}}, {'type': 'Feature', 'geometry': {'type': 'LineString', 'coordinates': [[81.85753260876353, 25.531364478735405], [81.97729571085397, 25.5306145276584]]}, 'id': '00000000000000000103', 'properties': {'bottom': 2824064.99417558, 'id': 302, 'left': 586159.4528034591, 'right': 702828.3092464125, 'top': 2824064.99417558}}, {'type': 'Feature', 'geometry': {'type': 'LineString', 'coordinates': [[81.85753069662796, 25.531095554498446], [81.97746642459735, 25.530344459030108]]}, 'id': '00000000000000000104', 'properties': {'bottom': 2824034.99417558, 'id': 303, 'left': 586159.4528034591, 'right': 702828.3092464125, 'top': 2824034.99417558}}, {'type': 'Feature', 'geometry': {'type': 'LineString', 'coordinates': [[81.85752875265149, 25.53082214818062], [81.9776371012604, 25.530069908295385]]}, 'id': '00000000000000000105', 'properties': {'bottom': 2824004.99417558, 'id': 304, 'left': 586159.4528034591, 'right': 702828.3092464125, 'top': 2824004.99417558}}, {'type': 'Feature', 'geometry': {'type': 'LineString', 'coordinates': [[81.85752684057101, 25.530553223923494], [81.97780781349759, 25.529799839294622]]}, 'id': '00000000000000000106', 'properties': {'bottom': 2823974.99417558, 'id': 305, 'left': 586159.4528034591, 'right': 702828.3092464125, 'top': 2823974.99417558}}, {'type': 'Feature', 'geometry': {'type': 'LineString', 'coordinates': [[81.85752489665053, 25.530279817585154], [81.97797848864266, 25.52952528818754]]}, 'id': '00000000000000000107', 'properties': {'bottom': 2823944.9941755803, 'id': 306, 'left': 586159.4528034591, 'right': 702828.3092464125, 'top': 2823944.9941755803}}, {'type': 'Feature', 'geometry': {'type': 'LineString', 'coordinates': [[81.85752298462515, 25.530010893307836], [81.97814425962429, 25.529255251793288]]}, 'id': '00000000000000000108', 'properties': {'bottom': 2823914.99417558, 'id': 307, 'left': 586159.4528034591, 'right': 702828.3092464125, 'top': 2823914.99417558}}, {'type': 'Feature', 'geometry': {'type': 'LineString', 'coordinates': [[81.85752104076067, 25.529737486948992], [81.97830999352503, 25.528980733303566]]}, 'id': '00000000000000000109', 'properties': {'bottom': 2823884.99417558, 'id': 308, 'left': 586159.4528034591, 'right': 702828.3092464125, 'top': 2823884.99417558}}, {'type': 'Feature', 'geometry': {'type': 'LineString', 'coordinates': [[81.85751912879037, 25.529468562651513], [81.97847082331937, 25.528710729547615]]}, 'id': '0000000000000000010a', 'properties': {'bottom': 2823854.99417558, 'id': 309, 'left': 586159.4528034591, 'right': 702828.3092464125, 'top': 2823854.99417558}}, {'type': 'Feature', 'geometry': {'type': 'LineString', 'coordinates': [[81.8575171849819, 25.529195156272152], [81.97863161604438, 25.528436243706643]]}, 'id': '0000000000000000010b', 'properties': {'bottom': 2823824.99417558, 'id': 310, 'left': 586159.4528034591, 'right': 702828.3092464125, 'top': 2823824.99417558}}, {'type': 'Feature', 'geometry': {'type': 'LineString', 'coordinates': [[81.8575152730667, 25.52892623195449], [81.97879738412733, 25.528166206620867]]}, 'id': '0000000000000000010c', 'properties': {'bottom': 2823794.99417558, 'id': 311, 'left': 586159.4528034591, 'right': 702828.3092464125, 'top': 2823794.99417558}}, {'type': 'Feature', 'geometry': {'type': 'LineString', 'coordinates': [[81.85751336117879, 25.528657307626826], [81.97895821179031, 25.527896202364353]]}, 'id': '0000000000000000010d', 'properties': {'bottom': 2823764.99417558, 'id': 312, 'left': 586159.4528034591, 'right': 702828.3092464125, 'top': 2823764.99417558}}, {'type': 'Feature', 'geometry': {'type': 'LineString', 'coordinates': [[81.85751141745409, 25.528383901216785], [81.97911900236723, 25.527621716023]]}, 'id': '0000000000000000010e', 'properties': {'bottom': 2823734.99417558, 'id': 313, 'left': 586159.4528034591, 'right': 702828.3092464125, 'top': 2823734.99417558}}, {'type': 'Feature', 'geometry': {'type': 'LineString', 'coordinates': [[81.85750950562127, 25.528114976868952], [81.97927982861506, 25.527351711436225]]}, 'id': '0000000000000000010f', 'properties': {'bottom': 2823704.9941755803, 'id': 314, 'left': 586159.4528034591, 'right': 702828.3092464125, 'top': 2823704.9941755803}}, {'type': 'Feature', 'geometry': {'type': 'LineString', 'coordinates': [[81.85750756195257, 25.527841570438394], [81.97943567810749, 25.527077257784622]]}, 'id': '00000000000000000110', 'properties': {'bottom': 2823674.99417558, 'id': 315, 'left': 586159.4528034591, 'right': 702828.3092464125, 'top': 2823674.99417558}}, {'type': 'Feature', 'geometry': {'type': 'LineString', 'coordinates': [[81.85750565017483, 25.527572646070382], [81.97958662365748, 25.526807318922195]]}, 'id': '00000000000000000111', 'properties': {'bottom': 2823644.99417558, 'id': 316, 'left': 586159.4528034591, 'right': 702828.3092464125, 'top': 2823644.99417558}}, {'type': 'Feature', 'geometry': {'type': 'LineString', 'coordinates': [[81.85750370656214, 25.527299239619317], [81.97974247178095, 25.526532864965425]]}, 'id': '00000000000000000112', 'properties': {'bottom': 2823614.99417558, 'id': 317, 'left': 586159.4528034591, 'right': 702828.3092464125, 'top': 2823614.99417558}}, {'type': 'Feature', 'geometry': {'type': 'LineString', 'coordinates': [[81.85750179483948, 25.527030315231134], [81.97989341599528, 25.526262925807462]]}, 'id': '00000000000000000113', 'properties': {'bottom': 2823584.99417558, 'id': 318, 'left': 586159.4528034591, 'right': 702828.3092464125, 'top': 2823584.99417558}}, {'type': 'Feature', 'geometry': {'type': 'LineString', 'coordinates': [[81.85749988314414, 25.526761390832945], [81.98004435955, 25.525992986504093]]}, 'id': '00000000000000000114', 'properties': {'bottom': 2823554.99417558, 'id': 319, 'left': 586159.4528034591, 'right': 702828.3092464125, 'top': 2823554.99417558}}, {'type': 'Feature', 'geometry': {'type': 'LineString', 'coordinates': [[81.8574979396152, 25.526487984351206], [81.98020020562856, 25.525718532092064]]}, 'id': '00000000000000000115', 'properties': {'bottom': 2823524.99417558, 'id': 320, 'left': 586159.4528034591, 'right': 702828.3092464125, 'top': 2823524.99417558}}, {'type': 'Feature', 'geometry': {'type': 'LineString', 'coordinates': [[81.85749602797493, 25.52621905993284], [81.98034620825744, 25.525448625541824]]}, 'id': '00000000000000000116', 'properties': {'bottom': 2823494.99417558, 'id': 321, 'left': 586159.4528034591, 'right': 702828.3092464125, 'top': 2823494.99417558}}, {'type': 'Feature', 'geometry': {'type': 'LineString', 'coordinates': [[81.857494084502, 25.525945653430583], [81.98049217382103, 25.525174236936216]]}, 'id': '00000000000000000117', 'properties': {'bottom': 2823464.9941755803, 'id': 322, 'left': 586159.4528034591, 'right': 702828.3092464125, 'top': 2823464.9941755803}}, {'type': 'Feature', 'geometry': {'type': 'LineString', 'coordinates': [[81.8574921729168, 25.525676728992043], [81.98063817517091, 25.524904330113955]]}, 'id': '00000000000000000118', 'properties': {'bottom': 2823434.99417558, 'id': 323, 'left': 586159.4528034591, 'right': 702828.3092464125, 'top': 2823434.99417558}}, {'type': 'Feature', 'geometry': {'type': 'LineString', 'coordinates': [[81.85749022949986, 25.525403322469284], [81.98078413944559, 25.52462994123641]]}, 'id': '00000000000000000119', 'properties': {'bottom': 2823404.99417558, 'id': 324, 'left': 586159.4528034591, 'right': 702828.3092464125, 'top': 2823404.99417558}}, {'type': 'Feature', 'geometry': {'type': 'LineString', 'coordinates': [[81.85748831796975, 25.525134398010568], [81.98093013951653, 25.524360034142163]]}, 'id': '0000000000000000011a', 'properties': {'bottom': 2823374.99417558, 'id': 325, 'left': 586159.4528034591, 'right': 702828.3092464125, 'top': 2823374.99417558}}, {'type': 'Feature', 'geometry': {'type': 'LineString', 'coordinates': [[81.85748637460881, 25.524860991467303], [81.98107610250234, 25.524085644992706]]}, 'id': '0000000000000000011b', 'properties': {'bottom': 2823344.99417558, 'id': 326, 'left': 586159.4528034591, 'right': 702828.3092464125, 'top': 2823344.99417558}}, {'type': 'Feature', 'geometry': {'type': 'LineString', 'coordinates': [[81.85748446313379, 25.524592066988415], [81.98121716177229, 25.523815770702505]]}, 'id': '0000000000000000011c', 'properties': {'bottom': 2823314.99417558, 'id': 327, 'left': 586159.4528034591, 'right': 702828.3092464125, 'top': 2823314.99417558}}, {'type': 'Feature', 'geometry': {'type': 'LineString', 'coordinates': [[81.85748255168605, 25.524323142499526], [81.9813631599387, 25.523545863204898]]}, 'id': '0000000000000000011d', 'properties': {'bottom': 2823284.99417558, 'id': 328, 'left': 586159.4528034591, 'right': 702828.3092464125, 'top': 2823284.99417558}}, {'type': 'Feature', 'geometry': {'type': 'LineString', 'coordinates': [[81.85748060840888, 25.524049735925576], [81.98150912100523, 25.52327147365217]]}, 'id': '0000000000000000011e', 'properties': {'bottom': 2823254.99417558, 'id': 329, 'left': 586159.4528034591, 'right': 702828.3092464125, 'top': 2823254.99417558}}, {'type': 'Feature', 'geometry': {'type': 'LineString', 'coordinates': [[81.85747869701622, 25.523780811416525], [81.98165017840468, 25.523001598972265]]}, 'id': '0000000000000000011f', 'properties': {'bottom': 2823224.9941755803, 'id': 330, 'left': 586159.4528034591, 'right': 702828.3092464125, 'top': 2823224.9941755803}}, {'type': 'Feature', 'geometry': {'type': 'LineString', 'coordinates': [[81.85747675379503, 25.52350740482206], [81.98180601714735, 25.522727142963642]]}, 'id': '00000000000000000120', 'properties': {'bottom': 2823194.99417558, 'id': 331, 'left': 586159.4528034591, 'right': 702828.3092464125, 'top': 2823194.99417558}}, {'type': 'Feature', 'geometry': {'type': 'LineString', 'coordinates': [[81.85747484245745, 25.52323848029283], [81.98197177060653, 25.522457102519983]]}, 'id': '00000000000000000121', 'properties': {'bottom': 2823164.99417558, 'id': 332, 'left': 586159.4528034591, 'right': 702828.3092464125, 'top': 2823164.99417558}}, {'type': 'Feature', 'geometry': {'type': 'LineString', 'coordinates': [[81.85747289929223, 25.52296507367786], [81.98213748685411, 25.52218257998198]]}, 'id': '00000000000000000122', 'properties': {'bottom': 2823134.99417558, 'id': 333, 'left': 586159.4528034591, 'right': 702828.3092464125, 'top': 2823134.99417558}}, {'type': 'Feature', 'geometry': {'type': 'LineString', 'coordinates': [[81.85747098800974, 25.522696149128464], [81.98229829941076, 25.521912572297765]]}, 'id': '00000000000000000123', 'properties': {'bottom': 2823104.99417558, 'id': 334, 'left': 586159.4528034591, 'right': 702828.3092464125, 'top': 2823104.99417558}}, {'type': 'Feature', 'geometry': {'type': 'LineString', 'coordinates': [[81.85746907675454, 25.52242722456906], [81.98245911126288, 25.52164256444854]]}, 'id': '00000000000000000124', 'properties': {'bottom': 2823074.99417558, 'id': 335, 'left': 586159.4528034591, 'right': 702828.3092464125, 'top': 2823074.99417558}}, {'type': 'Feature', 'geometry': {'type': 'LineString', 'coordinates': [[81.85746713367308, 25.52215381792341], [81.98261988590941, 25.52136807451549]]}, 'id': '00000000000000000125', 'properties': {'bottom': 2823044.99417558, 'id': 336, 'left': 586159.4528034591, 'right': 702828.3092464125, 'top': 2823044.99417558}}, {'type': 'Feature', 'geometry': {'type': 'LineString', 'coordinates': [[81.85746522247295, 25.521884893343834], [81.98278069634704, 25.52109806633629]]}, 'id': '00000000000000000126', 'properties': {'bottom': 2823014.99417558, 'id': 337, 'left': 586159.4528034591, 'right': 702828.3092464125, 'top': 2823014.99417558}}, {'type': 'Feature', 'geometry': {'type': 'LineString', 'coordinates': [[81.8574632794475, 25.52161148667769], [81.98294146956802, 25.520823576073397]]}, 'id': '00000000000000000127', 'properties': {'bottom': 2822984.9941755803, 'id': 338, 'left': 586159.4528034591, 'right': 702828.3092464125, 'top': 2822984.9941755803}}, {'type': 'Feature', 'geometry': {'type': 'LineString', 'coordinates': [[81.85746136830244, 25.52134256207794], [81.98310227859119, 25.520553567564246]]}, 'id': '00000000000000000128', 'properties': {'bottom': 2822954.99417558, 'id': 339, 'left': 586159.4528034591, 'right': 702828.3092464125, 'top': 2822954.99417558}}, {'type': 'Feature', 'geometry': {'type': 'LineString', 'coordinates': [[81.85745942533296, 25.521069155391274], [81.9832581110124, 25.52027911011206]]}, 'id': '00000000000000000129', 'properties': {'bottom': 2822924.99417558, 'id': 340, 'left': 586159.4528034591, 'right': 702828.3092464125, 'top': 2822924.99417558}}, {'type': 'Feature', 'geometry': {'type': 'LineString', 'coordinates': [[81.85745751424297, 25.52080023077136], [81.98340903990636, 25.520009167568862]]}, 'id': '0000000000000000012a', 'properties': {'bottom': 2822894.99417558, 'id': 341, 'left': 586159.4528034591, 'right': 702828.3092464125, 'top': 2822894.99417558}}, {'type': 'Feature', 'geometry': {'type': 'LineString', 'coordinates': [[81.85745560318028, 25.520531306141443], [81.98356490749282, 25.519739191730338]]}, 'id': '0000000000000000012b', 'properties': {'bottom': 2822864.99417558, 'id': 342, 'left': 586159.4528034591, 'right': 702828.3092464125, 'top': 2822864.99417558}}, {'type': 'Feature', 'geometry': {'type': 'LineString', 'coordinates': [[81.85745366029455, 25.52025789942411], [81.98372073785859, 25.51946473381838]]}, 'id': '0000000000000000012c', 'properties': {'bottom': 2822834.99417558, 'id': 343, 'left': 586159.4528034591, 'right': 702828.3092464125, 'top': 2822834.99417558}}, {'type': 'Feature', 'geometry': {'type': 'LineString', 'coordinates': [[81.85745174928694, 25.519988974774023], [81.98387166474704, 25.519194790829925]]}, 'id': '0000000000000000012d', 'properties': {'bottom': 2822804.99417558, 'id': 344, 'left': 586159.4528034591, 'right': 702828.3092464125, 'top': 2822804.99417558}}, {'type': 'Feature', 'geometry': {'type': 'LineString', 'coordinates': [[81.85744980645718, 25.519715568036183], [81.98402749374463, 25.518920332613153]]}, 'id': '0000000000000000012e', 'properties': {'bottom': 2822774.99417558, 'id': 345, 'left': 586159.4528034591, 'right': 702828.3092464125, 'top': 2822774.99417558}}, {'type': 'Feature', 'geometry': {'type': 'LineString', 'coordinates': [[81.85744789550463, 25.519446643365924], [81.98417347999188, 25.518650422498897]]}, 'id': '0000000000000000012f', 'properties': {'bottom': 2822744.9941755803, 'id': 346, 'left': 586159.4528034591, 'right': 702828.3092464125, 'top': 2822744.9941755803}}, {'type': 'Feature', 'geometry': {'type': 'LineString', 'coordinates': [[81.85744595273087, 25.51917323660757], [81.98431942904313, 25.518376030330426]]}, 'id': '00000000000000000130', 'properties': {'bottom': 2822714.99417558, 'id': 347, 'left': 586159.4528034591, 'right': 702828.3092464125, 'top': 2822714.99417558}}, {'type': 'Feature', 'geometry': {'type': 'LineString', 'coordinates': [[81.85744404183339, 25.518904311917144], [81.98446541401205, 25.51810611994444]]}, 'id': '00000000000000000131', 'properties': {'bottom': 2822684.99417558, 'id': 348, 'left': 586159.4528034591, 'right': 702828.3092464125, 'top': 2822684.99417558}}, {'type': 'Feature', 'geometry': {'type': 'LineString', 'coordinates': [[81.8574420991156, 25.518630905138295], [81.98461136177505, 25.51783172750431]]}, 'id': '00000000000000000132', 'properties': {'bottom': 2822654.99417558, 'id': 349, 'left': 586159.4528034591, 'right': 702828.3092464125, 'top': 2822654.99417558}}, {'type': 'Feature', 'geometry': {'type': 'LineString', 'coordinates': [[81.85744018827317, 25.5183619804277], [81.9847573454657, 25.517561816846612]]}, 'id': '00000000000000000133', 'properties': {'bottom': 2822624.99417558, 'id': 350, 'left': 586159.4528034591, 'right': 702828.3092464125, 'top': 2822624.99417558}}, {'type': 'Feature', 'geometry': {'type': 'LineString', 'coordinates': [[81.85743827745806, 25.5180930557071], [81.9849033285197, 25.517291906053057]]}, 'id': '00000000000000000134', 'properties': {'bottom': 2822594.99417558, 'id': 351, 'left': 586159.4528034591, 'right': 702828.3092464125, 'top': 2822594.99417558}}, {'type': 'Feature', 'geometry': {'type': 'LineString', 'coordinates': [[81.85743633482402, 25.51781964889757], [81.98503939587657, 25.517017579598885]]}, 'id': '00000000000000000135', 'properties': {'bottom': 2822564.99417558, 'id': 352, 'left': 586159.4528034591, 'right': 702828.3092464125, 'top': 2822564.99417558}}, {'type': 'Feature', 'geometry': {'type': 'LineString', 'coordinates': [[81.85743442406395, 25.517550724156806], [81.98517549922107, 25.516747734944786]]}, 'id': '00000000000000000136', 'properties': {'bottom': 2822534.99417558, 'id': 353, 'left': 586159.4528034591, 'right': 702828.3092464125, 'top': 2822534.99417558}}, {'type': 'Feature', 'geometry': {'type': 'LineString', 'coordinates': [[81.8574324814859, 25.51727731732678], [81.98531650459645, 25.51647337504924]]}, 'id': '00000000000000000137', 'properties': {'bottom': 2822504.9941755803, 'id': 354, 'left': 586159.4528034591, 'right': 702828.3092464125, 'top': 2822504.9941755803}}, {'type': 'Feature', 'geometry': {'type': 'LineString', 'coordinates': [[81.8574305707809, 25.517008392565845], [81.98545260674194, 25.516203530154616]]}, 'id': '00000000000000000138', 'properties': {'bottom': 2822474.99417558, 'id': 355, 'left': 586159.4528034591, 'right': 702828.3092464125, 'top': 2822474.99417558}}, {'type': 'Feature', 'geometry': {'type': 'LineString', 'coordinates': [[81.85742862825882, 25.51673498571531], [81.98558867169346, 25.51592920322375]]}, 'id': '00000000000000000139', 'properties': {'bottom': 2822444.99417558, 'id': 356, 'left': 586159.4528034591, 'right': 702828.3092464125, 'top': 2822444.99417558}}, {'type': 'Feature', 'geometry': {'type': 'LineString', 'coordinates': [[81.85742671760889, 25.516466060934203], [81.98572477265128, 25.515659358092876]]}, 'id': '0000000000000000013a', 'properties': {'bottom': 2822414.99417558, 'id': 357, 'left': 586159.4528034591, 'right': 702828.3092464125, 'top': 2822414.99417558}}, {'type': 'Feature', 'geometry': {'type': 'LineString', 'coordinates': [[81.85742480698624, 25.516197136143102], [81.98586087301756, 25.51538951284389]]}, 'id': '0000000000000000013b', 'properties': {'bottom': 2822384.99417558, 'id': 358, 'left': 586159.4528034591, 'right': 702828.3092464125, 'top': 2822384.99417558}}, {'type': 'Feature', 'geometry': {'type': 'LineString', 'coordinates': [[81.85742286454789, 25.515923729261893], [81.98599199701718, 25.51511521878515]]}, 'id': '0000000000000000013c', 'properties': {'bottom': 2822354.99417558, 'id': 359, 'left': 586159.4528034591, 'right': 702828.3092464125, 'top': 2822354.99417558}}, {'type': 'Feature', 'geometry': {'type': 'LineString', 'coordinates': [[81.85742095398031, 25.51565480445063], [81.98612315705941, 25.514845406534725]]}, 'id': '0000000000000000013d', 'properties': {'bottom': 2822324.99417558, 'id': 360, 'left': 586159.4528034591, 'right': 702828.3092464125, 'top': 2822324.99417558}}, {'type': 'Feature', 'geometry': {'type': 'LineString', 'coordinates': [[81.85741901159794, 25.515381397548914], [81.98625427990773, 25.514571112256498]]}, 'id': '0000000000000000013e', 'properties': {'bottom': 2822294.99417558, 'id': 361, 'left': 586159.4528034591, 'right': 702828.3092464125, 'top': 2822294.99417558}}, {'type': 'Feature', 'geometry': {'type': 'LineString', 'coordinates': [[81.85741710108542, 25.515112472717473], [81.98638543880753, 25.51430129978657]]}, 'id': '0000000000000000013f', 'properties': {'bottom': 2822264.9941755803, 'id': 362, 'left': 586159.4528034591, 'right': 702828.3092464125, 'top': 2822264.9941755803}}, {'type': 'Feature', 'geometry': {'type': 'LineString', 'coordinates': [[81.85741515875901, 25.51483906579526], [81.98651656050461, 25.514027005288877]]}, 'id': '00000000000000000140', 'properties': {'bottom': 2822234.99417558, 'id': 363, 'left': 586159.4528034591, 'right': 702828.3092464125, 'top': 2822234.99417558}}, {'type': 'Feature', 'geometry': {'type': 'LineString', 'coordinates': [[81.85741324830157, 25.514570140943654], [81.98664277915967, 25.513757225846188]]}, 'id': '00000000000000000141', 'properties': {'bottom': 2822204.99417558, 'id': 364, 'left': 586159.4528034591, 'right': 702828.3092464125, 'top': 2822204.99417558}}, {'type': 'Feature', 'geometry': {'type': 'LineString', 'coordinates': [[81.85741130603111, 25.514296734000936], [81.98676402153504, 25.513482997634224]]}, 'id': '00000000000000000142', 'properties': {'bottom': 2822174.99417558, 'id': 365, 'left': 586159.4528034591, 'right': 702828.3092464125, 'top': 2822174.99417558}}, {'type': 'Feature', 'geometry': {'type': 'LineString', 'coordinates': [[81.85740939562871, 25.514027809129164], [81.98689023910411, 25.513213217992025]]}, 'id': '00000000000000000143', 'properties': {'bottom': 2822144.99417558, 'id': 366, 'left': 586159.4528034591, 'right': 702828.3092464125, 'top': 2822144.99417558}}, {'type': 'Feature', 'geometry': {'type': 'LineString', 'coordinates': [[81.8574074852536, 25.513758884247398], [81.98701151705816, 25.512943471506258]]}, 'id': '00000000000000000144', 'properties': {'bottom': 2822114.99417558, 'id': 367, 'left': 586159.4528034591, 'right': 702828.3092464125, 'top': 2822114.99417558}}, {'type': 'Feature', 'geometry': {'type': 'LineString', 'coordinates': [[81.85740554306689, 25.51348547727401], [81.98713769689094, 25.512669209746544]]}, 'id': '00000000000000000145', 'properties': {'bottom': 2822084.99417558, 'id': 368, 'left': 586159.4528034591, 'right': 702828.3092464125, 'top': 2822084.99417558}}, {'type': 'Feature', 'geometry': {'type': 'LineString', 'coordinates': [[81.85740363274685, 25.513216552372075], [81.98725897378172, 25.512399463068977]]}, 'id': '00000000000000000146', 'properties': {'bottom': 2822054.99417558, 'id': 369, 'left': 586159.4528034591, 'right': 702828.3092464125, 'top': 2822054.99417558}}, {'type': 'Feature', 'geometry': {'type': 'LineString', 'coordinates': [[81.8574016906161, 25.512943145378184], [81.9873752744513, 25.512125267648784]]}, 'id': '00000000000000000147', 'properties': {'bottom': 2822024.9941755803, 'id': 370, 'left': 586159.4528034591, 'right': 702828.3092464125, 'top': 2822024.9941755803}}, {'type': 'Feature', 'geometry': {'type': 'LineString', 'coordinates': [[81.8573997803511, 25.512674220456084], [81.98749655030124, 25.511855520786938]]}, 'id': '00000000000000000148', 'properties': {'bottom': 2821994.99417558, 'id': 371, 'left': 586159.4528034591, 'right': 702828.3092464125, 'top': 2821994.99417558}}, {'type': 'Feature', 'geometry': {'type': 'LineString', 'coordinates': [[81.85739783827634, 25.51240081344169], [81.9876128499447, 25.51158132518981]]}, 'id': '00000000000000000149', 'properties': {'bottom': 2821964.99417558, 'id': 372, 'left': 586159.4528034591, 'right': 702828.3092464125, 'top': 2821964.99417558}}, {'type': 'Feature', 'geometry': {'type': 'LineString', 'coordinates': [[81.85739592806638, 25.512131888499425], [81.98772918575318, 25.511311611424055]]}, 'id': '0000000000000000014a', 'properties': {'bottom': 2821934.99417558, 'id': 373, 'left': 586159.4528034591, 'right': 702828.3092464125, 'top': 2821934.99417558}}, {'type': 'Feature', 'geometry': {'type': 'LineString', 'coordinates': [[81.85739401788373, 25.51186296354716], [81.98784552106017, 25.511041897571655]]}, 'id': '0000000000000000014b', 'properties': {'bottom': 2821904.99417558, 'id': 374, 'left': 586159.4528034591, 'right': 702828.3092464125, 'top': 2821904.99417558}}, {'type': 'Feature', 'geometry': {'type': 'LineString', 'coordinates': [[81.85739207589268, 25.5115895565021], [81.98796181918354, 25.51076770171453]]}, 'id': '0000000000000000014c', 'properties': {'bottom': 2821874.99417558, 'id': 375, 'left': 586159.4528034591, 'right': 702828.3092464125, 'top': 2821874.99417558}}, {'type': 'Feature', 'geometry': {'type': 'LineString', 'coordinates': [[81.85739016576508, 25.511320631529664], [81.98807321451673, 25.510498020979778]]}, 'id': '0000000000000000014d', 'properties': {'bottom': 2821844.99417558, 'id': 376, 'left': 586159.4528034591, 'right': 702828.3092464125, 'top': 2821844.99417558}}, {'type': 'Feature', 'geometry': {'type': 'LineString', 'coordinates': [[81.85738822383, 25.511047224464107], [81.9881845726814, 25.51022385824731]]}, 'id': '0000000000000000014e', 'properties': {'bottom': 2821814.99417558, 'id': 377, 'left': 586159.4528034591, 'right': 702828.3092464125, 'top': 2821814.99417558}}, {'type': 'Feature', 'geometry': {'type': 'LineString', 'coordinates': [[81.85738631375744, 25.510778299471507], [81.98829596705272, 25.509954177353297]]}, 'id': '0000000000000000014f', 'properties': {'bottom': 2821784.9941755803, 'id': 378, 'left': 586159.4528034591, 'right': 702828.3092464125, 'top': 2821784.9941755803}}, {'type': 'Feature', 'geometry': {'type': 'LineString', 'coordinates': [[81.85738437187833, 25.51050489238545], [81.98840732424817, 25.50968001446155]]}, 'id': '00000000000000000150', 'properties': {'bottom': 2821754.99417558, 'id': 379, 'left': 586159.4528034591, 'right': 702828.3092464125, 'top': 2821754.99417558}}, {'type': 'Feature', 'geometry': {'type': 'LineString', 'coordinates': [[81.85738246186082, 25.51023596737269], [81.98851377873595, 25.509410366712768]]}, 'id': '00000000000000000151', 'properties': {'bottom': 2821724.99417558, 'id': 380, 'left': 586159.4528034591, 'right': 702828.3092464125, 'top': 2821724.99417558}}, {'type': 'Feature', 'geometry': {'type': 'LineString', 'coordinates': [[81.85738052003767, 25.50996256026612], [81.98862513497363, 25.509136203665154]]}, 'id': '00000000000000000152', 'properties': {'bottom': 2821694.99417558, 'id': 381, 'left': 586159.4528034591, 'right': 702828.3092464125, 'top': 2821694.99417558}}, {'type': 'Feature', 'geometry': {'type': 'LineString', 'coordinates': [[81.8573786100752, 25.509693635233198], [81.9887315885334, 25.508866555767238]]}, 'id': '00000000000000000153', 'properties': {'bottom': 2821664.99417558, 'id': 382, 'left': 586159.4528034591, 'right': 702828.3092464125, 'top': 2821664.99417558}}, {'type': 'Feature', 'geometry': {'type': 'LineString', 'coordinates': [[81.85737670014005, 25.50942471019027], [81.98883804163654, 25.508596907796402]]}, 'id': '00000000000000000154', 'properties': {'bottom': 2821634.99417558, 'id': 383, 'left': 586159.4528034591, 'right': 702828.3092464125, 'top': 2821634.99417558}}, {'type': 'Feature', 'geometry': {'type': 'LineString', 'coordinates': [[81.8573747584006, 25.509151303053034], [81.98893951869194, 25.508322811151928]]}, 'id': '00000000000000000155', 'properties': {'bottom': 2821604.99417558, 'id': 384, 'left': 586159.4528034591, 'right': 702828.3092464125, 'top': 2821604.99417558}}, {'type': 'Feature', 'geometry': {'type': 'LineString', 'coordinates': [[81.85737284852047, 25.508882377989952], [81.9890459708895, 25.508053163038497]]}, 'id': '00000000000000000156', 'properties': {'bottom': 2821574.99417558, 'id': 385, 'left': 586159.4528034591, 'right': 702828.3092464125, 'top': 2821574.99417558}}, {'type': 'Feature', 'geometry': {'type': 'LineString', 'coordinates': [[81.857370906837, 25.508608970832228], [81.98914744705509, 25.50777906625771]]}, 'id': '00000000000000000157', 'properties': {'bottom': 2821544.9941755803, 'id': 386, 'left': 586159.4528034591, 'right': 702828.3092464125, 'top': 2821544.9941755803}}, {'type': 'Feature', 'geometry': {'type': 'LineString', 'coordinates': [[81.85736899701193, 25.508340045748973], [81.98925389834713, 25.50750941800169]]}, 'id': '00000000000000000158', 'properties': {'bottom': 2821514.99417558, 'id': 387, 'left': 586159.4528034591, 'right': 702828.3092464125, 'top': 2821514.99417558}}, {'type': 'Feature', 'geometry': {'type': 'LineString', 'coordinates': [[81.85736705538442, 25.508066638570753], [81.98935537362293, 25.507235321084632]]}, 'id': '00000000000000000159', 'properties': {'bottom': 2821484.99417558, 'id': 388, 'left': 586159.4528034591, 'right': 702828.3092464125, 'top': 2821484.99417558}}, {'type': 'Feature', 'geometry': {'type': 'LineString', 'coordinates': [[81.85736514561438, 25.507797713467333], [81.98945194636885, 25.506965739352427]]}, 'id': '0000000000000000015a', 'properties': {'bottom': 2821454.99417558, 'id': 389, 'left': 586159.4528034591, 'right': 702828.3092464125, 'top': 2821454.99417558}}, {'type': 'Feature', 'geometry': {'type': 'LineString', 'coordinates': [[81.85736323587163, 25.507528788353913], [81.9895485187029, 25.5066961575597]]}, 'id': '0000000000000000015b', 'properties': {'bottom': 2821424.99417558, 'id': 390, 'left': 586159.4528034591, 'right': 702828.3092464125, 'top': 2821424.99417558}}, {'type': 'Feature', 'geometry': {'type': 'LineString', 'coordinates': [[81.85736129432784, 25.507255381145026], [81.98964505388773, 25.506422093787997]]}, 'id': '0000000000000000015c', 'properties': {'bottom': 2821394.99417558, 'id': 391, 'left': 586159.4528034591, 'right': 702828.3092464125, 'top': 2821394.99417558}}, {'type': 'Feature', 'geometry': {'type': 'LineString', 'coordinates': [[81.85735938464012, 25.506986456011454], [81.98974656418162, 25.50615247853228]]}, 'id': '0000000000000000015d', 'properties': {'bottom': 2821364.99417558, 'id': 392, 'left': 586159.4528034591, 'right': 702828.3092464125, 'top': 2821364.99417558}}, {'type': 'Feature', 'geometry': {'type': 'LineString', 'coordinates': [[81.85735744315227, 25.506713048782064], [81.98984309852203, 25.50587841463649]]}, 'id': '0000000000000000015e', 'properties': {'bottom': 2821334.99417558, 'id': 393, 'left': 586159.4528034591, 'right': 702828.3092464125, 'top': 2821334.99417558}}, {'type': 'Feature', 'geometry': {'type': 'LineString', 'coordinates': [[81.85735553351961, 25.506444123628327], [81.98993966919132, 25.505608832598654]]}, 'id': '0000000000000000015f', 'properties': {'bottom': 2821304.9941755803, 'id': 394, 'left': 586159.4528034591, 'right': 702828.3092464125, 'top': 2821304.9941755803}}, {'type': 'Feature', 'geometry': {'type': 'LineString', 'coordinates': [[81.85735359208772, 25.506170716378442], [81.99003126394594, 25.505334801932364]]}, 'id': '00000000000000000160', 'properties': {'bottom': 2821274.99417558, 'id': 395, 'left': 586159.4528034591, 'right': 702828.3092464125, 'top': 2821274.99417558}}, {'type': 'Feature', 'geometry': {'type': 'LineString', 'coordinates': [[81.8573516825101, 25.50590179120454], [81.99011795631645, 25.505065286483017]]}, 'id': '00000000000000000161', 'properties': {'bottom': 2821244.99417558, 'id': 396, 'left': 586159.4528034591, 'right': 702828.3092464125, 'top': 2821244.99417558}}, {'type': 'Feature', 'geometry': {'type': 'LineString', 'coordinates': [[81.85734974113414, 25.50562838393416], [81.99020955029462, 25.504791255709694]]}, 'id': '00000000000000000162', 'properties': {'bottom': 2821214.99417558, 'id': 397, 'left': 586159.4528034591, 'right': 702828.3092464125, 'top': 2821214.99417558}}, {'type': 'Feature', 'geometry': {'type': 'LineString', 'coordinates': [[81.85734783161156, 25.505359458740088], [81.99030118063605, 25.504521706800155]]}, 'id': '00000000000000000163', 'properties': {'bottom': 2821184.99417558, 'id': 398, 'left': 586159.4528034591, 'right': 702828.3092464125, 'top': 2821184.99417558}}, {'type': 'Feature', 'geometry': {'type': 'LineString', 'coordinates': [[81.85734592211628, 25.505090533536034], [81.99038787188009, 25.504252191197125]]}, 'id': '00000000000000000164', 'properties': {'bottom': 2821154.99417558, 'id': 399, 'left': 586159.4528034591, 'right': 702828.3092464125, 'top': 2821154.99417558}}, {'type': 'Feature', 'geometry': {'type': 'LineString', 'coordinates': [[81.85734398082403, 25.504817126234993], [81.99047946468949, 25.503978160261898]]}, 'id': '00000000000000000165', 'properties': {'bottom': 2821124.99417558, 'id': 400, 'left': 586159.4528034591, 'right': 702828.3092464125, 'top': 2821124.99417558}}, {'type': 'Feature', 'geometry': {'type': 'LineString', 'coordinates': [[81.85734207138378, 25.504548201010763], [81.99056615518538, 25.50370864455727]]}, 'id': '00000000000000000166', 'properties': {'bottom': 2821094.99417558, 'id': 401, 'left': 586159.4528034591, 'right': 702828.3092464125, 'top': 2821094.99417558}}, {'type': 'Feature', 'geometry': {'type': 'LineString', 'coordinates': [[81.85734013014749, 25.50427479368922], [81.99064786987016, 25.50343468025339]]}, 'id': '00000000000000000167', 'properties': {'bottom': 2821064.9941755803, 'id': 402, 'left': 586159.4528034591, 'right': 702828.3092464125, 'top': 2821064.9941755803}}, {'type': 'Feature', 'geometry': {'type': 'LineString', 'coordinates': [[81.85733822076229, 25.50400586844484], [81.99073455964023, 25.503165164452373]]}, 'id': '00000000000000000168', 'properties': {'bottom': 2821034.99417558, 'id': 403, 'left': 586159.4528034591, 'right': 702828.3092464125, 'top': 2821034.99417558}}, {'type': 'Feature', 'geometry': {'type': 'LineString', 'coordinates': [[81.85733627958194, 25.50373246110281], [81.99081627361633, 25.502891200057007]]}, 'id': '00000000000000000169', 'properties': {'bottom': 2821004.99417558, 'id': 404, 'left': 586159.4528034591, 'right': 702828.3092464125, 'top': 2821004.99417558}}, {'type': 'Feature', 'geometry': {'type': 'LineString', 'coordinates': [[81.85733437025175, 25.503463535838254], [81.99089802402011, 25.50262171753613]]}, 'id': '0000000000000000016a', 'properties': {'bottom': 2820974.99417558, 'id': 405, 'left': 586159.4528034591, 'right': 702828.3092464125, 'top': 2820974.99417558}}, {'type': 'Feature', 'geometry': {'type': 'LineString', 'coordinates': [[81.85733246094884, 25.503194610563718], [81.99098471270848, 25.502352201591844]]}, 'id': '0000000000000000016b', 'properties': {'bottom': 2820944.99417558, 'id': 406, 'left': 586159.4528034591, 'right': 702828.3092464125, 'top': 2820944.99417558}}, {'type': 'Feature', 'geometry': {'type': 'LineString', 'coordinates': [[81.8573305198522, 25.50292120319102], [81.99106642562859, 25.502078237060502]]}, 'id': '0000000000000000016c', 'properties': {'bottom': 2820914.99417558, 'id': 407, 'left': 586159.4528034591, 'right': 702828.3092464125, 'top': 2820914.99417558}}, {'type': 'Feature', 'geometry': {'type': 'LineString', 'coordinates': [[81.85732861060433, 25.502652277896324], [81.99114323637744, 25.501808787787624]]}, 'id': '0000000000000000016d', 'properties': {'bottom': 2820884.99417558, 'id': 408, 'left': 586159.4528034591, 'right': 702828.3092464125, 'top': 2820884.99417558}}, {'type': 'Feature', 'geometry': {'type': 'LineString', 'coordinates': [[81.85732666956363, 25.502378870503126], [81.9912249486116, 25.501534823169642]]}, 'id': '0000000000000000016e', 'properties': {'bottom': 2820854.99417558, 'id': 409, 'left': 586159.4528034591, 'right': 702828.3092464125, 'top': 2820854.99417558}}, {'type': 'Feature', 'geometry': {'type': 'LineString', 'coordinates': [[81.8573247603708, 25.502109945188263], [81.99130175870197, 25.501265373814917]]}, 'id': '0000000000000000016f', 'properties': {'bottom': 2820824.9941755803, 'id': 410, 'left': 586159.4528034591, 'right': 702828.3092464125, 'top': 2820824.9941755803}}, {'type': 'Feature', 'geometry': {'type': 'LineString', 'coordinates': [[81.85732281938607, 25.50183653777458], [81.99137853167709, 25.500991442501054]]}, 'id': '00000000000000000170', 'properties': {'bottom': 2820794.99417558, 'id': 411, 'left': 586159.4528034591, 'right': 702828.3092464125, 'top': 2820794.99417558}}, {'type': 'Feature', 'geometry': {'type': 'LineString', 'coordinates': [[81.85732091024826, 25.50156761243955], [81.99145534112012, 25.50072199306676]]}, 'id': '00000000000000000171', 'properties': {'bottom': 2820764.99417558, 'id': 412, 'left': 586159.4528034591, 'right': 702828.3092464125, 'top': 2820764.99417558}}, {'type': 'Feature', 'geometry': {'type': 'LineString', 'coordinates': [[81.85731896931946, 25.501294205005365], [81.99153211344313, 25.500448061673204]]}, 'id': '00000000000000000172', 'properties': {'bottom': 2820734.99417558, 'id': 413, 'left': 586159.4528034591, 'right': 702828.3092464125, 'top': 2820734.99417558}}, {'type': 'Feature', 'geometry': {'type': 'LineString', 'coordinates': [[81.8573170602367, 25.501025279650186], [81.99160892223887, 25.500178612159353]]}, 'id': '00000000000000000173', 'properties': {'bottom': 2820704.99417558, 'id': 414, 'left': 586159.4528034591, 'right': 702828.3092464125, 'top': 2820704.99417558}}, {'type': 'Feature', 'geometry': {'type': 'LineString', 'coordinates': [[81.8573151511812, 25.500756354285013], [81.99168079218374, 25.499909196005355]]}, 'id': '00000000000000000174', 'properties': {'bottom': 2820674.99417558, 'id': 415, 'left': 586159.4528034591, 'right': 702828.3092464125, 'top': 2820674.99417558}}, {'type': 'Feature', 'geometry': {'type': 'LineString', 'coordinates': [[81.85731321033609, 25.500482946820167], [81.99175262502403, 25.499635297896237]]}, 'id': '00000000000000000175', 'properties': {'bottom': 2820644.99417558, 'id': 416, 'left': 586159.4528034591, 'right': 702828.3092464125, 'top': 2820644.99417558}}, {'type': 'Feature', 'geometry': {'type': 'LineString', 'coordinates': [[81.85731130133561, 25.500214021434836], [81.99181955586037, 25.49936591507499]]}, 'id': '00000000000000000176', 'properties': {'bottom': 2820614.99417558, 'id': 417, 'left': 586159.4528034591, 'right': 702828.3092464125, 'top': 2820614.99417558}}, {'type': 'Feature', 'geometry': {'type': 'LineString', 'coordinates': [[81.85730936054645, 25.499940613949498], [81.99189138810499, 25.499092016896963]]}, 'id': '00000000000000000177', 'properties': {'bottom': 2820584.9941755803, 'id': 418, 'left': 586159.4528034591, 'right': 702828.3092464125, 'top': 2820584.9941755803}}, {'type': 'Feature', 'geometry': {'type': 'LineString', 'coordinates': [[81.85730745160102, 25.499671688544], [81.99196325685591, 25.498822600603333]]}, 'id': '00000000000000000178', 'properties': {'bottom': 2820554.99417558, 'id': 419, 'left': 586159.4528034591, 'right': 702828.3092464125, 'top': 2820554.99417558}}, {'type': 'Feature', 'geometry': {'type': 'LineString', 'coordinates': [[81.85730551086779, 25.49939828103818], [81.99203015002131, 25.498548735764036]]}, 'id': '00000000000000000179', 'properties': {'bottom': 2820524.99417558, 'id': 420, 'left': 586159.4528034591, 'right': 702828.3092464125, 'top': 2820524.99417558}}, {'type': 'Feature', 'geometry': {'type': 'LineString', 'coordinates': [[81.85730360197736, 25.499129355612524], [81.99209707971968, 25.49827935281329]]}, 'id': '0000000000000000017a', 'properties': {'bottom': 2820494.99417558, 'id': 421, 'left': 586159.4528034591, 'right': 702828.3092464125, 'top': 2820494.99417558}}, {'type': 'Feature', 'geometry': {'type': 'LineString', 'coordinates': [[81.85730169311425, 25.49886043017688], [81.99215907069012, 25.49801000324457]]}, 'id': '0000000000000000017b', 'properties': {'bottom': 2820464.99417558, 'id': 422, 'left': 586159.4528034591, 'right': 702828.3092464125, 'top': 2820464.99417558}}, {'type': 'Feature', 'geometry': {'type': 'LineString', 'coordinates': [[81.8572997524647, 25.498587022640386], [81.99222596302498, 25.497736138312764]]}, 'id': '0000000000000000017c', 'properties': {'bottom': 2820434.99417558, 'id': 423, 'left': 586159.4528034591, 'right': 702828.3092464125, 'top': 2820434.99417558}}, {'type': 'Feature', 'geometry': {'type': 'LineString', 'coordinates': [[81.8572978436566, 25.498318097184583], [81.9922879534711, 25.49746678868683]]}, 'id': '0000000000000000017d', 'properties': {'bottom': 2820404.99417558, 'id': 424, 'left': 586159.4528034591, 'right': 702828.3092464125, 'top': 2820404.99417558}}, {'type': 'Feature', 'geometry': {'type': 'LineString', 'coordinates': [[81.85729590306299, 25.498044689627605], [81.9923548452554, 25.497192923693987]]}, 'id': '0000000000000000017e', 'properties': {'bottom': 2820374.99417558, 'id': 425, 'left': 586159.4528034591, 'right': 702828.3092464125, 'top': 2820374.99417558}}, {'type': 'Feature', 'geometry': {'type': 'LineString', 'coordinates': [[81.85729399430993, 25.497775764151637], [81.99242177358252, 25.4969235405901]]}, 'id': '0000000000000000017f', 'properties': {'bottom': 2820344.9941755803, 'id': 426, 'left': 586159.4528034591, 'right': 702828.3092464125, 'top': 2820344.9941755803}}, {'type': 'Feature', 'geometry': {'type': 'LineString', 'coordinates': [[81.85729205377226, 25.497502356574163], [81.99247878801705, 25.496649742379464]]}, 'id': '00000000000000000180', 'properties': {'bottom': 2820314.99417558, 'id': 427, 'left': 586159.4528034591, 'right': 702828.3092464125, 'top': 2820314.99417558}}, {'type': 'Feature', 'geometry': {'type': 'LineString', 'coordinates': [[81.8572901450742, 25.49723343107804], [81.99254077742577, 25.496380392640884]]}, 'id': '00000000000000000181', 'properties': {'bottom': 2820284.99417558, 'id': 428, 'left': 586159.4528034591, 'right': 702828.3092464125, 'top': 2820284.99417558}}, {'type': 'Feature', 'geometry': {'type': 'LineString', 'coordinates': [[81.85728820459249, 25.496960023480074], [81.99259779137715, 25.496106594379757]]}, 'id': '00000000000000000182', 'properties': {'bottom': 2820254.99417558, 'id': 429, 'left': 586159.4528034591, 'right': 702828.3092464125, 'top': 2820254.99417558}}, {'type': 'Feature', 'geometry': {'type': 'LineString', 'coordinates': [[81.85728629594944, 25.4966910979638], [81.99265484192337, 25.495837278014932]]}, 'id': '00000000000000000183', 'properties': {'bottom': 2820224.99417558, 'id': 430, 'left': 586159.4528034591, 'right': 702828.3092464125, 'top': 2820224.99417558}}, {'type': 'Feature', 'geometry': {'type': 'LineString', 'coordinates': [[81.85728438733368, 25.49642217243753], [81.99271189223616, 25.49556796162578]]}, 'id': '00000000000000000184', 'properties': {'bottom': 2820194.99417558, 'id': 431, 'left': 586159.4528034591, 'right': 702828.3092464125, 'top': 2820194.99417558}}, {'type': 'Feature', 'geometry': {'type': 'LineString', 'coordinates': [[81.85728244693563, 25.496148764808908], [81.99277384381868, 25.495294129860707]]}, 'id': '00000000000000000185', 'properties': {'bottom': 2820164.99417558, 'id': 432, 'left': 586159.4528034591, 'right': 702828.3092464125, 'top': 2820164.99417558}}, {'type': 'Feature', 'geometry': {'type': 'LineString', 'coordinates': [[81.8572805383749, 25.495879839262482], [81.99283089365187, 25.495024813421228]]}, 'id': '00000000000000000186', 'properties': {'bottom': 2820134.99417558, 'id': 433, 'left': 586159.4528034591, 'right': 702828.3092464125, 'top': 2820134.99417558}}, {'type': 'Feature', 'geometry': {'type': 'LineString', 'coordinates': [[81.85727859803278, 25.495606431613368], [81.99288296809745, 25.494751048470064]]}, 'id': '00000000000000000187', 'properties': {'bottom': 2820104.9941755803, 'id': 434, 'left': 586159.4528034591, 'right': 702828.3092464125, 'top': 2820104.9941755803}}, {'type': 'Feature', 'geometry': {'type': 'LineString', 'coordinates': [[81.85727668952705, 25.495337506046788], [81.99293507916859, 25.494481765418673]]}, 'id': '00000000000000000188', 'properties': {'bottom': 2820074.99417558, 'id': 435, 'left': 586159.4528034591, 'right': 702828.3092464125, 'top': 2820074.99417558}}, {'type': 'Feature', 'geometry': {'type': 'LineString', 'coordinates': [[81.85727474924087, 25.495064098377174], [81.99298715318726, 25.49420800042462]]}, 'id': '00000000000000000189', 'properties': {'bottom': 2820044.99417558, 'id': 436, 'left': 586159.4528034591, 'right': 702828.3092464125, 'top': 2820044.99417558}}, {'type': 'Feature', 'geometry': {'type': 'LineString', 'coordinates': [[81.85727284079016, 25.49479517279044], [81.99303926383448, 25.493938717330533]]}, 'id': '0000000000000000018a', 'properties': {'bottom': 2820014.99417558, 'id': 437, 'left': 586159.4528034591, 'right': 702828.3092464125, 'top': 2820014.99417558}}, {'type': 'Feature', 'geometry': {'type': 'LineString', 'coordinates': [[81.85727093236675, 25.494526247193708], [81.99309137427049, 25.493669434215136]]}, 'id': '0000000000000000018b', 'properties': {'bottom': 2819984.99417558, 'id': 438, 'left': 586159.4528034591, 'right': 702828.3092464125, 'top': 2819984.99417558}}, {'type': 'Feature', 'geometry': {'type': 'LineString', 'coordinates': [[81.85726899216424, 25.49425283949344], [81.99314344764959, 25.4933956691568]]}, 'id': '0000000000000000018c', 'properties': {'bottom': 2819954.99417558, 'id': 439, 'left': 586159.4528034591, 'right': 702828.3092464125, 'top': 2819954.99417558}}, {'type': 'Feature', 'geometry': {'type': 'LineString', 'coordinates': [[81.85726708379583, 25.49398391387656], [81.99319061941283, 25.49312641944089]]}, 'id': '0000000000000000018d', 'properties': {'bottom': 2819924.99417558, 'id': 440, 'left': 586159.4528034591, 'right': 702828.3092464125, 'top': 2819924.99417558}}, {'type': 'Feature', 'geometry': {'type': 'LineString', 'coordinates': [[81.85726514364924, 25.493710506155807], [81.99323775413875, 25.492852687784527]]}, 'id': '0000000000000000018e', 'properties': {'bottom': 2819894.99417558, 'id': 441, 'left': 586159.4528034591, 'right': 702828.3092464125, 'top': 2819894.99417558}}, {'type': 'Feature', 'geometry': {'type': 'LineString', 'coordinates': [[81.85726323533585, 25.49344158051877], [81.99328492552259, 25.492583438031296]]}, 'id': '0000000000000000018f', 'properties': {'bottom': 2819864.9941755803, 'id': 442, 'left': 586159.4528034591, 'right': 702828.3092464125, 'top': 2819864.9941755803}}, {'type': 'Feature', 'geometry': {'type': 'LineString', 'coordinates': [[81.8572612952452, 25.49316817277753], [81.99333205986655, 25.492309706337394]]}, 'id': '00000000000000000190', 'properties': {'bottom': 2819834.99417558, 'id': 443, 'left': 586159.4528034591, 'right': 702828.3092464125, 'top': 2819834.99417558}}, {'type': 'Feature', 'geometry': {'type': 'LineString', 'coordinates': [[81.85725938698681, 25.49289924712033], [81.99337923087106, 25.49204045654683]]}, 'id': '00000000000000000191', 'properties': {'bottom': 2819804.99417558, 'id': 444, 'left': 586159.4528034591, 'right': 702828.3092464125, 'top': 2819804.99417558}}, {'type': 'Feature', 'geometry': {'type': 'LineString', 'coordinates': [[81.85725744695209, 25.492625839358602], [81.99342142664013, 25.4917667582637]]}, 'id': '00000000000000000192', 'properties': {'bottom': 2819774.99417558, 'id': 445, 'left': 586159.4528034591, 'right': 702828.3092464125, 'top': 2819774.99417558}}, {'type': 'Feature', 'geometry': {'type': 'LineString', 'coordinates': [[81.85725553874872, 25.492356913681252], [81.99346859727635, 25.49149750843708]]}, 'id': '00000000000000000193', 'properties': {'bottom': 2819744.99417558, 'id': 446, 'left': 586159.4528034591, 'right': 702828.3092464125, 'top': 2819744.99417558}}, {'type': 'Feature', 'geometry': {'type': 'LineString', 'coordinates': [[81.85725363057264, 25.4920879879939], [81.99351082955279, 25.491228292042486]]}, 'id': '00000000000000000194', 'properties': {'bottom': 2819714.99417558, 'id': 447, 'left': 586159.4528034591, 'right': 702828.3092464125, 'top': 2819714.99417558}}, {'type': 'Feature', 'geometry': {'type': 'LineString', 'coordinates': [[81.85725169062157, 25.491814580201527], [81.99355302480551, 25.49095459370907]]}, 'id': '00000000000000000195', 'properties': {'bottom': 2819684.99417558, 'id': 448, 'left': 586159.4528034591, 'right': 702828.3092464125, 'top': 2819684.99417558}}, {'type': 'Feature', 'geometry': {'type': 'LineString', 'coordinates': [[81.85724978250047, 25.491545654494033], [81.99359031859858, 25.49068541073451]]}, 'id': '00000000000000000196', 'properties': {'bottom': 2819654.99417558, 'id': 449, 'left': 586159.4528034591, 'right': 702828.3092464125, 'top': 2819654.99417558}}, {'type': 'Feature', 'geometry': {'type': 'LineString', 'coordinates': [[81.85724784260535, 25.491272246681156], [81.99363251352547, 25.490411712369344]]}, 'id': '00000000000000000197', 'properties': {'bottom': 2819624.9941755803, 'id': 450, 'left': 586159.4528034591, 'right': 702828.3092464125, 'top': 2819624.9941755803}}, {'type': 'Feature', 'geometry': {'type': 'LineString', 'coordinates': [[81.85724593453928, 25.49100332095351], [81.99366980701711, 25.49014252936528]]}, 'id': '00000000000000000198', 'properties': {'bottom': 2819594.99417558, 'id': 451, 'left': 586159.4528034591, 'right': 702828.3092464125, 'top': 2819594.99417558}}, {'type': 'Feature', 'geometry': {'type': 'LineString', 'coordinates': [[81.85724399470007, 25.490729913120145], [81.99370706350321, 25.489868864423944]]}, 'id': '00000000000000000199', 'properties': {'bottom': 2819564.99417558, 'id': 452, 'left': 586159.4528034591, 'right': 702828.3092464125, 'top': 2819564.99417558}}, {'type': 'Feature', 'geometry': {'type': 'LineString', 'coordinates': [[81.857242086689, 25.49046098737234], [81.99374929480835, 25.489599647934792]]}, 'id': '0000000000000000019a', 'properties': {'bottom': 2819534.99417558, 'id': 453, 'left': 586159.4528034591, 'right': 702828.3092464125, 'top': 2819534.99417558}}, {'type': 'Feature', 'geometry': {'type': 'LineString', 'coordinates': [[81.85724017870521, 25.490192061614536], [81.9937865878538, 25.48933046488698]]}, 'id': '0000000000000000019b', 'properties': {'bottom': 2819504.99417558, 'id': 454, 'left': 586159.4528034591, 'right': 702828.3092464125, 'top': 2819504.99417558}}, {'type': 'Feature', 'geometry': {'type': 'LineString', 'coordinates': [[81.85723823894966, 25.48991865375053], [81.99382384389081, 25.489056799901576]]}, 'id': '0000000000000000019c', 'properties': {'bottom': 2819474.99417558, 'id': 455, 'left': 586159.4528034591, 'right': 702828.3092464125, 'top': 2819474.99417558}}, {'type': 'Feature', 'geometry': {'type': 'LineString', 'coordinates': [[81.85723633102089, 25.489649727972576], [81.99385619857532, 25.488787650284475]]}, 'id': '0000000000000000019d', 'properties': {'bottom': 2819444.99417558, 'id': 456, 'left': 586159.4528034591, 'right': 702828.3092464125, 'top': 2819444.99417558}}, {'type': 'Feature', 'geometry': {'type': 'LineString', 'coordinates': [[81.85723439132127, 25.489376320088084], [81.99388851627198, 25.488514018731234]]}, 'id': '0000000000000000019e', 'properties': {'bottom': 2819414.99417558, 'id': 457, 'left': 586159.4528034591, 'right': 702828.3092464125, 'top': 2819414.99417558}}, {'type': 'Feature', 'geometry': {'type': 'LineString', 'coordinates': [[81.85723248344748, 25.48910739428998], [81.99391593266226, 25.48824490254957]]}, 'id': '0000000000000000019f', 'properties': {'bottom': 2819384.9941755803, 'id': 458, 'left': 586159.4528034591, 'right': 702828.3092464125, 'top': 2819384.9941755803}}, {'type': 'Feature', 'geometry': {'type': 'LineString', 'coordinates': [[81.85723054380375, 25.488833986385], [81.9939482501227, 25.487971270971624]]}, 'id': '000000000000000001a0', 'properties': {'bottom': 2819354.99417558, 'id': 459, 'left': 586159.4528034591, 'right': 702828.3092464125, 'top': 2819354.99417558}}, {'type': 'Feature', 'geometry': {'type': 'LineString', 'coordinates': [[81.857228635985, 25.48856506056674], [81.99398060432637, 25.48770212130487]]}, 'id': '000000000000000001a1', 'properties': {'bottom': 2819324.99417558, 'id': 460, 'left': 586159.4528034591, 'right': 702828.3092464125, 'top': 2819324.99417558}}, {'type': 'Feature', 'geometry': {'type': 'LineString', 'coordinates': [[81.85722672819348, 25.488296134738494], [81.99400802039246, 25.487433005088324]]}, 'id': '000000000000000001a2', 'properties': {'bottom': 2819294.99417558, 'id': 461, 'left': 586159.4528034591, 'right': 702828.3092464125, 'top': 2819294.99417558}}, {'type': 'Feature', 'geometry': {'type': 'LineString', 'coordinates': [[81.85722478863343, 25.48802272680286], [81.99403539948958, 25.487159406936357]]}, 'id': '000000000000000001a3', 'properties': {'bottom': 2819264.99417558, 'id': 462, 'left': 586159.4528034591, 'right': 702828.3092464125, 'top': 2819264.99417558}}, {'type': 'Feature', 'geometry': {'type': 'LineString', 'coordinates': [[81.85722288089694, 25.487753800954458], [81.99406281535408, 25.486890290697307]]}, 'id': '000000000000000001a4', 'properties': {'bottom': 2819234.99417558, 'id': 463, 'left': 586159.4528034591, 'right': 702828.3092464125, 'top': 2819234.99417558}}, {'type': 'Feature', 'geometry': {'type': 'LineString', 'coordinates': [[81.85722094139278, 25.48748039299834], [81.99409019424849, 25.486616692522585]]}, 'id': '000000000000000001a5', 'properties': {'bottom': 2819204.99417558, 'id': 464, 'left': 586159.4528034591, 'right': 702828.3092464125, 'top': 2819204.99417558}}, {'type': 'Feature', 'geometry': {'type': 'LineString', 'coordinates': [[81.8572190337113, 25.48721146712979], [81.99411760991141, 25.486347576261032]]}, 'id': '000000000000000001a6', 'properties': {'bottom': 2819174.99417558, 'id': 465, 'left': 586159.4528034591, 'right': 702828.3092464125, 'top': 2819174.99417558}}, {'type': 'Feature', 'geometry': {'type': 'LineString', 'coordinates': [[81.85721709426308, 25.48693805915318], [81.99414498860311, 25.486073978063544]]}, 'id': '000000000000000001a7', 'properties': {'bottom': 2819144.9941755803, 'id': 466, 'left': 586159.4528034591, 'right': 702828.3092464125, 'top': 2819144.9941755803}}, {'type': 'Feature', 'geometry': {'type': 'LineString', 'coordinates': [[81.85721518663658, 25.486669133264478], [81.99416746611627, 25.48580489524562]]}, 'id': '000000000000000001a8', 'properties': {'bottom': 2819114.99417558, 'id': 467, 'left': 586159.4528034591, 'right': 702828.3092464125, 'top': 2819114.99417558}}, {'type': 'Feature', 'geometry': {'type': 'LineString', 'coordinates': [[81.85721324724427, 25.48639572526739], [81.99418990667951, 25.48553133049252]]}, 'id': '000000000000000001a9', 'properties': {'bottom': 2819084.99417558, 'id': 468, 'left': 586159.4528034591, 'right': 702828.3092464125, 'top': 2819084.99417558}}, {'type': 'Feature', 'geometry': {'type': 'LineString', 'coordinates': [[81.8572113396728, 25.48612679935853], [81.99421238403541, 25.485262247654127]]}, 'id': '000000000000000001aa', 'properties': {'bottom': 2819054.99417558, 'id': 469, 'left': 586159.4528034591, 'right': 702828.3092464125, 'top': 2819054.99417558}}, {'type': 'Feature', 'geometry': {'type': 'LineString', 'coordinates': [[81.85720943212856, 25.485857873439695], [81.9942348613129, 25.48499316480558]]}, 'id': '000000000000000001ab', 'properties': {'bottom': 2819024.99417558, 'id': 470, 'left': 586159.4528034591, 'right': 702828.3092464125, 'top': 2819024.99417558}}, {'type': 'Feature', 'geometry': {'type': 'LineString', 'coordinates': [[81.8572074928199, 25.485584465411954], [81.9942573016393, 25.48471960002145]]}, 'id': '000000000000000001ac', 'properties': {'bottom': 2818994.99417558, 'id': 471, 'left': 586159.4528034591, 'right': 702828.3092464125, 'top': 2818994.99417558}}, {'type': 'Feature', 'geometry': {'type': 'LineString', 'coordinates': [[81.85720558533068, 25.485315539472953], [81.99427977875953, 25.484450517152442]]}, 'id': '000000000000000001ad', 'properties': {'bottom': 2818964.99417558, 'id': 472, 'left': 586159.4528034591, 'right': 702828.3092464125, 'top': 2818964.99417558}}, {'type': 'Feature', 'geometry': {'type': 'LineString', 'coordinates': [[81.8572036460779, 25.485042131424738], [81.99429728104644, 25.48417698581608]]}, 'id': '000000000000000001ae', 'properties': {'bottom': 2818934.99417558, 'id': 473, 'left': 586159.4528034591, 'right': 702828.3092464125, 'top': 2818934.99417558}}, {'type': 'Feature', 'geometry': {'type': 'LineString', 'coordinates': [[81.85720173864368, 25.484773205465583], [81.99431482015002, 25.483907936395816]]}, 'id': '000000000000000001af', 'properties': {'bottom': 2818904.9941755803, 'id': 474, 'left': 586159.4528034591, 'right': 702828.3092464125, 'top': 2818904.9941755803}}, {'type': 'Feature', 'geometry': {'type': 'LineString', 'coordinates': [[81.85719979944685, 25.484499797396882], [81.99432738446426, 25.483634438508954]]}, 'id': '000000000000000001b0', 'properties': {'bottom': 2818874.99417558, 'id': 475, 'left': 586159.4528034591, 'right': 702828.3092464125, 'top': 2818874.99417558}}, {'type': 'Feature', 'geometry': {'type': 'LineString', 'coordinates': [[81.85719789206762, 25.484230871417587], [81.99434492346589, 25.483365389069853]]}, 'id': '000000000000000001b1', 'properties': {'bottom': 2818844.99417558, 'id': 476, 'left': 586159.4528034591, 'right': 702828.3092464125, 'top': 2818844.99417558}}, {'type': 'Feature', 'geometry': {'type': 'LineString', 'coordinates': [[81.85719598471566, 25.483961945428295], [81.99436246241115, 25.483096339621287]]}, 'id': '000000000000000001b2', 'properties': {'bottom': 2818814.99417558, 'id': 477, 'left': 586159.4528034591, 'right': 702828.3092464125, 'top': 2818814.99417558}}, {'type': 'Feature', 'geometry': {'type': 'LineString', 'coordinates': [[81.85719404560245, 25.48368853732895], [81.99437502659991, 25.482822841706312]]}, 'id': '000000000000000001b3', 'properties': {'bottom': 2818784.99417558, 'id': 478, 'left': 586159.4528034591, 'right': 702828.3092464125, 'top': 2818784.99417558}}, {'type': 'Feature', 'geometry': {'type': 'LineString', 'coordinates': [[81.85719213830549, 25.48341961131952], [81.99439256544326, 25.48255379223892]]}, 'id': '000000000000000001b4', 'properties': {'bottom': 2818754.99417558, 'id': 479, 'left': 586159.4528034591, 'right': 702828.3092464125, 'top': 2818754.99417558}}, {'type': 'Feature', 'geometry': {'type': 'LineString', 'coordinates': [[81.8571901992482, 25.483146203199677], [81.99440512955209, 25.48228029430518]]}, 'id': '000000000000000001b5', 'properties': {'bottom': 2818724.99417558, 'id': 480, 'left': 586159.4528034591, 'right': 702828.3092464125, 'top': 2818724.99417558}}, {'type': 'Feature', 'geometry': {'type': 'LineString', 'coordinates': [[81.85718829200621, 25.48287727717009], [81.99441279270782, 25.482011311758633]]}, 'id': '000000000000000001b6', 'properties': {'bottom': 2818694.99417558, 'id': 481, 'left': 586159.4528034591, 'right': 702828.3092464125, 'top': 2818694.99417558}}, {'type': 'Feature', 'geometry': {'type': 'LineString', 'coordinates': [[81.85718635300483, 25.482603869029766], [81.99442041897743, 25.48173784727598]]}, 'id': '000000000000000001b7', 'properties': {'bottom': 2818664.9941755803, 'id': 482, 'left': 586159.4528034591, 'right': 702828.3092464125, 'top': 2818664.9941755803}}, {'type': 'Feature', 'geometry': {'type': 'LineString', 'coordinates': [[81.85718444581785, 25.48233494298004], [81.99443301987932, 25.4814688312415]]}, 'id': '000000000000000001b8', 'properties': {'bottom': 2818634.99417558, 'id': 483, 'left': 586159.4528034591, 'right': 702828.3092464125, 'top': 2818634.99417558}}, {'type': 'Feature', 'geometry': {'type': 'LineString', 'coordinates': [[81.85718250687238, 25.48206153481923], [81.99444064611359, 25.481195366740288]]}, 'id': '000000000000000001b9', 'properties': {'bottom': 2818604.99417558, 'id': 484, 'left': 586159.4528034591, 'right': 702828.3092464125, 'top': 2818604.99417558}}, {'type': 'Feature', 'geometry': {'type': 'LineString', 'coordinates': [[81.85718059974039, 25.481792608749352], [81.9944532469578, 25.480926350687522]]}, 'id': '000000000000000001ba', 'properties': {'bottom': 2818574.99417558, 'id': 485, 'left': 586159.4528034591, 'right': 702828.3092464125, 'top': 2818574.99417558}}, {'type': 'Feature', 'geometry': {'type': 'LineString', 'coordinates': [[81.85717869263566, 25.481523682669476], [81.99446091003021, 25.480657368095365]]}, 'id': '000000000000000001bb', 'properties': {'bottom': 2818544.99417558, 'id': 486, 'left': 586159.4528034591, 'right': 702828.3092464125, 'top': 2818544.99417558}}, {'type': 'Feature', 'geometry': {'type': 'LineString', 'coordinates': [[81.85717675377381, 25.481250274478036], [81.99446359849067, 25.480383937035814]]}, 'id': '000000000000000001bc', 'properties': {'bottom': 2818514.99417558, 'id': 487, 'left': 586159.4528034591, 'right': 702828.3092464125, 'top': 2818514.99417558}}, {'type': 'Feature', 'geometry': {'type': 'LineString', 'coordinates': [[81.85717484672408, 25.480981348378016], [81.99446632383425, 25.480114987894495]]}, 'id': '000000000000000001bd', 'properties': {'bottom': 2818484.99417558, 'id': 488, 'left': 586159.4528034591, 'right': 702828.3092464125, 'top': 2818484.99417558}}, {'type': 'Feature', 'geometry': {'type': 'LineString', 'coordinates': [[81.85717290791814, 25.480707940166084], [81.99447395001921, 25.479841523346675]]}, 'id': '000000000000000001be', 'properties': {'bottom': 2818454.99417558, 'id': 489, 'left': 586159.4528034591, 'right': 702828.3092464125, 'top': 2818454.99417558}}, {'type': 'Feature', 'geometry': {'type': 'LineString', 'coordinates': [[81.85717100092339, 25.480439014045917], [81.99447667537146, 25.47957257418664]]}, 'id': '000000000000000001bf', 'properties': {'bottom': 2818424.9941755803, 'id': 490, 'left': 586159.4528034591, 'right': 702828.3092464125, 'top': 2818424.9941755803}}, {'type': 'Feature', 'geometry': {'type': 'LineString', 'coordinates': [[81.85716906217336, 25.480165605813504], [81.99447936386147, 25.47929914308877]]}, 'id': '000000000000000001c0', 'properties': {'bottom': 2818394.99417558, 'id': 491, 'left': 586159.4528034591, 'right': 702828.3092464125, 'top': 2818394.99417558}}, {'type': 'Feature', 'geometry': {'type': 'LineString', 'coordinates': [[81.8571671552336, 25.479896679673182], [81.99448208923341, 25.479030193909782]]}, 'id': '000000000000000001c1', 'properties': {'bottom': 2818364.99417558, 'id': 492, 'left': 586159.4528034591, 'right': 702828.3092464125, 'top': 2818364.99417558}}, {'type': 'Feature', 'geometry': {'type': 'LineString', 'coordinates': [[81.85716524832111, 25.479627753522884], [81.994484814615, 25.478761244721394]]}, 'id': '000000000000000001c2', 'properties': {'bottom': 2818334.99417558, 'id': 493, 'left': 586159.4528034591, 'right': 702828.3092464125, 'top': 2818334.99417558}}, {'type': 'Feature', 'geometry': {'type': 'LineString', 'coordinates': [[81.85716330965468, 25.479354345259832], [81.99448750313539, 25.478487813594704]]}, 'id': '000000000000000001c3', 'properties': {'bottom': 2818304.99417558, 'id': 494, 'left': 586159.4528034591, 'right': 702828.3092464125, 'top': 2818304.99417558}}, {'type': 'Feature', 'geometry': {'type': 'LineString', 'coordinates': [[81.85716140279717, 25.47908541908939], [81.9944852908988, 25.47821889785493]]}, 'id': '000000000000000001c4', 'properties': {'bottom': 2818274.99417558, 'id': 495, 'left': 586159.4528034591, 'right': 702828.3092464125, 'top': 2818274.99417558}}, {'type': 'Feature', 'geometry': {'type': 'LineString', 'coordinates': [[81.85715946418667, 25.478812010805857], [81.99448797945071, 25.477945466708714]]}, 'id': '000000000000000001c5', 'properties': {'bottom': 2818244.99417558, 'id': 496, 'left': 586159.4528034591, 'right': 702828.3092464125, 'top': 2818244.99417558}}, {'type': 'Feature', 'geometry': {'type': 'LineString', 'coordinates': [[81.85715755738414, 25.478543084615254], [81.99448576726694, 25.477676550949102]]}, 'id': '000000000000000001c6', 'properties': {'bottom': 2818214.99417558, 'id': 497, 'left': 586159.4528034591, 'right': 702828.3092464125, 'top': 2818214.99417558}}, {'type': 'Feature', 'geometry': {'type': 'LineString', 'coordinates': [[81.85715561882952, 25.47826967631124], [81.99448351824586, 25.47740315324987]]}, 'id': '000000000000000001c7', 'properties': {'bottom': 2818184.9941755803, 'id': 498, 'left': 586159.4528034591, 'right': 702828.3092464125, 'top': 2818184.9941755803}}, {'type': 'Feature', 'geometry': {'type': 'LineString', 'coordinates': [[81.85715371208198, 25.4780007501005], [81.99448130612586, 25.47713423747003]]}, 'id': '000000000000000001c8', 'properties': {'bottom': 2818154.99417558, 'id': 499, 'left': 586159.4528034591, 'right': 702828.3092464125, 'top': 2818154.99417558}}, {'type': 'Feature', 'geometry': {'type': 'LineString', 'coordinates': [[81.85715177358327, 25.477727341776], [81.99447905716963, 25.47686083975023]]}, 'id': '000000000000000001c9', 'properties': {'bottom': 2818124.99417558, 'id': 500, 'left': 586159.4528034591, 'right': 702828.3092464125, 'top': 2818124.99417558}}, {'type': 'Feature', 'geometry': {'type': 'LineString', 'coordinates': [[81.85714986689071, 25.47745841554511], [81.99447684511343, 25.47659192395014]]}, 'id': '000000000000000001ca', 'properties': {'bottom': 2818094.99417558, 'id': 501, 'left': 586159.4528034591, 'right': 702828.3092464125, 'top': 2818094.99417558}}, {'type': 'Feature', 'geometry': {'type': 'LineString', 'coordinates': [[81.85714796022542, 25.47718948930423], [81.99447463308886, 25.476323008140017]]}, 'id': '000000000000000001cb', 'properties': {'bottom': 2818064.99417558, 'id': 502, 'left': 586159.4528034591, 'right': 702828.3092464125, 'top': 2818064.99417558}}, {'type': 'Feature', 'geometry': {'type': 'LineString', 'coordinates': [[81.85714602181032, 25.4769160809491], [81.99447238422962, 25.476049610389442]]}, 'id': '000000000000000001cc', 'properties': {'bottom': 2818034.99417558, 'id': 503, 'left': 586159.4528034591, 'right': 702828.3092464125, 'top': 2818034.99417558}}, {'type': 'Feature', 'geometry': {'type': 'LineString', 'coordinates': [[81.85714411520001, 25.47664715468807], [81.99447017226883, 25.475780694559084]]}, 'id': '000000000000000001cd', 'properties': {'bottom': 2818004.99417558, 'id': 504, 'left': 586159.4528034591, 'right': 702828.3092464125, 'top': 2818004.99417558}}, {'type': 'Feature', 'geometry': {'type': 'LineString', 'coordinates': [[81.85714217684081, 25.476373746312465], [81.99446792347445, 25.475507296787935]]}, 'id': '000000000000000001ce', 'properties': {'bottom': 2817974.99417558, 'id': 505, 'left': 586159.4528034591, 'right': 702828.3092464125, 'top': 2817974.99417558}}, {'type': 'Feature', 'geometry': {'type': 'LineString', 'coordinates': [[81.85714027028547, 25.47610482003129], [81.99446571157745, 25.475238380937334]]}, 'id': '000000000000000001cf', 'properties': {'bottom': 2817944.9941755803, 'id': 506, 'left': 586159.4528034591, 'right': 702828.3092464125, 'top': 2817944.9941755803}}, {'type': 'Feature', 'geometry': {'type': 'LineString', 'coordinates': [[81.85713833198217, 25.475831411635188], [81.9944634628479, 25.474964983145615]]}, 'id': '000000000000000001d0', 'properties': {'bottom': 2817914.99417558, 'id': 507, 'left': 586159.4528034591, 'right': 702828.3092464125, 'top': 2817914.99417558}}, {'type': 'Feature', 'geometry': {'type': 'LineString', 'coordinates': [[81.8571364254818, 25.475562485333885], [81.99446125101467, 25.47469606727479]]}, 'id': '000000000000000001d1', 'properties': {'bottom': 2817884.99417558, 'id': 508, 'left': 586159.4528034591, 'right': 702828.3092464125, 'top': 2817884.99417558}}, {'type': 'Feature', 'geometry': {'type': 'LineString', 'coordinates': [[81.85713451900871, 25.475293559022575], [81.99445903921308, 25.474427151393918]]}, 'id': '000000000000000001d2', 'properties': {'bottom': 2817854.99417558, 'id': 509, 'left': 586159.4528034591, 'right': 702828.3092464125, 'top': 2817854.99417558}}, {'type': 'Feature', 'geometry': {'type': 'LineString', 'coordinates': [[81.85713258078901, 25.475020150595842], [81.99445679058054, 25.47415375357143]]}, 'id': '000000000000000001d3', 'properties': {'bottom': 2817824.99417558, 'id': 510, 'left': 586159.4528034591, 'right': 702828.3092464125, 'top': 2817824.99417558}}, {'type': 'Feature', 'geometry': {'type': 'LineString', 'coordinates': [[81.8571306743709, 25.474751224264406], [81.99445457884272, 25.47388483767033]]}, 'id': '000000000000000001d4', 'properties': {'bottom': 2817794.99417558, 'id': 511, 'left': 586159.4528034591, 'right': 702828.3092464125, 'top': 2817794.99417558}}, {'type': 'Feature', 'geometry': {'type': 'LineString', 'coordinates': [[81.85712873620709, 25.474477815817192], [81.99445233027502, 25.473611439827263]]}, 'id': '000000000000000001d5', 'properties': {'bottom': 2817764.99417558, 'id': 512, 'left': 586159.4528034591, 'right': 702828.3092464125, 'top': 2817764.99417558}}, {'type': 'Feature', 'geometry': {'type': 'LineString', 'coordinates': [[81.85712682984395, 25.474208889465604], [81.994450118601, 25.47334252390593]]}, 'id': '000000000000000001d6', 'properties': {'bottom': 2817734.99417558, 'id': 513, 'left': 586159.4528034591, 'right': 702828.3092464125, 'top': 2817734.99417558}}, {'type': 'Feature', 'geometry': {'type': 'LineString', 'coordinates': [[81.85712489173604, 25.473935480997913], [81.99444787009813, 25.473069126042287]]}, 'id': '000000000000000001d7', 'properties': {'bottom': 2817704.9941755803, 'id': 514, 'left': 586159.4528034591, 'right': 702828.3092464125, 'top': 2817704.9941755803}}, {'type': 'Feature', 'geometry': {'type': 'LineString', 'coordinates': [[81.85712298542788, 25.473666554626178], [81.99444565848786, 25.472800210100715]]}, 'id': '000000000000000001d8', 'properties': {'bottom': 2817674.99417558, 'id': 515, 'left': 586159.4528034591, 'right': 702828.3092464125, 'top': 2817674.99417558}}, {'type': 'Feature', 'geometry': {'type': 'LineString', 'coordinates': [[81.85712104737587, 25.473393146138], [81.99444341004985, 25.472526812216504]]}, 'id': '000000000000000001d9', 'properties': {'bottom': 2817644.99417558, 'id': 516, 'left': 586159.4528034591, 'right': 702828.3092464125, 'top': 2817644.99417558}}, {'type': 'Feature', 'geometry': {'type': 'LineString', 'coordinates': [[81.85711914112265, 25.473124219746133], [81.99444119850337, 25.472257896254703]]}, 'id': '000000000000000001da', 'properties': {'bottom': 2817614.99417558, 'id': 517, 'left': 586159.4528034591, 'right': 702828.3092464125, 'top': 2817614.99417558}}, {'type': 'Feature', 'geometry': {'type': 'LineString', 'coordinates': [[81.85711723489672, 25.472855293344264], [81.9944389869885, 25.47198898028287]]}, 'id': '000000000000000001db', 'properties': {'bottom': 2817584.99417558, 'id': 518, 'left': 586159.4528034591, 'right': 702828.3092464125, 'top': 2817584.99417558}}, {'type': 'Feature', 'geometry': {'type': 'LineString', 'coordinates': [[81.8571152969283, 25.47258188482546], [81.99443673864748, 25.471715582367885]]}, 'id': '000000000000000001dc', 'properties': {'bottom': 2817554.99417558, 'id': 519, 'left': 586159.4528034591, 'right': 702828.3092464125, 'top': 2817554.99417558}}, {'type': 'Feature', 'geometry': {'type': 'LineString', 'coordinates': [[81.85711339075735, 25.472312958403457], [81.99442958983498, 25.471446699833237]]}, 'id': '000000000000000001dd', 'properties': {'bottom': 2817524.99417558, 'id': 520, 'left': 586159.4528034591, 'right': 702828.3092464125, 'top': 2817524.99417558}}, {'type': 'Feature', 'geometry': {'type': 'LineString', 'coordinates': [[81.8571114528448, 25.472039549864178], [81.99442734156996, 25.471173301897274]]}, 'id': '000000000000000001de', 'properties': {'bottom': 2817494.99417558, 'id': 521, 'left': 586159.4528034591, 'right': 702828.3092464125, 'top': 2817494.99417558}}, {'type': 'Feature', 'geometry': {'type': 'LineString', 'coordinates': [[81.85710954672884, 25.471770623422024], [81.99442019285434, 25.470904419341007]]}, 'id': '000000000000000001df', 'properties': {'bottom': 2817464.9941755803, 'id': 522, 'left': 586159.4528034591, 'right': 702828.3092464125, 'top': 2817464.9941755803}}, {'type': 'Feature', 'geometry': {'type': 'LineString', 'coordinates': [[81.85710760887217, 25.471497214862268], [81.99441300733716, 25.47063105483992]]}, 'id': '000000000000000001e0', 'properties': {'bottom': 2817434.99417558, 'id': 523, 'left': 586159.4528034591, 'right': 702828.3092464125, 'top': 2817434.99417558}}, {'type': 'Feature', 'geometry': {'type': 'LineString', 'coordinates': [[81.85710570281115, 25.471228288399974], [81.99440585872938, 25.470362172261463]]}, 'id': '000000000000000001e1', 'properties': {'bottom': 2817404.99417558, 'id': 524, 'left': 586159.4528034591, 'right': 702828.3092464125, 'top': 2817404.99417558}}, {'type': 'Feature', 'geometry': {'type': 'LineString', 'coordinates': [[81.85710379677738, 25.470959361927694], [81.99439871017513, 25.470093289672008]]}, 'id': '000000000000000001e2', 'properties': {'bottom': 2817374.99417558, 'id': 525, 'left': 586159.4528034591, 'right': 702828.3092464125, 'top': 2817374.99417558}}, {'type': 'Feature', 'geometry': {'type': 'LineString', 'coordinates': [[81.85710185900433, 25.470685953337302], [81.99439152482151, 25.469819925137216]]}, 'id': '000000000000000001e3', 'properties': {'bottom': 2817344.99417558, 'id': 526, 'left': 586159.4528034591, 'right': 702828.3092464125, 'top': 2817344.99417558}}, {'type': 'Feature', 'geometry': {'type': 'LineString', 'coordinates': [[81.85709995302554, 25.470417026844885], [81.994379439091, 25.469551075978988]]}, 'id': '000000000000000001e4', 'properties': {'bottom': 2817314.99417558, 'id': 527, 'left': 586159.4528034591, 'right': 702828.3092464125, 'top': 2817314.99417558}}, {'type': 'Feature', 'geometry': {'type': 'LineString', 'coordinates': [[81.85709801530838, 25.470143618234015], [81.99437225385778, 25.469277711421082]]}, 'id': '000000000000000001e5', 'properties': {'bottom': 2817284.99417558, 'id': 528, 'left': 586159.4528034591, 'right': 702828.3092464125, 'top': 2817284.99417558}}, {'type': 'Feature', 'geometry': {'type': 'LineString', 'coordinates': [[81.85709610938454, 25.469874691721454], [81.99436510553018, 25.469008828786695]]}, 'id': '000000000000000001e6', 'properties': {'bottom': 2817254.99417558, 'id': 529, 'left': 586159.4528034591, 'right': 702828.3092464125, 'top': 2817254.99417558}}, {'type': 'Feature', 'geometry': {'type': 'LineString', 'coordinates': [[81.85709417172328, 25.46960128309011], [81.99435298315535, 25.468735497657793]]}, 'id': '000000000000000001e7', 'properties': {'bottom': 2817224.9941755803, 'id': 530, 'left': 586159.4528034591, 'right': 702828.3092464125, 'top': 2817224.9941755803}}, {'type': 'Feature', 'geometry': {'type': 'LineString', 'coordinates': [[81.8570922658544, 25.469332356557405], [81.99433596046676, 25.468466681902058]]}, 'id': '000000000000000001e8', 'properties': {'bottom': 2817194.99417558, 'id': 531, 'left': 586159.4528034591, 'right': 702828.3092464125, 'top': 2817194.99417558}}, {'type': 'Feature', 'geometry': {'type': 'LineString', 'coordinates': [[81.857090328249, 25.46905894790558], [81.9943238382567, 25.468193350747246]]}, 'id': '000000000000000001e9', 'properties': {'bottom': 2817164.99417558, 'id': 532, 'left': 586159.4528034591, 'right': 702828.3092464125, 'top': 2817164.99417558}}, {'type': 'Feature', 'geometry': {'type': 'LineString', 'coordinates': [[81.85708842243511, 25.46879002135274], [81.99430681575299, 25.467924534964354]]}, 'id': '000000000000000001ea', 'properties': {'bottom': 2817134.99417558, 'id': 533, 'left': 586159.4528034591, 'right': 702828.3092464125, 'top': 2817134.99417558}}, {'type': 'Feature', 'geometry': {'type': 'LineString', 'coordinates': [[81.85708651664847, 25.468521094789907], [81.99429473055353, 25.467655685719432]]}, 'id': '000000000000000001eb', 'properties': {'bottom': 2817104.99417558, 'id': 534, 'left': 586159.4528034591, 'right': 702828.3092464125, 'top': 2817104.99417558}}, {'type': 'Feature', 'geometry': {'type': 'LineString', 'coordinates': [[81.85708457912665, 25.468247686107453], [81.99428260858464, 25.46738235452623]]}, 'id': '000000000000000001ec', 'properties': {'bottom': 2817074.99417558, 'id': 535, 'left': 586159.4528034591, 'right': 702828.3092464125, 'top': 2817074.99417558}}, {'type': 'Feature', 'geometry': {'type': 'LineString', 'coordinates': [[81.85708267339497, 25.467978759524485], [81.99426558635223, 25.467113538703124]]}, 'id': '000000000000000001ed', 'properties': {'bottom': 2817044.99417558, 'id': 536, 'left': 586159.4528034591, 'right': 702828.3092464125, 'top': 2817044.99417558}}, {'type': 'Feature', 'geometry': {'type': 'LineString', 'coordinates': [[81.85708073592905, 25.467705350821554], [81.9942435902008, 25.466840274375254]]}, 'id': '000000000000000001ee', 'properties': {'bottom': 2817014.99417558, 'id': 537, 'left': 586159.4528034591, 'right': 702828.3092464125, 'top': 2817014.99417558}}, {'type': 'Feature', 'geometry': {'type': 'LineString', 'coordinates': [[81.85707883025233, 25.467436424218437], [81.99422656817516, 25.466571458523166]]}, 'id': '000000000000000001ef', 'properties': {'bottom': 2816984.9941755803, 'id': 538, 'left': 586159.4528034591, 'right': 702828.3092464125, 'top': 2816984.9941755803}}, {'type': 'Feature', 'geometry': {'type': 'LineString', 'coordinates': [[81.85707689284227, 25.467163015495043], [81.9942045722549, 25.46629819416397]]}, 'id': '000000000000000001f0', 'properties': {'bottom': 2816954.99417558, 'id': 539, 'left': 586159.4528034591, 'right': 702828.3092464125, 'top': 2816954.99417558}}, {'type': 'Feature', 'geometry': {'type': 'LineString', 'coordinates': [[81.85707498722051, 25.46689408887179], [81.99418261329537, 25.4660294117254]]}, 'id': '000000000000000001f1', 'properties': {'bottom': 2816924.99417558, 'id': 540, 'left': 586159.4528034591, 'right': 702828.3092464125, 'top': 2816924.99417558}}, {'type': 'Feature', 'geometry': {'type': 'LineString', 'coordinates': [[81.85707308162601, 25.466625162238554], [81.99416559158479, 25.465760595829508]]}, 'id': '000000000000000001f2', 'properties': {'bottom': 2816894.99417558, 'id': 541, 'left': 586159.4528034591, 'right': 702828.3092464125, 'top': 2816894.99417558}}, {'type': 'Feature', 'geometry': {'type': 'LineString', 'coordinates': [[81.85707114429954, 25.466351753484524], [81.9941435960162, 25.46548733142287]]}, 'id': '000000000000000001f3', 'properties': {'bottom': 2816864.99417558, 'id': 542, 'left': 586159.4528034591, 'right': 702828.3092464125, 'top': 2816864.99417558}}]\n"
     ]
    },
    {
     "ename": "EEException",
     "evalue": "Invalid GeoJSON geometry.",
     "output_type": "error",
     "traceback": [
      "\u001b[1;31m---------------------------------------------------------------------------\u001b[0m",
      "\u001b[1;31mEEException\u001b[0m                               Traceback (most recent call last)",
      "\u001b[1;32mc:\\Users\\warne\\Desktop\\Projects\\naalas_2\\naala_datasetbuilder_code.ipynb Cell 73\u001b[0m line \u001b[0;36m3\n\u001b[0;32m     <a href='vscode-notebook-cell:/c%3A/Users/warne/Desktop/Projects/naalas_2/naala_datasetbuilder_code.ipynb#Y131sZmlsZQ%3D%3D?line=27'>28</a>\u001b[0m \u001b[39m# Check if list_features_assets is a list\u001b[39;00m\n\u001b[0;32m     <a href='vscode-notebook-cell:/c%3A/Users/warne/Desktop/Projects/naalas_2/naala_datasetbuilder_code.ipynb#Y131sZmlsZQ%3D%3D?line=28'>29</a>\u001b[0m \u001b[39mif\u001b[39;00m \u001b[39misinstance\u001b[39m(list_features_assets, \u001b[39mlist\u001b[39m):\n\u001b[1;32m---> <a href='vscode-notebook-cell:/c%3A/Users/warne/Desktop/Projects/naalas_2/naala_datasetbuilder_code.ipynb#Y131sZmlsZQ%3D%3D?line=29'>30</a>\u001b[0m     ee_dataset_builder\u001b[39m.\u001b[39;49msamples_csv_export(\n\u001b[0;32m     <a href='vscode-notebook-cell:/c%3A/Users/warne/Desktop/Projects/naalas_2/naala_datasetbuilder_code.ipynb#Y131sZmlsZQ%3D%3D?line=30'>31</a>\u001b[0m         shp_asset_path\u001b[39m=\u001b[39;49mshp_asset_path, \n\u001b[0;32m     <a href='vscode-notebook-cell:/c%3A/Users/warne/Desktop/Projects/naalas_2/naala_datasetbuilder_code.ipynb#Y131sZmlsZQ%3D%3D?line=31'>32</a>\u001b[0m         list_features_assets\u001b[39m=\u001b[39;49mlist_features_assets,\n\u001b[0;32m     <a href='vscode-notebook-cell:/c%3A/Users/warne/Desktop/Projects/naalas_2/naala_datasetbuilder_code.ipynb#Y131sZmlsZQ%3D%3D?line=32'>33</a>\u001b[0m         name_gcp_bucket\u001b[39m=\u001b[39;49mgcp_bucket, \n\u001b[0;32m     <a href='vscode-notebook-cell:/c%3A/Users/warne/Desktop/Projects/naalas_2/naala_datasetbuilder_code.ipynb#Y131sZmlsZQ%3D%3D?line=33'>34</a>\u001b[0m         folder_in_gcp_bucket\u001b[39m=\u001b[39;49mgcp_folder_name \u001b[39m+\u001b[39;49m \u001b[39m'\u001b[39;49m\u001b[39m/\u001b[39;49m\u001b[39m'\u001b[39;49m \u001b[39m+\u001b[39;49m samples_folder_name, \n\u001b[0;32m     <a href='vscode-notebook-cell:/c%3A/Users/warne/Desktop/Projects/naalas_2/naala_datasetbuilder_code.ipynb#Y131sZmlsZQ%3D%3D?line=34'>35</a>\u001b[0m         scale\u001b[39m=\u001b[39;49mscale, \n\u001b[0;32m     <a href='vscode-notebook-cell:/c%3A/Users/warne/Desktop/Projects/naalas_2/naala_datasetbuilder_code.ipynb#Y131sZmlsZQ%3D%3D?line=35'>36</a>\u001b[0m         geometries\u001b[39m=\u001b[39;49m\u001b[39mTrue\u001b[39;49;00m,\n\u001b[0;32m     <a href='vscode-notebook-cell:/c%3A/Users/warne/Desktop/Projects/naalas_2/naala_datasetbuilder_code.ipynb#Y131sZmlsZQ%3D%3D?line=36'>37</a>\u001b[0m         isStratifiedSampling\u001b[39m=\u001b[39;49m\u001b[39mTrue\u001b[39;49;00m, \n\u001b[0;32m     <a href='vscode-notebook-cell:/c%3A/Users/warne/Desktop/Projects/naalas_2/naala_datasetbuilder_code.ipynb#Y131sZmlsZQ%3D%3D?line=37'>38</a>\u001b[0m         numPoints\u001b[39m=\u001b[39;49mnumPoints, \n\u001b[0;32m     <a href='vscode-notebook-cell:/c%3A/Users/warne/Desktop/Projects/naalas_2/naala_datasetbuilder_code.ipynb#Y131sZmlsZQ%3D%3D?line=38'>39</a>\u001b[0m         classValues\u001b[39m=\u001b[39;49mclassValues,\n\u001b[0;32m     <a href='vscode-notebook-cell:/c%3A/Users/warne/Desktop/Projects/naalas_2/naala_datasetbuilder_code.ipynb#Y131sZmlsZQ%3D%3D?line=39'>40</a>\u001b[0m         classBand\u001b[39m=\u001b[39;49mclassBand, \n\u001b[0;32m     <a href='vscode-notebook-cell:/c%3A/Users/warne/Desktop/Projects/naalas_2/naala_datasetbuilder_code.ipynb#Y131sZmlsZQ%3D%3D?line=40'>41</a>\u001b[0m         classPoints\u001b[39m=\u001b[39;49mclassPoints,\n\u001b[0;32m     <a href='vscode-notebook-cell:/c%3A/Users/warne/Desktop/Projects/naalas_2/naala_datasetbuilder_code.ipynb#Y131sZmlsZQ%3D%3D?line=41'>42</a>\u001b[0m         batch_size\u001b[39m=\u001b[39;49mbatch_size,\n\u001b[0;32m     <a href='vscode-notebook-cell:/c%3A/Users/warne/Desktop/Projects/naalas_2/naala_datasetbuilder_code.ipynb#Y131sZmlsZQ%3D%3D?line=42'>43</a>\u001b[0m         batch_number\u001b[39m=\u001b[39;49mbatch_number,\n\u001b[0;32m     <a href='vscode-notebook-cell:/c%3A/Users/warne/Desktop/Projects/naalas_2/naala_datasetbuilder_code.ipynb#Y131sZmlsZQ%3D%3D?line=43'>44</a>\u001b[0m         total_features\u001b[39m=\u001b[39;49mtotal_features\n\u001b[0;32m     <a href='vscode-notebook-cell:/c%3A/Users/warne/Desktop/Projects/naalas_2/naala_datasetbuilder_code.ipynb#Y131sZmlsZQ%3D%3D?line=44'>45</a>\u001b[0m     )\n\u001b[0;32m     <a href='vscode-notebook-cell:/c%3A/Users/warne/Desktop/Projects/naalas_2/naala_datasetbuilder_code.ipynb#Y131sZmlsZQ%3D%3D?line=45'>46</a>\u001b[0m \u001b[39melse\u001b[39;00m:\n\u001b[0;32m     <a href='vscode-notebook-cell:/c%3A/Users/warne/Desktop/Projects/naalas_2/naala_datasetbuilder_code.ipynb#Y131sZmlsZQ%3D%3D?line=46'>47</a>\u001b[0m     \u001b[39mprint\u001b[39m(\u001b[39m\"\u001b[39m\u001b[39mFailed to load features for batch\u001b[39m\u001b[39m\"\u001b[39m, batch_number)\n",
      "File \u001b[1;32mc:\\Users\\warne\\Desktop\\Projects\\naalas_2\\dataset_builder.py:555\u001b[0m, in \u001b[0;36mEEDatasetBuilder.samples_csv_export\u001b[1;34m(self, list_features_assets, shp_asset_path, name_gcp_bucket, folder_in_gcp_bucket, numPixels, scale, factor, seed, projection, tileScale, geometries, dropNulls, isStratifiedSampling, numPoints, classBand, classPoints, classValues, total_features, batch_size, batch_number)\u001b[0m\n\u001b[0;32m    553\u001b[0m \u001b[39m# Looping through the grids in the current batch\u001b[39;00m\n\u001b[0;32m    554\u001b[0m \u001b[39mfor\u001b[39;00m feature_asset \u001b[39min\u001b[39;00m \u001b[39mrange\u001b[39m(list_features_assets):\n\u001b[1;32m--> 555\u001b[0m     feature \u001b[39m=\u001b[39m ee\u001b[39m.\u001b[39;49mFeature(feature_asset)\n\u001b[0;32m    556\u001b[0m     feature_geometry \u001b[39m=\u001b[39m feature\u001b[39m.\u001b[39mgeometry()\n\u001b[0;32m    558\u001b[0m     \u001b[39mif\u001b[39;00m isStratifiedSampling:\n",
      "File \u001b[1;32mc:\\Users\\warne\\anaconda3\\envs\\gee\\lib\\site-packages\\ee\\computedobject.py:31\u001b[0m, in \u001b[0;36mComputedObjectMetaclass.__call__\u001b[1;34m(cls, *args, **kwargs)\u001b[0m\n\u001b[0;32m     29\u001b[0m   \u001b[39mreturn\u001b[39;00m args[\u001b[39m0\u001b[39m]\n\u001b[0;32m     30\u001b[0m \u001b[39melse\u001b[39;00m:\n\u001b[1;32m---> 31\u001b[0m   \u001b[39mreturn\u001b[39;00m \u001b[39mtype\u001b[39m\u001b[39m.\u001b[39m\u001b[39m__call__\u001b[39m(\u001b[39mcls\u001b[39m, \u001b[39m*\u001b[39margs, \u001b[39m*\u001b[39m\u001b[39m*\u001b[39mkwargs)\n",
      "File \u001b[1;32mc:\\Users\\warne\\anaconda3\\envs\\gee\\lib\\site-packages\\ee\\feature.py:80\u001b[0m, in \u001b[0;36mFeature.__init__\u001b[1;34m(self, geom, opt_properties)\u001b[0m\n\u001b[0;32m     72\u001b[0m   \u001b[39msuper\u001b[39m(Feature, \u001b[39mself\u001b[39m)\u001b[39m.\u001b[39m\u001b[39m__init__\u001b[39m(feature_constructor, {\n\u001b[0;32m     73\u001b[0m       \u001b[39m'\u001b[39m\u001b[39mgeometry\u001b[39m\u001b[39m'\u001b[39m: geometry\u001b[39m.\u001b[39mGeometry(geom\u001b[39m.\u001b[39mget(\u001b[39m'\u001b[39m\u001b[39mgeometry\u001b[39m\u001b[39m'\u001b[39m, \u001b[39mNone\u001b[39;00m)),\n\u001b[0;32m     74\u001b[0m       \u001b[39m'\u001b[39m\u001b[39mmetadata\u001b[39m\u001b[39m'\u001b[39m: properties\n\u001b[0;32m     75\u001b[0m   })\n\u001b[0;32m     76\u001b[0m \u001b[39melse\u001b[39;00m:\n\u001b[0;32m     77\u001b[0m   \u001b[39m# Try to convert the geometry arg to a Geometry, in the hopes of it\u001b[39;00m\n\u001b[0;32m     78\u001b[0m   \u001b[39m# turning out to be GeoJSON.\u001b[39;00m\n\u001b[0;32m     79\u001b[0m   \u001b[39msuper\u001b[39m(Feature, \u001b[39mself\u001b[39m)\u001b[39m.\u001b[39m\u001b[39m__init__\u001b[39m(feature_constructor, {\n\u001b[1;32m---> 80\u001b[0m       \u001b[39m'\u001b[39m\u001b[39mgeometry\u001b[39m\u001b[39m'\u001b[39m: geometry\u001b[39m.\u001b[39;49mGeometry(geom),\n\u001b[0;32m     81\u001b[0m       \u001b[39m'\u001b[39m\u001b[39mmetadata\u001b[39m\u001b[39m'\u001b[39m: opt_properties \u001b[39mor\u001b[39;00m \u001b[39mNone\u001b[39;00m\n\u001b[0;32m     82\u001b[0m   })\n",
      "File \u001b[1;32mc:\\Users\\warne\\anaconda3\\envs\\gee\\lib\\site-packages\\ee\\computedobject.py:31\u001b[0m, in \u001b[0;36mComputedObjectMetaclass.__call__\u001b[1;34m(cls, *args, **kwargs)\u001b[0m\n\u001b[0;32m     29\u001b[0m   \u001b[39mreturn\u001b[39;00m args[\u001b[39m0\u001b[39m]\n\u001b[0;32m     30\u001b[0m \u001b[39melse\u001b[39;00m:\n\u001b[1;32m---> 31\u001b[0m   \u001b[39mreturn\u001b[39;00m \u001b[39mtype\u001b[39m\u001b[39m.\u001b[39m\u001b[39m__call__\u001b[39m(\u001b[39mcls\u001b[39m, \u001b[39m*\u001b[39margs, \u001b[39m*\u001b[39m\u001b[39m*\u001b[39mkwargs)\n",
      "File \u001b[1;32mc:\\Users\\warne\\anaconda3\\envs\\gee\\lib\\site-packages\\ee\\geometry.py:86\u001b[0m, in \u001b[0;36mGeometry.__init__\u001b[1;34m(self, geo_json, opt_proj, opt_geodesic, opt_evenOdd)\u001b[0m\n\u001b[0;32m     83\u001b[0m   geo_json \u001b[39m=\u001b[39m geo_json\u001b[39m.\u001b[39mencode()\n\u001b[0;32m     85\u001b[0m \u001b[39mif\u001b[39;00m \u001b[39mnot\u001b[39;00m Geometry\u001b[39m.\u001b[39m_isValidGeometry(geo_json):\n\u001b[1;32m---> 86\u001b[0m   \u001b[39mraise\u001b[39;00m ee_exception\u001b[39m.\u001b[39mEEException(\u001b[39m'\u001b[39m\u001b[39mInvalid GeoJSON geometry.\u001b[39m\u001b[39m'\u001b[39m)\n\u001b[0;32m     88\u001b[0m \u001b[39msuper\u001b[39m(Geometry, \u001b[39mself\u001b[39m)\u001b[39m.\u001b[39m\u001b[39m__init__\u001b[39m(\u001b[39mNone\u001b[39;00m, \u001b[39mNone\u001b[39;00m)\n\u001b[0;32m     90\u001b[0m \u001b[39m# The type of the geometry.\u001b[39;00m\n",
      "\u001b[1;31mEEException\u001b[0m: Invalid GeoJSON geometry."
     ]
    }
   ],
   "source": [
    "samples_folder_name = f'naala_mapping_gridded_150^2_classPoints_4000_1000'\n",
    "\n",
    "\n",
    "\n",
    "# Assuming these variables are already defined:\n",
    "# total_features, total_batches, batch_size, shp_asset_path, gcp_bucket, gcp_folder_name, scale, \n",
    "# geometries, isStratifiedSampling, numPoints, classValues, classBand, classPoints, samples_folder_name\n",
    "\n",
    "print(\"Total features in asset:\", total_features)\n",
    "print(\"Total batches:\", total_batches)\n",
    "\n",
    "# Loop through each batch and process\n",
    "for batch_number in range(total_batches):\n",
    "    start_index = batch_number * batch_size\n",
    "    end_index = min((batch_number + 1) * batch_size, total_features)\n",
    "    print(f\"Loading batch {batch_number}: start_index = {start_index}, end_index = {end_index}\")\n",
    "\n",
    "    # Load the batch of features\n",
    "    nb_features, list_features_assets = ee_dataset_builder.load_ee_asset_shapefile(\n",
    "        shp_asset_path, \n",
    "        start_index=start_index, \n",
    "        end_index=end_index\n",
    "    )\n",
    "    if list_features_assets is None:\n",
    "        print(\"Failed to load features for batch\", batch_number)\n",
    "        continue\n",
    "    \n",
    "    # Check if list_features_assets is a list\n",
    "    if isinstance(list_features_assets, list):\n",
    "        ee_dataset_builder.samples_csv_export(\n",
    "            shp_asset_path=shp_asset_path, \n",
    "            list_features_assets=list_features_assets,\n",
    "            name_gcp_bucket=gcp_bucket, \n",
    "            folder_in_gcp_bucket=gcp_folder_name + '/' + samples_folder_name, \n",
    "            scale=scale, \n",
    "            geometries=True,\n",
    "            isStratifiedSampling=True, \n",
    "            numPoints=numPoints, \n",
    "            classValues=classValues,\n",
    "            classBand=classBand, \n",
    "            classPoints=classPoints,\n",
    "            batch_size=batch_size,\n",
    "            batch_number=batch_number,\n",
    "            total_features=total_features\n",
    "        )\n",
    "    else:\n",
    "        print(\"Failed to load features for batch\", batch_number)\n"
   ]
  },
  {
   "cell_type": "code",
   "execution_count": null,
   "metadata": {},
   "outputs": [
    {
     "name": "stdout",
     "output_type": "stream",
     "text": [
      "Number of features loaded: 6007\n",
      "Features loaded successfully\n"
     ]
    }
   ],
   "source": [
    "# Test loading a small batch of features\n",
    "nb_features, list_features_assets = ee_dataset_builder.load_ee_asset_shapefile(\n",
    "    shp_asset_path, \n",
    "    start_index=0, \n",
    "    end_index=10\n",
    ")\n",
    "\n",
    "print(\"Number of features loaded:\", nb_features)\n",
    "if list_features_assets:\n",
    "    print(\"Features loaded successfully\")\n",
    "else:\n",
    "    print(\"Failed to load features\")"
   ]
  },
  {
   "cell_type": "code",
   "execution_count": null,
   "metadata": {},
   "outputs": [
    {
     "ename": "AttributeError",
     "evalue": "'EEDatasetBuilder' object has no attribute 'chunk_raster_data'",
     "output_type": "error",
     "traceback": [
      "\u001b[1;31m---------------------------------------------------------------------------\u001b[0m",
      "\u001b[1;31mAttributeError\u001b[0m                            Traceback (most recent call last)",
      "\u001b[1;32mc:\\Users\\warne\\Desktop\\Projects\\naalas_2\\naala_datasetbuilder_code.ipynb Cell 73\u001b[0m line \u001b[0;36m2\n\u001b[0;32m      <a href='vscode-notebook-cell:/c%3A/Users/warne/Desktop/Projects/naalas_2/naala_datasetbuilder_code.ipynb#Y132sZmlsZQ%3D%3D?line=0'>1</a>\u001b[0m \u001b[39m# Example usage\u001b[39;00m\n\u001b[1;32m----> <a href='vscode-notebook-cell:/c%3A/Users/warne/Desktop/Projects/naalas_2/naala_datasetbuilder_code.ipynb#Y132sZmlsZQ%3D%3D?line=1'>2</a>\u001b[0m q \u001b[39m=\u001b[39m ee_dataset_builder\u001b[39m.\u001b[39;49mchunk_raster_data(\u001b[39m\"\u001b[39m\u001b[39mData\u001b[39m\u001b[39m\\\u001b[39m\u001b[39mgeotiffs\u001b[39m\u001b[39m\\\u001b[39m\u001b[39mwoCond (1).tif\u001b[39m\u001b[39m\"\u001b[39m, chunk_size\u001b[39m=\u001b[39m(\u001b[39m512\u001b[39m, \u001b[39m512\u001b[39m))\n",
      "\u001b[1;31mAttributeError\u001b[0m: 'EEDatasetBuilder' object has no attribute 'chunk_raster_data'"
     ]
    }
   ],
   "source": [
    "# Example usage\n",
    "q = ee_dataset_builder.chunk_raster_data(\"Data\\geotiffs\\woCond (1).tif\", chunk_size=(512, 512))"
   ]
  }
 ],
 "metadata": {
  "kernelspec": {
   "display_name": "gee",
   "language": "python",
   "name": "python3"
  },
  "language_info": {
   "codemirror_mode": {
    "name": "ipython",
    "version": 3
   },
   "file_extension": ".py",
   "mimetype": "text/x-python",
   "name": "python",
   "nbconvert_exporter": "python",
   "pygments_lexer": "ipython3",
   "version": "3.10.12"
  }
 },
 "nbformat": 4,
 "nbformat_minor": 2
}
