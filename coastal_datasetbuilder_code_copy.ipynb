{
 "cells": [
  {
   "cell_type": "code",
   "execution_count": 79,
   "metadata": {},
   "outputs": [],
   "source": [
    "from dataset_builder import EEDatasetBuilder\n",
    "import geemap\n",
    "import ee\n",
    "import os\n",
    "import numpy as np"
   ]
  },
  {
   "cell_type": "code",
   "execution_count": 38,
   "metadata": {},
   "outputs": [
    {
     "data": {
      "application/vnd.jupyter.widget-view+json": {
       "model_id": "c8d14eb981f843ffa4d9953534381d47",
       "version_major": 2,
       "version_minor": 0
      },
      "text/plain": [
       "Map(center=[29.7666636, 78.1999992], controls=(WidgetControl(options=['position', 'transparent_bg'], widget=HB…"
      ]
     },
     "metadata": {},
     "output_type": "display_data"
    }
   ],
   "source": [
    "Map = geemap.Map(center=[29.7666636 , 78.1999992], zoom=9)\n",
    "Map"
   ]
  },
  {
   "cell_type": "code",
   "execution_count": 3,
   "metadata": {},
   "outputs": [],
   "source": [
    "# Build ee dataset builder\n",
    "ee_dataset_builder = EEDatasetBuilder()"
   ]
  },
  {
   "cell_type": "code",
   "execution_count": 4,
   "metadata": {},
   "outputs": [],
   "source": [
    "# Ganga river buffered zone, used local shapefile\n",
    "\n",
    "ganga_buffer_shp = r'C:\\Users\\warne\\Desktop\\Projects\\naalas_2\\Data\\Naalas&Ganga_Buff\\buff_shp.shp'\n",
    "ganga_buffer = geemap.shp_to_ee(ganga_buffer_shp)\n",
    "#Map.addLayer(ganga_buffer, {}, 'Ganga')"
   ]
  },
  {
   "cell_type": "code",
   "execution_count": 17,
   "metadata": {},
   "outputs": [],
   "source": [
    "# Not actually an image, it is a table/feature collection, is used to create buffer zone for other files called, \n",
    "# Need an image accessable on google earth engine\n",
    "ganga_buff = ee.FeatureCollection('projects/nikhilrajdeep/assets/Buffer_Ganga_river')"
   ]
  },
  {
   "cell_type": "code",
   "execution_count": 25,
   "metadata": {},
   "outputs": [],
   "source": [
    "#Doesn't work long term but current place holder to get the ee_dataset_builder file to work\n",
    "ganga_cheat = ee.Image('projects/nikhilrajdeep/assets/Buffer_Ganga_river')"
   ]
  },
  {
   "cell_type": "code",
   "execution_count": 6,
   "metadata": {},
   "outputs": [],
   "source": [
    "# My attempt at getting an image up from Nikhils work, doesnt work\n",
    "# ganga_2 = ee.Image('projects/ee-warnermichael09/assets/Ganga_buffer')\n",
    "# Map.addLayer(ganga_2, {}, 'Ganga_2')"
   ]
  },
  {
   "cell_type": "code",
   "execution_count": 26,
   "metadata": {},
   "outputs": [],
   "source": [
    "# Need to convert the buffer zone to an image, currently using a feature collection\n",
    "ee_dataset_builder.filtered_response_layer_from_raster(\n",
    "    response_raster='custom', \n",
    "    ee_image=ganga_cheat,\n",
    "    custom_response_raster_name='response'\n",
    ")"
   ]
  },
  {
   "cell_type": "markdown",
   "metadata": {},
   "source": [
    "PD\n",
    "LULC\n",
    "Prec\n",
    "DD\n",
    "Slope\n",
    "LST #land surface temp"
   ]
  },
  {
   "cell_type": "markdown",
   "metadata": {},
   "source": [
    "# Show where to get the geoTIFF files from"
   ]
  },
  {
   "cell_type": "code",
   "execution_count": 27,
   "metadata": {},
   "outputs": [],
   "source": [
    "out_dir = os.path.expanduser(r'\\Data\\geotiffs')\n",
    "\n",
    "if not os.path.exists(out_dir):\n",
    "    os.makedirs(out_dir)\n",
    "\n",
    "PD = os.path.join(r\"Data\\geotiffs\\pop_bucket.tif\")\n",
    "LULC = os.path.join(r\"C:\\Users\\warne\\Desktop\\Projects\\naalas_2\\Data\\geotiffs\\lulcCond.tif\")\n",
    "Prec = os.path.join(r'C:\\Users\\warne\\Desktop\\Projects\\naalas_2\\Data\\geotiffs\\rainCond.tif')\n",
    "DD = os.path.join(r\"Data\\geotiffs\\ddCond.tif\")\n",
    "Slope = os.path.join(r'Data\\geotiffs\\slopeCond.tif')\n",
    "LST = os.path.join(r'Data\\geotiffs\\tempCond.tif')\n",
    "\n"
   ]
  },
  {
   "cell_type": "code",
   "execution_count": 28,
   "metadata": {},
   "outputs": [],
   "source": [
    "#Population Density\n",
    "Map.add_raster(PD, layer_name = \"Population Density\")\n",
    "Map.add_raster(LULC, layer_name = \"Land use, Land cover\")\n",
    "Map.add_raster(Prec, layer_name = \"Rainfall\")\n",
    "Map.add_raster(DD, layer_name = \"Drainage Density\")\n",
    "Map.add_raster(Slope, layer_name = \"Slope\")\n",
    "Map.add_raster(LST, layer_name = \"Land Surface Temp\")"
   ]
  },
  {
   "cell_type": "markdown",
   "metadata": {},
   "source": [
    "### Chirps is the rain fall dataset"
   ]
  },
  {
   "cell_type": "code",
   "execution_count": 29,
   "metadata": {},
   "outputs": [],
   "source": [
    "merit_water = ee.Image('MERIT/Hydro/v1_0_1');\n",
    "ele = ee.Image(\"NASA/NASADEM_HGT/001\");\n",
    "twi = ee.Image(\"projects/nikhilrajdeep/assets/TWI_Ganga\");\n",
    "dd = ee.Image(\"projects/nikhilrajdeep/assets/drainage_density\");\n",
    "chirps = ee.ImageCollection(\"UCSB-CHG/CHIRPS/PENTAD\");\n",
    "l8 = ee.ImageCollection(\"LANDSAT/LC08/C02/T1_L2\");\n",
    "lc = ee.ImageCollection(\"ESA/WorldCover/v200\");\n",
    "soil = ee.Image(\"OpenLandMap/SOL/SOL_TEXTURE-CLASS_USDA-TT_M/v02\");\n",
    "pop = ee.ImageCollection(\"CIESIN/GPWv411/GPW_UNWPP-Adjusted_Population_Density\");"
   ]
  },
  {
   "cell_type": "markdown",
   "metadata": {},
   "source": [
    "# Population Density"
   ]
  },
  {
   "cell_type": "code",
   "execution_count": 39,
   "metadata": {},
   "outputs": [],
   "source": [
    "\n",
    "gpop = pop.toBands().select('gpw_v4_population_density_adjusted_to_2015_unwpp_country_totals_rev11_2020_30_sec_unwpp-adjusted_population_density').clip(ganga_buff).rename('popDensity');"
   ]
  },
  {
   "cell_type": "code",
   "execution_count": 63,
   "metadata": {},
   "outputs": [],
   "source": [
    "gpop_cond = gpop.expression(\n",
    "    \"(b('popDensity') < 865) ? 1\" +\n",
    "    \":(b('popDensity') >= 865 && b('popDensity') < 1600) ? 2\" +\n",
    "    \":(b('popDensity') >= 1600 && b('popDensity') < 2680) ? 3\" +\n",
    "    \":(b('popDensity') >= 2680 && b('popDensity') < 4036) ? 4\" +\n",
    "    \":(b('popDensity') >= 4036) ? 5\" +\n",
    "    \": 0\"  # Default value in case none of the conditions above are met\n",
    ")"
   ]
  },
  {
   "cell_type": "code",
   "execution_count": 68,
   "metadata": {},
   "outputs": [],
   "source": [
    "conditionParams = {\n",
    "    'min': 1,\n",
    "    'max': 5,\n",
    "    'palette': ['1a9641', 'a6d96a', 'ffffbf', 'fdae61', 'd7191c']\n",
    "}"
   ]
  },
  {
   "cell_type": "code",
   "execution_count": 69,
   "metadata": {},
   "outputs": [],
   "source": [
    "Map.addLayer(gpop_cond, conditionParams, 'Population density')"
   ]
  },
  {
   "cell_type": "code",
   "execution_count": 116,
   "metadata": {},
   "outputs": [],
   "source": [
    "predictors = gpop_cond.rename('PD')"
   ]
  },
  {
   "cell_type": "markdown",
   "metadata": {},
   "source": [
    "# Land Use Land Cover, LULC"
   ]
  },
  {
   "cell_type": "code",
   "execution_count": 111,
   "metadata": {},
   "outputs": [],
   "source": [
    "lulc = lc.first().clip(ganga_buff).rename('LULC')"
   ]
  },
  {
   "cell_type": "code",
   "execution_count": 112,
   "metadata": {},
   "outputs": [],
   "source": [
    "lulcCond = (lulc.eq(80).multiply(5)\n",
    "            .where(lulc.eq(90), 1)\n",
    "            .where(lulc.eq(10), 1)\n",
    "            .where(lulc.eq(20), 1)\n",
    "            .where(lulc.eq(30), 1)\n",
    "            .where(lulc.eq(40), 4)\n",
    "            .where(lulc.eq(60), 2)\n",
    "            .where(lulc.eq(50), 3))"
   ]
  },
  {
   "cell_type": "code",
   "execution_count": 113,
   "metadata": {},
   "outputs": [],
   "source": [
    "Map.addLayer(lulcCond, conditionParams, 'LULC');"
   ]
  },
  {
   "cell_type": "code",
   "execution_count": 117,
   "metadata": {},
   "outputs": [],
   "source": [
    "predictors = predictors.addBands(lulcCond)"
   ]
  },
  {
   "cell_type": "markdown",
   "metadata": {},
   "source": [
    "# Precipitation, chirps dataset\n",
    "\n",
    "\n"
   ]
  },
  {
   "cell_type": "code",
   "execution_count": 71,
   "metadata": {},
   "outputs": [],
   "source": [
    "rain = chirps.filterDate('2022-01-01','2023-01-01').sum().clip(ganga_buff)"
   ]
  },
  {
   "cell_type": "code",
   "execution_count": 91,
   "metadata": {},
   "outputs": [],
   "source": [
    "rainCond = (rain\n",
    "  .where(rain.lt(868), 1)\n",
    "  .where(rain.gte(868)and(rain.lt(1019)), 2)\n",
    "  .where(rain.gte(1019)and(rain.lt(1189)), 3)\n",
    "  .where(rain.gte(1189)and(rain.lt(1410)), 4)\n",
    "  .where(rain.gte(1410), 5))\n"
   ]
  },
  {
   "cell_type": "code",
   "execution_count": 92,
   "metadata": {},
   "outputs": [],
   "source": [
    "Map.addLayer(rainCond, conditionParams, 'Rainfall');"
   ]
  },
  {
   "cell_type": "code",
   "execution_count": 118,
   "metadata": {},
   "outputs": [],
   "source": [
    "predictors = predictors.addBands(rainCond)"
   ]
  },
  {
   "cell_type": "markdown",
   "metadata": {},
   "source": [
    "# Drainage Density DD"
   ]
  },
  {
   "cell_type": "markdown",
   "metadata": {},
   "source": [
    "Drainage density\n",
    "\n",
    "| DD         | Condition     | \n",
    "\n",
    "| <0.53      | Extreme low   |\n",
    " \n",
    " | 0.53-1.43  | low           |\n",
    " \n",
    " | 1.43-2.57  | Moderate      |\n",
    " \n",
    " | 2.57-4     | high          |\n",
    " \n",
    " | >4         | Extreme high  |"
   ]
  },
  {
   "cell_type": "code",
   "execution_count": 100,
   "metadata": {},
   "outputs": [],
   "source": [
    "ddCond = (dd\n",
    "  .where(dd.lt(0.6), 1)\n",
    "  .where(dd.gte(0.6)and(dd.lt(1.5)), 2)\n",
    "  .where(dd.gte(1.5)and(dd.lt(2.6)), 3)\n",
    "  .where(dd.gte(2.6)and(dd.lt(4)), 4)\n",
    "  .where(dd.gte(4), 5)).rename('drainage_density')"
   ]
  },
  {
   "cell_type": "code",
   "execution_count": 97,
   "metadata": {},
   "outputs": [],
   "source": [
    "Map.addLayer(ddCond, conditionParams, 'drainage density');"
   ]
  },
  {
   "cell_type": "code",
   "execution_count": 119,
   "metadata": {},
   "outputs": [],
   "source": [
    "predictors = predictors.addBands(ddCond)"
   ]
  },
  {
   "cell_type": "markdown",
   "metadata": {},
   "source": [
    "# Slope"
   ]
  },
  {
   "cell_type": "code",
   "execution_count": 121,
   "metadata": {},
   "outputs": [],
   "source": [
    "dem = ele.select('elevation')\n",
    "slope = ee.Terrain.slope(dem).clip(ganga_buff)"
   ]
  },
  {
   "cell_type": "code",
   "execution_count": 122,
   "metadata": {},
   "outputs": [],
   "source": [
    "slopeCond = (slope\n",
    "  .where(slope.lt(4), 5)\n",
    "  .where(slope.gte(4)and(slope.lt(12)), 4)\n",
    "  .where(slope.gte(12)and(slope.lt(24)), 3)\n",
    "  .where(slope.gte(24)and(slope.lt(35)), 2)\n",
    "  .where(slope.gte(35), 1))"
   ]
  },
  {
   "cell_type": "code",
   "execution_count": 123,
   "metadata": {},
   "outputs": [],
   "source": [
    "Map.addLayer(slopeCond, conditionParams, 'slope');"
   ]
  },
  {
   "cell_type": "code",
   "execution_count": 124,
   "metadata": {},
   "outputs": [],
   "source": [
    "predictors = predictors.addBands(slopeCond)"
   ]
  },
  {
   "cell_type": "markdown",
   "metadata": {},
   "source": [
    "# Land Surface Temperature LST"
   ]
  },
  {
   "cell_type": "code",
   "execution_count": null,
   "metadata": {},
   "outputs": [],
   "source": []
  },
  {
   "cell_type": "code",
   "execution_count": null,
   "metadata": {},
   "outputs": [],
   "source": []
  },
  {
   "cell_type": "code",
   "execution_count": null,
   "metadata": {},
   "outputs": [],
   "source": []
  },
  {
   "cell_type": "markdown",
   "metadata": {},
   "source": [
    "# Merit - Hydro"
   ]
  },
  {
   "cell_type": "code",
   "execution_count": null,
   "metadata": {},
   "outputs": [],
   "source": []
  },
  {
   "cell_type": "code",
   "execution_count": null,
   "metadata": {},
   "outputs": [],
   "source": []
  },
  {
   "cell_type": "code",
   "execution_count": null,
   "metadata": {},
   "outputs": [],
   "source": []
  },
  {
   "cell_type": "code",
   "execution_count": 14,
   "metadata": {},
   "outputs": [],
   "source": [
    "twi_cond = (twi.where(twi.lt(6.4), 1)\n",
    "                .where(twi.gte(6.4).And(twi.lt(8.3)), 2)\n",
    "                .where(twi.gte(8.3).And(twi.lt(10.3)), 3)\n",
    "                .where(twi.gte(10.3).And(twi.lt(13.5)), 4)\n",
    "                .where(twi.gte(13.5), 5))\n",
    "\n",
    "# Define visualization parameters in a dictionary.\n",
    "condition_params = {\n",
    "    'min': 1,\n",
    "    'max': 5,\n",
    "    'palette': ['blue', 'green', 'yellow', 'orange', 'red']  # Example palette\n",
    "}\n",
    "\n",
    "# Use Map to add layers in the Earth Engine Python API.\n",
    "Map = geemap.Map()  # geemap might be used to display Earth Engine data layers\n",
    "Map.addLayer(twi_cond, condition_params, 'TWI')"
   ]
  },
  {
   "cell_type": "code",
   "execution_count": 113,
   "metadata": {},
   "outputs": [],
   "source": [
    "predictors = merit_water"
   ]
  },
  {
   "cell_type": "code",
   "execution_count": 115,
   "metadata": {},
   "outputs": [],
   "source": [
    "predictors = predictors.addBands(twi_cond)"
   ]
  },
  {
   "cell_type": "code",
   "execution_count": 116,
   "metadata": {},
   "outputs": [],
   "source": [
    "Map.addLayer(merit_water)"
   ]
  },
  {
   "cell_type": "code",
   "execution_count": 40,
   "metadata": {},
   "outputs": [],
   "source": [
    "## WETLANDS ##\n",
    "\n",
    "# Elevation - MERIT DEM\n",
    "# Elevation and slope, which can be derived, should be core variables in determining where CFWs form.\n",
    "dem = ee.Image('MERIT/DEM/v1_0_3');\n",
    "predictors = dem.rename('elevation')\n",
    "\n",
    "# Calculate slope in degrees\n",
    "slope = ee.Terrain.slope(dem).rename('slope'); # fix this ? why is it not in degrees?\n",
    "predictors = predictors.addBands(slope)\n",
    "\n",
    "# Hydrology - MERIT HYDRO \n",
    "# Distance to water features can be determined with this data. CFW are likely to be close to water features.\n",
    "merit_water = ee.Image('MERIT/Hydro/v1_0_1');\n",
    "# Compute distance to water\n",
    "water_mask = merit_water.select(\"viswth\");\n",
    "distance_to_water = water_mask.distance(ee.Kernel.euclidean(1000, 'meters')).rename('distance_water')\n",
    "predictors = predictors.addBands(distance_to_water)\n",
    "\n",
    "# JRC Global Surface Water\n",
    "# Distance measures can be leveraged to understand proximity to water.\n",
    "global_surface_water = ee.Image('JRC/GSW1_4/GlobalSurfaceWater');\n",
    "# Compute distance to water\n",
    "water_mask_global = global_surface_water.select(\"occurrence\");\n",
    "mask = water_mask_global.neq(0).rename('mask');\n",
    "# Apply the mask to the image.\n",
    "masked = water_mask_global.updateMask(mask);\n",
    "# Set all masked values to 1.\n",
    "water_mask_global_binary = masked.where(mask, 1).rename('global_water').unmask()\n",
    "proximity_to_water = water_mask_global_binary.distance(ee.Kernel.euclidean(7000, 'meters'))\n",
    "proximity_to_water = proximity_to_water.unmask().rename('proximity_water')\n",
    "predictors = predictors.addBands(proximity_to_water)\n",
    "\n",
    "# Soil moisture - Enhanced SMAP\n",
    "# Wetlands tend to have much high soil moisture content compared to surrounding habitats.\n",
    "dataset = ee.ImageCollection('NASA_USDA/HSL/SMAP10KM_soil_moisture').filter(ee.Filter.date('2016-01-01', '2016-12-30'));\n",
    "soilMoisture = dataset.select('ssm').mean().rename('soil_moisture_mean');\n",
    "predictors = predictors.addBands(soilMoisture) \n",
    "\n",
    "# # climate - Daymet\n",
    "# # The various parameters can be summarized to determine the climate patterns.\n",
    "# daymet = ee.ImageCollection('NASA/ORNL/DAYMET_V4').filter(ee.Filter.date('2016-01-01', '2016-12-30'));\n",
    "# maximumTemperature = daymet.select('tmax').mean().rename('tmax_mean');\n",
    "# minTemperature = daymet.select('tmin').mean().rename('tmin_mean');\n",
    "# precipitation = daymet.select('prcp').mean().rename('precipitation_mean');\n",
    "# predictors = predictors.addBands(maximumTemperature) \n",
    "# predictors = predictors.addBands(minTemperature) \n",
    "# predictors = predictors.addBands(precipitation) \n",
    "\n",
    "# Climate: NEX-GDDP-CMIP6: NASA Earth Exchange Global Daily Downscaled Climate Projections\n",
    "nex_gppd_cmip6 = ee.ImageCollection(\"NASA/GDDP-CMIP6\").filter(ee.Filter.date('2016-01-01', '2016-12-30')).filter(ee.Filter.eq('model', 'ACCESS-CM2'));\n",
    "maximumTemperature = nex_gppd_cmip6.select('tasmax').mean().rename('tmax_mean');\n",
    "minTemperature = nex_gppd_cmip6.select('tasmin').mean().rename('tmin_mean');\n",
    "precipitation = nex_gppd_cmip6.select('pr').mean().rename('precipitation_mean');\n",
    "predictors = predictors.addBands(maximumTemperature) \n",
    "predictors = predictors.addBands(minTemperature) \n",
    "predictors = predictors.addBands(precipitation) \n",
    "\n",
    "\n",
    "# Litology, Landforms, Physiography – Physical descriptions of the landscape, which can be used to understand landscape context.\n",
    "# Soil lithology\n",
    "lithology = ee.Image('CSP/ERGo/1_0/US/lithology').rename('lithology');\n",
    "predictors = predictors.addBands(lithology)\n",
    "\n",
    "# Topography: Landforms\n",
    "landforms = ee.Image('CSP/ERGo/1_0/US/landforms');\n",
    "landforms = landforms.select('constant').rename('landforms');\n",
    "predictors = predictors.addBands(landforms)\n",
    "\n",
    "# Soil and topography\n",
    "physiography = ee.Image('CSP/ERGo/1_0/US/physiography');\n",
    "physiography = physiography.select('constant').rename('physiography');\n",
    "predictors = predictors.addBands(physiography)"
   ]
  },
  {
   "cell_type": "code",
   "execution_count": 41,
   "metadata": {},
   "outputs": [
    {
     "data": {
      "text/plain": [
       "['elevation',\n",
       " 'slope',\n",
       " 'distance_water',\n",
       " 'proximity_water',\n",
       " 'soil_moisture_mean',\n",
       " 'tmax_mean',\n",
       " 'tmin_mean',\n",
       " 'precipitation_mean',\n",
       " 'lithology',\n",
       " 'landforms',\n",
       " 'physiography']"
      ]
     },
     "execution_count": 41,
     "metadata": {},
     "output_type": "execute_result"
    }
   ],
   "source": [
    "predictors.bandNames().getInfo()"
   ]
  },
  {
   "cell_type": "code",
   "execution_count": null,
   "metadata": {},
   "outputs": [],
   "source": []
  },
  {
   "cell_type": "code",
   "execution_count": 42,
   "metadata": {},
   "outputs": [
    {
     "ename": "EEException",
     "evalue": "Image.load: Asset 'projects/nikhilrajdeep/assets/Buffer_Ganga_river' is not an Image.",
     "output_type": "error",
     "traceback": [
      "\u001b[1;31m---------------------------------------------------------------------------\u001b[0m",
      "\u001b[1;31mHttpError\u001b[0m                                 Traceback (most recent call last)",
      "File \u001b[1;32mc:\\Users\\warne\\anaconda3\\envs\\gee\\lib\\site-packages\\ee\\data.py:345\u001b[0m, in \u001b[0;36m_execute_cloud_call\u001b[1;34m(call, num_retries)\u001b[0m\n\u001b[0;32m    344\u001b[0m \u001b[39mtry\u001b[39;00m:\n\u001b[1;32m--> 345\u001b[0m   \u001b[39mreturn\u001b[39;00m call\u001b[39m.\u001b[39;49mexecute(num_retries\u001b[39m=\u001b[39;49mnum_retries)\n\u001b[0;32m    346\u001b[0m \u001b[39mexcept\u001b[39;00m googleapiclient\u001b[39m.\u001b[39merrors\u001b[39m.\u001b[39mHttpError \u001b[39mas\u001b[39;00m e:\n",
      "File \u001b[1;32mc:\\Users\\warne\\anaconda3\\envs\\gee\\lib\\site-packages\\googleapiclient\\_helpers.py:130\u001b[0m, in \u001b[0;36mpositional.<locals>.positional_decorator.<locals>.positional_wrapper\u001b[1;34m(*args, **kwargs)\u001b[0m\n\u001b[0;32m    129\u001b[0m         logger\u001b[39m.\u001b[39mwarning(message)\n\u001b[1;32m--> 130\u001b[0m \u001b[39mreturn\u001b[39;00m wrapped(\u001b[39m*\u001b[39margs, \u001b[39m*\u001b[39m\u001b[39m*\u001b[39mkwargs)\n",
      "File \u001b[1;32mc:\\Users\\warne\\anaconda3\\envs\\gee\\lib\\site-packages\\googleapiclient\\http.py:938\u001b[0m, in \u001b[0;36mHttpRequest.execute\u001b[1;34m(self, http, num_retries)\u001b[0m\n\u001b[0;32m    937\u001b[0m \u001b[39mif\u001b[39;00m resp\u001b[39m.\u001b[39mstatus \u001b[39m>\u001b[39m\u001b[39m=\u001b[39m \u001b[39m300\u001b[39m:\n\u001b[1;32m--> 938\u001b[0m     \u001b[39mraise\u001b[39;00m HttpError(resp, content, uri\u001b[39m=\u001b[39m\u001b[39mself\u001b[39m\u001b[39m.\u001b[39muri)\n\u001b[0;32m    939\u001b[0m \u001b[39mreturn\u001b[39;00m \u001b[39mself\u001b[39m\u001b[39m.\u001b[39mpostproc(resp, content)\n",
      "\u001b[1;31mHttpError\u001b[0m: <HttpError 400 when requesting https://earthengine.googleapis.com/v1alpha/projects/earthengine-legacy/maps?fields=name&alt=json returned \"Image.load: Asset 'projects/nikhilrajdeep/assets/Buffer_Ganga_river' is not an Image.\". Details: \"Image.load: Asset 'projects/nikhilrajdeep/assets/Buffer_Ganga_river' is not an Image.\">",
      "\nDuring handling of the above exception, another exception occurred:\n",
      "\u001b[1;31mEEException\u001b[0m                               Traceback (most recent call last)",
      "\u001b[1;32mc:\\Users\\warne\\Desktop\\Projects\\naalas_2\\coastal_datasetbuilder_code_copy.ipynb Cell 9\u001b[0m line \u001b[0;36m8\n\u001b[0;32m      <a href='vscode-notebook-cell:/c%3A/Users/warne/Desktop/Projects/naalas_2/coastal_datasetbuilder_code_copy.ipynb#X22sZmlsZQ%3D%3D?line=0'>1</a>\u001b[0m vis_param \u001b[39m=\u001b[39m { \n\u001b[0;32m      <a href='vscode-notebook-cell:/c%3A/Users/warne/Desktop/Projects/naalas_2/coastal_datasetbuilder_code_copy.ipynb#X22sZmlsZQ%3D%3D?line=1'>2</a>\u001b[0m   \u001b[39m'\u001b[39m\u001b[39mmin\u001b[39m\u001b[39m'\u001b[39m: \u001b[39m0.0\u001b[39m,\n\u001b[0;32m      <a href='vscode-notebook-cell:/c%3A/Users/warne/Desktop/Projects/naalas_2/coastal_datasetbuilder_code_copy.ipynb#X22sZmlsZQ%3D%3D?line=2'>3</a>\u001b[0m   \u001b[39m'\u001b[39m\u001b[39mmax\u001b[39m\u001b[39m'\u001b[39m: \u001b[39m1.0\u001b[39m,\n\u001b[0;32m      <a href='vscode-notebook-cell:/c%3A/Users/warne/Desktop/Projects/naalas_2/coastal_datasetbuilder_code_copy.ipynb#X22sZmlsZQ%3D%3D?line=3'>4</a>\u001b[0m   \u001b[39m'\u001b[39m\u001b[39mpalette\u001b[39m\u001b[39m'\u001b[39m:  [\n\u001b[0;32m      <a href='vscode-notebook-cell:/c%3A/Users/warne/Desktop/Projects/naalas_2/coastal_datasetbuilder_code_copy.ipynb#X22sZmlsZQ%3D%3D?line=4'>5</a>\u001b[0m     \u001b[39m'\u001b[39m\u001b[39mwhite\u001b[39m\u001b[39m'\u001b[39m, \u001b[39m'\u001b[39m\u001b[39mblue\u001b[39m\u001b[39m'\u001b[39m\n\u001b[0;32m      <a href='vscode-notebook-cell:/c%3A/Users/warne/Desktop/Projects/naalas_2/coastal_datasetbuilder_code_copy.ipynb#X22sZmlsZQ%3D%3D?line=5'>6</a>\u001b[0m   ]}\n\u001b[1;32m----> <a href='vscode-notebook-cell:/c%3A/Users/warne/Desktop/Projects/naalas_2/coastal_datasetbuilder_code_copy.ipynb#X22sZmlsZQ%3D%3D?line=7'>8</a>\u001b[0m Map\u001b[39m.\u001b[39;49maddLayer(ee_dataset_builder\u001b[39m.\u001b[39;49mimage\u001b[39m.\u001b[39;49mselect(\u001b[39m'\u001b[39;49m\u001b[39mresponse\u001b[39;49m\u001b[39m'\u001b[39;49m), vis_param, \u001b[39m'\u001b[39;49m\u001b[39mCCAP 13 + 16 bands masked mangroves\u001b[39;49m\u001b[39m'\u001b[39;49m, \u001b[39mTrue\u001b[39;49;00m)\n",
      "File \u001b[1;32mc:\\Users\\warne\\anaconda3\\envs\\gee\\lib\\site-packages\\geemap\\geemap.py:303\u001b[0m, in \u001b[0;36mMap.add_ee_layer\u001b[1;34m(self, ee_object, vis_params, name, shown, opacity)\u001b[0m\n\u001b[0;32m    301\u001b[0m     layer_count \u001b[39m=\u001b[39m \u001b[39mlen\u001b[39m(\u001b[39mself\u001b[39m\u001b[39m.\u001b[39mlayers)\n\u001b[0;32m    302\u001b[0m     name \u001b[39m=\u001b[39m \u001b[39m\"\u001b[39m\u001b[39mLayer \u001b[39m\u001b[39m\"\u001b[39m \u001b[39m+\u001b[39m \u001b[39mstr\u001b[39m(layer_count \u001b[39m+\u001b[39m \u001b[39m1\u001b[39m)\n\u001b[1;32m--> 303\u001b[0m tile_layer \u001b[39m=\u001b[39m EELeafletTileLayer(ee_object, vis_params, name, shown, opacity)\n\u001b[0;32m    305\u001b[0m layer \u001b[39m=\u001b[39m \u001b[39mself\u001b[39m\u001b[39m.\u001b[39mfind_layer(name\u001b[39m=\u001b[39mname)\n\u001b[0;32m    306\u001b[0m \u001b[39mif\u001b[39;00m layer \u001b[39mis\u001b[39;00m \u001b[39mnot\u001b[39;00m \u001b[39mNone\u001b[39;00m:\n",
      "File \u001b[1;32mc:\\Users\\warne\\anaconda3\\envs\\gee\\lib\\site-packages\\geemap\\ee_tile_layers.py:130\u001b[0m, in \u001b[0;36mEELeafletTileLayer.__init__\u001b[1;34m(self, ee_object, vis_params, name, shown, opacity, **kwargs)\u001b[0m\n\u001b[0;32m    112\u001b[0m \u001b[39mdef\u001b[39;00m \u001b[39m__init__\u001b[39m(\n\u001b[0;32m    113\u001b[0m     \u001b[39mself\u001b[39m,\n\u001b[0;32m    114\u001b[0m     ee_object,\n\u001b[1;32m   (...)\u001b[0m\n\u001b[0;32m    119\u001b[0m     \u001b[39m*\u001b[39m\u001b[39m*\u001b[39mkwargs,\n\u001b[0;32m    120\u001b[0m ):\n\u001b[0;32m    121\u001b[0m \u001b[39m    \u001b[39m\u001b[39m\"\"\"Initialize the ipyleaflet tile layer.\u001b[39;00m\n\u001b[0;32m    122\u001b[0m \n\u001b[0;32m    123\u001b[0m \u001b[39m    Args:\u001b[39;00m\n\u001b[1;32m   (...)\u001b[0m\n\u001b[0;32m    128\u001b[0m \u001b[39m        opacity (float, optional): The layer's opacity represented as a number between 0 and 1. Defaults to 1.\u001b[39;00m\n\u001b[0;32m    129\u001b[0m \u001b[39m    \"\"\"\u001b[39;00m\n\u001b[1;32m--> 130\u001b[0m     \u001b[39mself\u001b[39m\u001b[39m.\u001b[39murl_format \u001b[39m=\u001b[39m _get_tile_url_format(ee_object, _validate_vis_params(vis_params))\n\u001b[0;32m    131\u001b[0m     \u001b[39msuper\u001b[39m()\u001b[39m.\u001b[39m\u001b[39m__init__\u001b[39m(\n\u001b[0;32m    132\u001b[0m         url\u001b[39m=\u001b[39m\u001b[39mself\u001b[39m\u001b[39m.\u001b[39murl_format,\n\u001b[0;32m    133\u001b[0m         attribution\u001b[39m=\u001b[39m\u001b[39m\"\u001b[39m\u001b[39mGoogle Earth Engine\u001b[39m\u001b[39m\"\u001b[39m,\n\u001b[1;32m   (...)\u001b[0m\n\u001b[0;32m    138\u001b[0m         \u001b[39m*\u001b[39m\u001b[39m*\u001b[39mkwargs,\n\u001b[0;32m    139\u001b[0m     )\n",
      "File \u001b[1;32mc:\\Users\\warne\\anaconda3\\envs\\gee\\lib\\site-packages\\geemap\\ee_tile_layers.py:18\u001b[0m, in \u001b[0;36m_get_tile_url_format\u001b[1;34m(ee_object, vis_params)\u001b[0m\n\u001b[0;32m     16\u001b[0m \u001b[39mdef\u001b[39;00m \u001b[39m_get_tile_url_format\u001b[39m(ee_object, vis_params):\n\u001b[0;32m     17\u001b[0m     image \u001b[39m=\u001b[39m _ee_object_to_image(ee_object, vis_params)\n\u001b[1;32m---> 18\u001b[0m     map_id_dict \u001b[39m=\u001b[39m ee\u001b[39m.\u001b[39;49mImage(image)\u001b[39m.\u001b[39;49mgetMapId(vis_params)\n\u001b[0;32m     19\u001b[0m     \u001b[39mreturn\u001b[39;00m map_id_dict[\u001b[39m\"\u001b[39m\u001b[39mtile_fetcher\u001b[39m\u001b[39m\"\u001b[39m]\u001b[39m.\u001b[39murl_format\n",
      "File \u001b[1;32mc:\\Users\\warne\\anaconda3\\envs\\gee\\lib\\site-packages\\ee\\image.py:130\u001b[0m, in \u001b[0;36mImage.getMapId\u001b[1;34m(self, vis_params)\u001b[0m\n\u001b[0;32m    128\u001b[0m vis_image, request \u001b[39m=\u001b[39m \u001b[39mself\u001b[39m\u001b[39m.\u001b[39m_apply_visualization(vis_params)\n\u001b[0;32m    129\u001b[0m request[\u001b[39m'\u001b[39m\u001b[39mimage\u001b[39m\u001b[39m'\u001b[39m] \u001b[39m=\u001b[39m vis_image\n\u001b[1;32m--> 130\u001b[0m response \u001b[39m=\u001b[39m data\u001b[39m.\u001b[39;49mgetMapId(request)\n\u001b[0;32m    131\u001b[0m response[\u001b[39m'\u001b[39m\u001b[39mimage\u001b[39m\u001b[39m'\u001b[39m] \u001b[39m=\u001b[39m \u001b[39mself\u001b[39m\n\u001b[0;32m    132\u001b[0m \u001b[39mreturn\u001b[39;00m response\n",
      "File \u001b[1;32mc:\\Users\\warne\\anaconda3\\envs\\gee\\lib\\site-packages\\ee\\data.py:647\u001b[0m, in \u001b[0;36mgetMapId\u001b[1;34m(params)\u001b[0m\n\u001b[0;32m    642\u001b[0m queryParams \u001b[39m=\u001b[39m {\n\u001b[0;32m    643\u001b[0m     \u001b[39m'\u001b[39m\u001b[39mfields\u001b[39m\u001b[39m'\u001b[39m: \u001b[39m'\u001b[39m\u001b[39mname\u001b[39m\u001b[39m'\u001b[39m,\n\u001b[0;32m    644\u001b[0m     \u001b[39m'\u001b[39m\u001b[39mbody\u001b[39m\u001b[39m'\u001b[39m: request,\n\u001b[0;32m    645\u001b[0m }\n\u001b[0;32m    646\u001b[0m _maybe_populate_workload_tag(queryParams)\n\u001b[1;32m--> 647\u001b[0m result \u001b[39m=\u001b[39m _execute_cloud_call(\n\u001b[0;32m    648\u001b[0m     _get_cloud_projects()\n\u001b[0;32m    649\u001b[0m     \u001b[39m.\u001b[39;49mmaps()\n\u001b[0;32m    650\u001b[0m     \u001b[39m.\u001b[39;49mcreate(parent\u001b[39m=\u001b[39;49m_get_projects_path(), \u001b[39m*\u001b[39;49m\u001b[39m*\u001b[39;49mqueryParams)\n\u001b[0;32m    651\u001b[0m )\n\u001b[0;32m    652\u001b[0m map_name \u001b[39m=\u001b[39m result[\u001b[39m'\u001b[39m\u001b[39mname\u001b[39m\u001b[39m'\u001b[39m]\n\u001b[0;32m    653\u001b[0m url_format \u001b[39m=\u001b[39m \u001b[39m'\u001b[39m\u001b[39m%s\u001b[39;00m\u001b[39m/\u001b[39m\u001b[39m%s\u001b[39;00m\u001b[39m/\u001b[39m\u001b[39m%s\u001b[39;00m\u001b[39m/tiles/\u001b[39m\u001b[39m{z}\u001b[39;00m\u001b[39m/\u001b[39m\u001b[39m{x}\u001b[39;00m\u001b[39m/\u001b[39m\u001b[39m{y}\u001b[39;00m\u001b[39m'\u001b[39m \u001b[39m%\u001b[39m (\n\u001b[0;32m    654\u001b[0m     _tile_base_url, _cloud_api_utils\u001b[39m.\u001b[39mVERSION, map_name)\n",
      "File \u001b[1;32mc:\\Users\\warne\\anaconda3\\envs\\gee\\lib\\site-packages\\ee\\data.py:347\u001b[0m, in \u001b[0;36m_execute_cloud_call\u001b[1;34m(call, num_retries)\u001b[0m\n\u001b[0;32m    345\u001b[0m   \u001b[39mreturn\u001b[39;00m call\u001b[39m.\u001b[39mexecute(num_retries\u001b[39m=\u001b[39mnum_retries)\n\u001b[0;32m    346\u001b[0m \u001b[39mexcept\u001b[39;00m googleapiclient\u001b[39m.\u001b[39merrors\u001b[39m.\u001b[39mHttpError \u001b[39mas\u001b[39;00m e:\n\u001b[1;32m--> 347\u001b[0m   \u001b[39mraise\u001b[39;00m _translate_cloud_exception(e)\n",
      "\u001b[1;31mEEException\u001b[0m: Image.load: Asset 'projects/nikhilrajdeep/assets/Buffer_Ganga_river' is not an Image."
     ]
    }
   ],
   "source": [
    "vis_param = { \n",
    "  'min': 0.0,\n",
    "  'max': 1.0,\n",
    "  'palette':  [\n",
    "    'white', 'blue'\n",
    "  ]}\n",
    "\n",
    "Map.addLayer(ee_dataset_builder.image.select('response'), vis_param, 'CCAP 13 + 16 bands masked mangroves', True)"
   ]
  },
  {
   "cell_type": "code",
   "execution_count": 43,
   "metadata": {},
   "outputs": [
    {
     "ename": "EEException",
     "evalue": "Image.load: Asset 'projects/nikhilrajdeep/assets/Buffer_Ganga_river' is not an Image.",
     "output_type": "error",
     "traceback": [
      "\u001b[1;31m---------------------------------------------------------------------------\u001b[0m",
      "\u001b[1;31mHttpError\u001b[0m                                 Traceback (most recent call last)",
      "File \u001b[1;32mc:\\Users\\warne\\anaconda3\\envs\\gee\\lib\\site-packages\\ee\\data.py:345\u001b[0m, in \u001b[0;36m_execute_cloud_call\u001b[1;34m(call, num_retries)\u001b[0m\n\u001b[0;32m    344\u001b[0m \u001b[39mtry\u001b[39;00m:\n\u001b[1;32m--> 345\u001b[0m   \u001b[39mreturn\u001b[39;00m call\u001b[39m.\u001b[39;49mexecute(num_retries\u001b[39m=\u001b[39;49mnum_retries)\n\u001b[0;32m    346\u001b[0m \u001b[39mexcept\u001b[39;00m googleapiclient\u001b[39m.\u001b[39merrors\u001b[39m.\u001b[39mHttpError \u001b[39mas\u001b[39;00m e:\n",
      "File \u001b[1;32mc:\\Users\\warne\\anaconda3\\envs\\gee\\lib\\site-packages\\googleapiclient\\_helpers.py:130\u001b[0m, in \u001b[0;36mpositional.<locals>.positional_decorator.<locals>.positional_wrapper\u001b[1;34m(*args, **kwargs)\u001b[0m\n\u001b[0;32m    129\u001b[0m         logger\u001b[39m.\u001b[39mwarning(message)\n\u001b[1;32m--> 130\u001b[0m \u001b[39mreturn\u001b[39;00m wrapped(\u001b[39m*\u001b[39margs, \u001b[39m*\u001b[39m\u001b[39m*\u001b[39mkwargs)\n",
      "File \u001b[1;32mc:\\Users\\warne\\anaconda3\\envs\\gee\\lib\\site-packages\\googleapiclient\\http.py:938\u001b[0m, in \u001b[0;36mHttpRequest.execute\u001b[1;34m(self, http, num_retries)\u001b[0m\n\u001b[0;32m    937\u001b[0m \u001b[39mif\u001b[39;00m resp\u001b[39m.\u001b[39mstatus \u001b[39m>\u001b[39m\u001b[39m=\u001b[39m \u001b[39m300\u001b[39m:\n\u001b[1;32m--> 938\u001b[0m     \u001b[39mraise\u001b[39;00m HttpError(resp, content, uri\u001b[39m=\u001b[39m\u001b[39mself\u001b[39m\u001b[39m.\u001b[39muri)\n\u001b[0;32m    939\u001b[0m \u001b[39mreturn\u001b[39;00m \u001b[39mself\u001b[39m\u001b[39m.\u001b[39mpostproc(resp, content)\n",
      "\u001b[1;31mHttpError\u001b[0m: <HttpError 400 when requesting https://earthengine.googleapis.com/v1alpha/projects/earthengine-legacy/maps?fields=name&alt=json returned \"Image.load: Asset 'projects/nikhilrajdeep/assets/Buffer_Ganga_river' is not an Image.\". Details: \"Image.load: Asset 'projects/nikhilrajdeep/assets/Buffer_Ganga_river' is not an Image.\">",
      "\nDuring handling of the above exception, another exception occurred:\n",
      "\u001b[1;31mEEException\u001b[0m                               Traceback (most recent call last)",
      "\u001b[1;32mc:\\Users\\warne\\Desktop\\Projects\\naalas_2\\coastal_datasetbuilder_code_copy.ipynb Cell 10\u001b[0m line \u001b[0;36m7\n\u001b[0;32m      <a href='vscode-notebook-cell:/c%3A/Users/warne/Desktop/Projects/naalas_2/coastal_datasetbuilder_code_copy.ipynb#X21sZmlsZQ%3D%3D?line=0'>1</a>\u001b[0m elevation_vis_param \u001b[39m=\u001b[39m { \n\u001b[0;32m      <a href='vscode-notebook-cell:/c%3A/Users/warne/Desktop/Projects/naalas_2/coastal_datasetbuilder_code_copy.ipynb#X21sZmlsZQ%3D%3D?line=1'>2</a>\u001b[0m   \u001b[39m'\u001b[39m\u001b[39mmin\u001b[39m\u001b[39m'\u001b[39m: \u001b[39m240\u001b[39m,\n\u001b[0;32m      <a href='vscode-notebook-cell:/c%3A/Users/warne/Desktop/Projects/naalas_2/coastal_datasetbuilder_code_copy.ipynb#X21sZmlsZQ%3D%3D?line=2'>3</a>\u001b[0m   \u001b[39m'\u001b[39m\u001b[39mmax\u001b[39m\u001b[39m'\u001b[39m: \u001b[39m310\u001b[39m,\n\u001b[0;32m      <a href='vscode-notebook-cell:/c%3A/Users/warne/Desktop/Projects/naalas_2/coastal_datasetbuilder_code_copy.ipynb#X21sZmlsZQ%3D%3D?line=3'>4</a>\u001b[0m   \u001b[39m'\u001b[39m\u001b[39mpalette\u001b[39m\u001b[39m'\u001b[39m: [\u001b[39m'\u001b[39m\u001b[39mblue\u001b[39m\u001b[39m'\u001b[39m, \u001b[39m'\u001b[39m\u001b[39mpurple\u001b[39m\u001b[39m'\u001b[39m, \u001b[39m'\u001b[39m\u001b[39mcyan\u001b[39m\u001b[39m'\u001b[39m, \u001b[39m'\u001b[39m\u001b[39mgreen\u001b[39m\u001b[39m'\u001b[39m, \u001b[39m'\u001b[39m\u001b[39myellow\u001b[39m\u001b[39m'\u001b[39m, \u001b[39m'\u001b[39m\u001b[39mred\u001b[39m\u001b[39m'\u001b[39m],\n\u001b[0;32m      <a href='vscode-notebook-cell:/c%3A/Users/warne/Desktop/Projects/naalas_2/coastal_datasetbuilder_code_copy.ipynb#X21sZmlsZQ%3D%3D?line=4'>5</a>\u001b[0m     \u001b[39m'\u001b[39m\u001b[39mformat\u001b[39m\u001b[39m'\u001b[39m: \u001b[39m'\u001b[39m\u001b[39mpng\u001b[39m\u001b[39m'\u001b[39m};\n\u001b[1;32m----> <a href='vscode-notebook-cell:/c%3A/Users/warne/Desktop/Projects/naalas_2/coastal_datasetbuilder_code_copy.ipynb#X21sZmlsZQ%3D%3D?line=6'>7</a>\u001b[0m Map\u001b[39m.\u001b[39;49maddLayer(ee_dataset_builder\u001b[39m.\u001b[39;49mimage\u001b[39m.\u001b[39;49mselect(\u001b[39m'\u001b[39;49m\u001b[39mtmin_mean\u001b[39;49m\u001b[39m'\u001b[39;49m), elevation_vis_param, \u001b[39m'\u001b[39;49m\u001b[39mminTemperature\u001b[39;49m\u001b[39m'\u001b[39;49m, \u001b[39mTrue\u001b[39;49;00m)\n",
      "File \u001b[1;32mc:\\Users\\warne\\anaconda3\\envs\\gee\\lib\\site-packages\\geemap\\geemap.py:303\u001b[0m, in \u001b[0;36mMap.add_ee_layer\u001b[1;34m(self, ee_object, vis_params, name, shown, opacity)\u001b[0m\n\u001b[0;32m    301\u001b[0m     layer_count \u001b[39m=\u001b[39m \u001b[39mlen\u001b[39m(\u001b[39mself\u001b[39m\u001b[39m.\u001b[39mlayers)\n\u001b[0;32m    302\u001b[0m     name \u001b[39m=\u001b[39m \u001b[39m\"\u001b[39m\u001b[39mLayer \u001b[39m\u001b[39m\"\u001b[39m \u001b[39m+\u001b[39m \u001b[39mstr\u001b[39m(layer_count \u001b[39m+\u001b[39m \u001b[39m1\u001b[39m)\n\u001b[1;32m--> 303\u001b[0m tile_layer \u001b[39m=\u001b[39m EELeafletTileLayer(ee_object, vis_params, name, shown, opacity)\n\u001b[0;32m    305\u001b[0m layer \u001b[39m=\u001b[39m \u001b[39mself\u001b[39m\u001b[39m.\u001b[39mfind_layer(name\u001b[39m=\u001b[39mname)\n\u001b[0;32m    306\u001b[0m \u001b[39mif\u001b[39;00m layer \u001b[39mis\u001b[39;00m \u001b[39mnot\u001b[39;00m \u001b[39mNone\u001b[39;00m:\n",
      "File \u001b[1;32mc:\\Users\\warne\\anaconda3\\envs\\gee\\lib\\site-packages\\geemap\\ee_tile_layers.py:130\u001b[0m, in \u001b[0;36mEELeafletTileLayer.__init__\u001b[1;34m(self, ee_object, vis_params, name, shown, opacity, **kwargs)\u001b[0m\n\u001b[0;32m    112\u001b[0m \u001b[39mdef\u001b[39;00m \u001b[39m__init__\u001b[39m(\n\u001b[0;32m    113\u001b[0m     \u001b[39mself\u001b[39m,\n\u001b[0;32m    114\u001b[0m     ee_object,\n\u001b[1;32m   (...)\u001b[0m\n\u001b[0;32m    119\u001b[0m     \u001b[39m*\u001b[39m\u001b[39m*\u001b[39mkwargs,\n\u001b[0;32m    120\u001b[0m ):\n\u001b[0;32m    121\u001b[0m \u001b[39m    \u001b[39m\u001b[39m\"\"\"Initialize the ipyleaflet tile layer.\u001b[39;00m\n\u001b[0;32m    122\u001b[0m \n\u001b[0;32m    123\u001b[0m \u001b[39m    Args:\u001b[39;00m\n\u001b[1;32m   (...)\u001b[0m\n\u001b[0;32m    128\u001b[0m \u001b[39m        opacity (float, optional): The layer's opacity represented as a number between 0 and 1. Defaults to 1.\u001b[39;00m\n\u001b[0;32m    129\u001b[0m \u001b[39m    \"\"\"\u001b[39;00m\n\u001b[1;32m--> 130\u001b[0m     \u001b[39mself\u001b[39m\u001b[39m.\u001b[39murl_format \u001b[39m=\u001b[39m _get_tile_url_format(ee_object, _validate_vis_params(vis_params))\n\u001b[0;32m    131\u001b[0m     \u001b[39msuper\u001b[39m()\u001b[39m.\u001b[39m\u001b[39m__init__\u001b[39m(\n\u001b[0;32m    132\u001b[0m         url\u001b[39m=\u001b[39m\u001b[39mself\u001b[39m\u001b[39m.\u001b[39murl_format,\n\u001b[0;32m    133\u001b[0m         attribution\u001b[39m=\u001b[39m\u001b[39m\"\u001b[39m\u001b[39mGoogle Earth Engine\u001b[39m\u001b[39m\"\u001b[39m,\n\u001b[1;32m   (...)\u001b[0m\n\u001b[0;32m    138\u001b[0m         \u001b[39m*\u001b[39m\u001b[39m*\u001b[39mkwargs,\n\u001b[0;32m    139\u001b[0m     )\n",
      "File \u001b[1;32mc:\\Users\\warne\\anaconda3\\envs\\gee\\lib\\site-packages\\geemap\\ee_tile_layers.py:18\u001b[0m, in \u001b[0;36m_get_tile_url_format\u001b[1;34m(ee_object, vis_params)\u001b[0m\n\u001b[0;32m     16\u001b[0m \u001b[39mdef\u001b[39;00m \u001b[39m_get_tile_url_format\u001b[39m(ee_object, vis_params):\n\u001b[0;32m     17\u001b[0m     image \u001b[39m=\u001b[39m _ee_object_to_image(ee_object, vis_params)\n\u001b[1;32m---> 18\u001b[0m     map_id_dict \u001b[39m=\u001b[39m ee\u001b[39m.\u001b[39;49mImage(image)\u001b[39m.\u001b[39;49mgetMapId(vis_params)\n\u001b[0;32m     19\u001b[0m     \u001b[39mreturn\u001b[39;00m map_id_dict[\u001b[39m\"\u001b[39m\u001b[39mtile_fetcher\u001b[39m\u001b[39m\"\u001b[39m]\u001b[39m.\u001b[39murl_format\n",
      "File \u001b[1;32mc:\\Users\\warne\\anaconda3\\envs\\gee\\lib\\site-packages\\ee\\image.py:130\u001b[0m, in \u001b[0;36mImage.getMapId\u001b[1;34m(self, vis_params)\u001b[0m\n\u001b[0;32m    128\u001b[0m vis_image, request \u001b[39m=\u001b[39m \u001b[39mself\u001b[39m\u001b[39m.\u001b[39m_apply_visualization(vis_params)\n\u001b[0;32m    129\u001b[0m request[\u001b[39m'\u001b[39m\u001b[39mimage\u001b[39m\u001b[39m'\u001b[39m] \u001b[39m=\u001b[39m vis_image\n\u001b[1;32m--> 130\u001b[0m response \u001b[39m=\u001b[39m data\u001b[39m.\u001b[39;49mgetMapId(request)\n\u001b[0;32m    131\u001b[0m response[\u001b[39m'\u001b[39m\u001b[39mimage\u001b[39m\u001b[39m'\u001b[39m] \u001b[39m=\u001b[39m \u001b[39mself\u001b[39m\n\u001b[0;32m    132\u001b[0m \u001b[39mreturn\u001b[39;00m response\n",
      "File \u001b[1;32mc:\\Users\\warne\\anaconda3\\envs\\gee\\lib\\site-packages\\ee\\data.py:647\u001b[0m, in \u001b[0;36mgetMapId\u001b[1;34m(params)\u001b[0m\n\u001b[0;32m    642\u001b[0m queryParams \u001b[39m=\u001b[39m {\n\u001b[0;32m    643\u001b[0m     \u001b[39m'\u001b[39m\u001b[39mfields\u001b[39m\u001b[39m'\u001b[39m: \u001b[39m'\u001b[39m\u001b[39mname\u001b[39m\u001b[39m'\u001b[39m,\n\u001b[0;32m    644\u001b[0m     \u001b[39m'\u001b[39m\u001b[39mbody\u001b[39m\u001b[39m'\u001b[39m: request,\n\u001b[0;32m    645\u001b[0m }\n\u001b[0;32m    646\u001b[0m _maybe_populate_workload_tag(queryParams)\n\u001b[1;32m--> 647\u001b[0m result \u001b[39m=\u001b[39m _execute_cloud_call(\n\u001b[0;32m    648\u001b[0m     _get_cloud_projects()\n\u001b[0;32m    649\u001b[0m     \u001b[39m.\u001b[39;49mmaps()\n\u001b[0;32m    650\u001b[0m     \u001b[39m.\u001b[39;49mcreate(parent\u001b[39m=\u001b[39;49m_get_projects_path(), \u001b[39m*\u001b[39;49m\u001b[39m*\u001b[39;49mqueryParams)\n\u001b[0;32m    651\u001b[0m )\n\u001b[0;32m    652\u001b[0m map_name \u001b[39m=\u001b[39m result[\u001b[39m'\u001b[39m\u001b[39mname\u001b[39m\u001b[39m'\u001b[39m]\n\u001b[0;32m    653\u001b[0m url_format \u001b[39m=\u001b[39m \u001b[39m'\u001b[39m\u001b[39m%s\u001b[39;00m\u001b[39m/\u001b[39m\u001b[39m%s\u001b[39;00m\u001b[39m/\u001b[39m\u001b[39m%s\u001b[39;00m\u001b[39m/tiles/\u001b[39m\u001b[39m{z}\u001b[39;00m\u001b[39m/\u001b[39m\u001b[39m{x}\u001b[39;00m\u001b[39m/\u001b[39m\u001b[39m{y}\u001b[39;00m\u001b[39m'\u001b[39m \u001b[39m%\u001b[39m (\n\u001b[0;32m    654\u001b[0m     _tile_base_url, _cloud_api_utils\u001b[39m.\u001b[39mVERSION, map_name)\n",
      "File \u001b[1;32mc:\\Users\\warne\\anaconda3\\envs\\gee\\lib\\site-packages\\ee\\data.py:347\u001b[0m, in \u001b[0;36m_execute_cloud_call\u001b[1;34m(call, num_retries)\u001b[0m\n\u001b[0;32m    345\u001b[0m   \u001b[39mreturn\u001b[39;00m call\u001b[39m.\u001b[39mexecute(num_retries\u001b[39m=\u001b[39mnum_retries)\n\u001b[0;32m    346\u001b[0m \u001b[39mexcept\u001b[39;00m googleapiclient\u001b[39m.\u001b[39merrors\u001b[39m.\u001b[39mHttpError \u001b[39mas\u001b[39;00m e:\n\u001b[1;32m--> 347\u001b[0m   \u001b[39mraise\u001b[39;00m _translate_cloud_exception(e)\n",
      "\u001b[1;31mEEException\u001b[0m: Image.load: Asset 'projects/nikhilrajdeep/assets/Buffer_Ganga_river' is not an Image."
     ]
    }
   ],
   "source": [
    "elevation_vis_param = { \n",
    "  'min': 240,\n",
    "  'max': 310,\n",
    "  'palette': ['blue', 'purple', 'cyan', 'green', 'yellow', 'red'],\n",
    "    'format': 'png'};\n",
    "\n",
    "Map.addLayer(ee_dataset_builder.image.select('tmin_mean'), elevation_vis_param, 'minTemperature', True)"
   ]
  },
  {
   "cell_type": "code",
   "execution_count": null,
   "metadata": {},
   "outputs": [],
   "source": [
    "elevation_vis_param = { \n",
    "  'min': -3,\n",
    "  'max': 18.0,\n",
    "  'palette':  ['000000', '478FCD', '86C58E', 'AFC35E', '8F7131',\n",
    "          'B78D4F', 'E2B8A6', 'FFFFFF'],\n",
    "    'format': 'png'};\n",
    "\n",
    "Map.addLayer(ee_dataset_builder.image.select('elevation'), elevation_vis_param, 'elevation', True)"
   ]
  },
  {
   "cell_type": "code",
   "execution_count": null,
   "metadata": {},
   "outputs": [],
   "source": [
    "Map.addLayer(ee_dataset_builder.image.select('proximity_water'), {'min': 0, 'max': 1000.0, 'palette':  ['white', 'blue']}, 'Proximity to Global Surface Water 100 meters kernel');\n"
   ]
  },
  {
   "cell_type": "code",
   "execution_count": null,
   "metadata": {},
   "outputs": [],
   "source": []
  }
 ],
 "metadata": {
  "kernelspec": {
   "display_name": "gee",
   "language": "python",
   "name": "python3"
  },
  "language_info": {
   "codemirror_mode": {
    "name": "ipython",
    "version": 3
   },
   "file_extension": ".py",
   "mimetype": "text/x-python",
   "name": "python",
   "nbconvert_exporter": "python",
   "pygments_lexer": "ipython3",
   "version": "3.10.12"
  }
 },
 "nbformat": 4,
 "nbformat_minor": 2
}
